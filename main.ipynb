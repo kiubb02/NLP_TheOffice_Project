{
 "cells": [
  {
   "cell_type": "markdown",
   "metadata": {
    "collapsed": true,
    "pycharm": {
     "name": "#%% md\n"
    }
   },
   "source": [
    "# Recognicition of The Office Quotes\n",
    "\n",
    "For the NLP project we decided to get a Dataset consisting of 2 csv files:\n",
    "- parent.csv :\n",
    "\n",
    "    These are all quotes when the character was replying to someone else from the show.\n",
    "\n",
    "- talking_head.csv :\n",
    "\n",
    "    These are all quotes, from when the characters were directly interacting with the camera.\n",
    "\n",
    "All the Quotes are from 4 main characters of the show, meaning they are the ones with the more prominent speaking roles:\n",
    "- Michael\n",
    "- Pam\n",
    "- Jim\n",
    "- Dwight"
   ]
  },
  {
   "cell_type": "markdown",
   "source": [
    "## Description of Dataset\n",
    "\n",
    "Before we start with the Preprocessing steps and working with the Data in an NLP sense. We will take a look into the Data and see what exactly it offers and how balanced it is.\n",
    "\n",
    "For that we create a DF for each kind of quote:\n",
    "- camera quote\n",
    "- reply\n",
    "\n",
    "and merge them later to have both reply and camera quote in one df for a better comparison of what we are dealing with."
   ],
   "metadata": {
    "collapsed": false,
    "pycharm": {
     "name": "#%% md\n"
    }
   }
  },
  {
   "cell_type": "code",
   "execution_count": 2,
   "outputs": [],
   "source": [
    "## --------------- IMPORTS ------------------- ##\n",
    "import pandas as pd"
   ],
   "metadata": {
    "collapsed": false,
    "pycharm": {
     "name": "#%%\n"
    }
   }
  },
  {
   "cell_type": "code",
   "execution_count": 4,
   "outputs": [],
   "source": [
    "df_reply = pd.read_csv('quotes/parent_reply.csv')\n",
    "df_monologue = pd.read_csv('quotes/talking_head.csv')"
   ],
   "metadata": {
    "collapsed": false,
    "pycharm": {
     "name": "#%%\n"
    }
   }
  },
  {
   "cell_type": "markdown",
   "source": [],
   "metadata": {
    "collapsed": false,
    "pycharm": {
     "name": "#%% md\n"
    }
   }
  },
  {
   "cell_type": "code",
   "execution_count": 17,
   "outputs": [
    {
     "data": {
      "text/plain": "(26150, 4)"
     },
     "execution_count": 17,
     "metadata": {},
     "output_type": "execute_result"
    }
   ],
   "source": [
    "df_reply.shape"
   ],
   "metadata": {
    "collapsed": false,
    "pycharm": {
     "name": "#%%\n"
    }
   }
  },
  {
   "cell_type": "markdown",
   "source": [
    "In total here we have 26150 quotes"
   ],
   "metadata": {
    "collapsed": false,
    "pycharm": {
     "name": "#%% md\n"
    }
   }
  },
  {
   "cell_type": "code",
   "execution_count": 6,
   "outputs": [
    {
     "data": {
      "text/plain": "          parent_id\ncount  26150.000000\nmean   13074.500000\nstd     7548.999106\nmin        0.000000\n25%     6537.250000\n50%    13074.500000\n75%    19611.750000\nmax    26149.000000",
      "text/html": "<div>\n<style scoped>\n    .dataframe tbody tr th:only-of-type {\n        vertical-align: middle;\n    }\n\n    .dataframe tbody tr th {\n        vertical-align: top;\n    }\n\n    .dataframe thead th {\n        text-align: right;\n    }\n</style>\n<table border=\"1\" class=\"dataframe\">\n  <thead>\n    <tr style=\"text-align: right;\">\n      <th></th>\n      <th>parent_id</th>\n    </tr>\n  </thead>\n  <tbody>\n    <tr>\n      <th>count</th>\n      <td>26150.000000</td>\n    </tr>\n    <tr>\n      <th>mean</th>\n      <td>13074.500000</td>\n    </tr>\n    <tr>\n      <th>std</th>\n      <td>7548.999106</td>\n    </tr>\n    <tr>\n      <th>min</th>\n      <td>0.000000</td>\n    </tr>\n    <tr>\n      <th>25%</th>\n      <td>6537.250000</td>\n    </tr>\n    <tr>\n      <th>50%</th>\n      <td>13074.500000</td>\n    </tr>\n    <tr>\n      <th>75%</th>\n      <td>19611.750000</td>\n    </tr>\n    <tr>\n      <th>max</th>\n      <td>26149.000000</td>\n    </tr>\n  </tbody>\n</table>\n</div>"
     },
     "execution_count": 6,
     "metadata": {},
     "output_type": "execute_result"
    }
   ],
   "source": [
    "df_reply.describe()"
   ],
   "metadata": {
    "collapsed": false,
    "pycharm": {
     "name": "#%%\n"
    }
   }
  },
  {
   "cell_type": "code",
   "execution_count": 5,
   "outputs": [
    {
     "data": {
      "text/plain": "   parent_id                                      parent  \\\n0          0    Oh, I told you. I couldn’t close it. So…   \n1          1  Actually, you called me in here, but yeah.   \n2          2                         Well. I don’t know.   \n3          3                                       What?   \n4          4                       Uh, yeah. Just a fax.   \n\n                                               reply character  \n0  So you’ve come to the master for guidance? Is ...   Michael  \n1    All right. Well, let me show you how it’s done.   Michael  \n2  If you think she’s cute now, you should have s...   Michael  \n3                                      Any messages?   Michael  \n4  Oh! Pam, this is from Corporate. How many time...   Michael  ",
      "text/html": "<div>\n<style scoped>\n    .dataframe tbody tr th:only-of-type {\n        vertical-align: middle;\n    }\n\n    .dataframe tbody tr th {\n        vertical-align: top;\n    }\n\n    .dataframe thead th {\n        text-align: right;\n    }\n</style>\n<table border=\"1\" class=\"dataframe\">\n  <thead>\n    <tr style=\"text-align: right;\">\n      <th></th>\n      <th>parent_id</th>\n      <th>parent</th>\n      <th>reply</th>\n      <th>character</th>\n    </tr>\n  </thead>\n  <tbody>\n    <tr>\n      <th>0</th>\n      <td>0</td>\n      <td>Oh, I told you. I couldn’t close it. So…</td>\n      <td>So you’ve come to the master for guidance? Is ...</td>\n      <td>Michael</td>\n    </tr>\n    <tr>\n      <th>1</th>\n      <td>1</td>\n      <td>Actually, you called me in here, but yeah.</td>\n      <td>All right. Well, let me show you how it’s done.</td>\n      <td>Michael</td>\n    </tr>\n    <tr>\n      <th>2</th>\n      <td>2</td>\n      <td>Well. I don’t know.</td>\n      <td>If you think she’s cute now, you should have s...</td>\n      <td>Michael</td>\n    </tr>\n    <tr>\n      <th>3</th>\n      <td>3</td>\n      <td>What?</td>\n      <td>Any messages?</td>\n      <td>Michael</td>\n    </tr>\n    <tr>\n      <th>4</th>\n      <td>4</td>\n      <td>Uh, yeah. Just a fax.</td>\n      <td>Oh! Pam, this is from Corporate. How many time...</td>\n      <td>Michael</td>\n    </tr>\n  </tbody>\n</table>\n</div>"
     },
     "execution_count": 5,
     "metadata": {},
     "output_type": "execute_result"
    }
   ],
   "source": [
    "df_reply.head()"
   ],
   "metadata": {
    "collapsed": false,
    "pycharm": {
     "name": "#%%\n"
    }
   }
  },
  {
   "cell_type": "code",
   "execution_count": 14,
   "outputs": [
    {
     "data": {
      "text/plain": "<AxesSubplot:>"
     },
     "execution_count": 14,
     "metadata": {},
     "output_type": "execute_result"
    },
    {
     "data": {
      "text/plain": "<Figure size 432x288 with 1 Axes>",
      "image/png": "[encoded data removed]"
     },
     "metadata": {
      "needs_background": "light"
     },
     "output_type": "display_data"
    }
   ],
   "source": [
    "# now lets get the counts of the characters appearances in here\n",
    "char_count = df_reply['character'].value_counts()\n",
    "# next we want t visualize that in a barchart to get an overview of representation and balance\n",
    "char_count.plot(kind=\"barh\")"
   ],
   "metadata": {
    "collapsed": false,
    "pycharm": {
     "name": "#%%\n"
    }
   }
  },
  {
   "cell_type": "code",
   "execution_count": 15,
   "outputs": [
    {
     "data": {
      "text/plain": "<AxesSubplot:ylabel='character'>"
     },
     "execution_count": 15,
     "metadata": {},
     "output_type": "execute_result"
    },
    {
     "data": {
      "text/plain": "<Figure size 432x288 with 1 Axes>",
      "image/png": "[encoded data removed]"
     },
     "metadata": {},
     "output_type": "display_data"
    }
   ],
   "source": [
    "char_count.plot(kind=\"pie\")"
   ],
   "metadata": {
    "collapsed": false,
    "pycharm": {
     "name": "#%%\n"
    }
   }
  },
  {
   "cell_type": "code",
   "execution_count": 8,
   "outputs": [
    {
     "data": {
      "text/plain": "Michael    9859\nDwight     6163\nJim        5678\nPam        4450\nName: character, dtype: int64"
     },
     "execution_count": 8,
     "metadata": {},
     "output_type": "execute_result"
    }
   ],
   "source": [
    "char_count"
   ],
   "metadata": {
    "collapsed": false,
    "pycharm": {
     "name": "#%%\n"
    }
   }
  },
  {
   "cell_type": "markdown",
   "source": [
    "Here we can see that here is a clear imbalance when it comes to characters replies.\n",
    "Michael has the most with 9859 quotes saved in this set, nearly as much as the quotes of jim and pam combined. Therefore Jim and Pam have the least representation in this set.\n",
    "\n",
    "The reason behind this though, is that Michael is the main character and his speaking role and time on camera is much higher compared to Jim and Pam."
   ],
   "metadata": {
    "collapsed": false,
    "pycharm": {
     "name": "#%% md\n"
    }
   }
  },
  {
   "cell_type": "markdown",
   "source": [
    "### Monologue Dataset"
   ],
   "metadata": {
    "collapsed": false,
    "pycharm": {
     "name": "#%% md\n"
    }
   }
  },
  {
   "cell_type": "code",
   "execution_count": 18,
   "outputs": [
    {
     "data": {
      "text/plain": "(1749, 3)"
     },
     "execution_count": 18,
     "metadata": {},
     "output_type": "execute_result"
    }
   ],
   "source": [
    "df_monologue.shape"
   ],
   "metadata": {
    "collapsed": false,
    "pycharm": {
     "name": "#%%\n"
    }
   }
  },
  {
   "cell_type": "markdown",
   "source": [
    "Here we can see we have crucially less quotes in this set. In total 1749 datapoints."
   ],
   "metadata": {
    "collapsed": false,
    "pycharm": {
     "name": "#%% md\n"
    }
   }
  },
  {
   "cell_type": "code",
   "execution_count": 9,
   "outputs": [
    {
     "data": {
      "text/plain": "          quote_id\ncount  1749.000000\nmean    874.000000\nstd     505.037127\nmin       0.000000\n25%     437.000000\n50%     874.000000\n75%    1311.000000\nmax    1748.000000",
      "text/html": "<div>\n<style scoped>\n    .dataframe tbody tr th:only-of-type {\n        vertical-align: middle;\n    }\n\n    .dataframe tbody tr th {\n        vertical-align: top;\n    }\n\n    .dataframe thead th {\n        text-align: right;\n    }\n</style>\n<table border=\"1\" class=\"dataframe\">\n  <thead>\n    <tr style=\"text-align: right;\">\n      <th></th>\n      <th>quote_id</th>\n    </tr>\n  </thead>\n  <tbody>\n    <tr>\n      <th>count</th>\n      <td>1749.000000</td>\n    </tr>\n    <tr>\n      <th>mean</th>\n      <td>874.000000</td>\n    </tr>\n    <tr>\n      <th>std</th>\n      <td>505.037127</td>\n    </tr>\n    <tr>\n      <th>min</th>\n      <td>0.000000</td>\n    </tr>\n    <tr>\n      <th>25%</th>\n      <td>437.000000</td>\n    </tr>\n    <tr>\n      <th>50%</th>\n      <td>874.000000</td>\n    </tr>\n    <tr>\n      <th>75%</th>\n      <td>1311.000000</td>\n    </tr>\n    <tr>\n      <th>max</th>\n      <td>1748.000000</td>\n    </tr>\n  </tbody>\n</table>\n</div>"
     },
     "execution_count": 9,
     "metadata": {},
     "output_type": "execute_result"
    }
   ],
   "source": [
    "df_monologue.describe()"
   ],
   "metadata": {
    "collapsed": false,
    "pycharm": {
     "name": "#%%\n"
    }
   }
  },
  {
   "cell_type": "code",
   "execution_count": 10,
   "outputs": [
    {
     "data": {
      "text/plain": "   quote_id                                              quote character\n0         0  Yes, I’d like to speak to your office manager,...   Michael\n1         1  People say I am the best boss. They go, “God w...   Michael\n2         2  Corporate really doesn’t really interfere with...   Michael\n3         3  Am I going to tell them? No, I am not going to...   Michael\n4         4  I think I’m a role model here. I think I garne...   Michael",
      "text/html": "<div>\n<style scoped>\n    .dataframe tbody tr th:only-of-type {\n        vertical-align: middle;\n    }\n\n    .dataframe tbody tr th {\n        vertical-align: top;\n    }\n\n    .dataframe thead th {\n        text-align: right;\n    }\n</style>\n<table border=\"1\" class=\"dataframe\">\n  <thead>\n    <tr style=\"text-align: right;\">\n      <th></th>\n      <th>quote_id</th>\n      <th>quote</th>\n      <th>character</th>\n    </tr>\n  </thead>\n  <tbody>\n    <tr>\n      <th>0</th>\n      <td>0</td>\n      <td>Yes, I’d like to speak to your office manager,...</td>\n      <td>Michael</td>\n    </tr>\n    <tr>\n      <th>1</th>\n      <td>1</td>\n      <td>People say I am the best boss. They go, “God w...</td>\n      <td>Michael</td>\n    </tr>\n    <tr>\n      <th>2</th>\n      <td>2</td>\n      <td>Corporate really doesn’t really interfere with...</td>\n      <td>Michael</td>\n    </tr>\n    <tr>\n      <th>3</th>\n      <td>3</td>\n      <td>Am I going to tell them? No, I am not going to...</td>\n      <td>Michael</td>\n    </tr>\n    <tr>\n      <th>4</th>\n      <td>4</td>\n      <td>I think I’m a role model here. I think I garne...</td>\n      <td>Michael</td>\n    </tr>\n  </tbody>\n</table>\n</div>"
     },
     "execution_count": 10,
     "metadata": {},
     "output_type": "execute_result"
    }
   ],
   "source": [
    "df_monologue.head()"
   ],
   "metadata": {
    "collapsed": false,
    "pycharm": {
     "name": "#%%\n"
    }
   }
  },
  {
   "cell_type": "code",
   "execution_count": 11,
   "outputs": [
    {
     "data": {
      "text/plain": "<AxesSubplot:>"
     },
     "execution_count": 11,
     "metadata": {},
     "output_type": "execute_result"
    },
    {
     "data": {
      "text/plain": "<Figure size 432x288 with 1 Axes>",
      "image/png": "[encoded data removed]"
     },
     "metadata": {
      "needs_background": "light"
     },
     "output_type": "display_data"
    }
   ],
   "source": [
    "char_count = df_monologue['character'].value_counts()\n",
    "# next we want t visualize that in a barchart to get an overview of representation and balance\n",
    "char_count.plot(kind=\"barh\")"
   ],
   "metadata": {
    "collapsed": false,
    "pycharm": {
     "name": "#%%\n"
    }
   }
  },
  {
   "cell_type": "code",
   "execution_count": 13,
   "outputs": [
    {
     "data": {
      "text/plain": "<AxesSubplot:ylabel='character'>"
     },
     "execution_count": 13,
     "metadata": {},
     "output_type": "execute_result"
    },
    {
     "data": {
      "text/plain": "<Figure size 432x288 with 1 Axes>",
      "image/png": "[encoded data removed]"
     },
     "metadata": {},
     "output_type": "display_data"
    }
   ],
   "source": [
    "char_count.plot(kind=\"pie\")"
   ],
   "metadata": {
    "collapsed": false,
    "pycharm": {
     "name": "#%%\n"
    }
   }
  },
  {
   "cell_type": "code",
   "execution_count": 12,
   "outputs": [
    {
     "data": {
      "text/plain": "Michael    743\nDwight     419\nJim        306\nPam        281\nName: character, dtype: int64"
     },
     "execution_count": 12,
     "metadata": {},
     "output_type": "execute_result"
    }
   ],
   "source": [
    "char_count"
   ],
   "metadata": {
    "collapsed": false,
    "pycharm": {
     "name": "#%%\n"
    }
   }
  },
  {
   "cell_type": "markdown",
   "source": [
    "Repeatedly we can see that here once again an imbalance is present between michael and the other three characters."
   ],
   "metadata": {
    "collapsed": false,
    "pycharm": {
     "name": "#%% md\n"
    }
   }
  },
  {
   "cell_type": "markdown",
   "source": [
    "### Merged Data\n",
    "\n",
    "Now lets merge the two dataframes and see how well each character is represented. We can then also use this dataset for preprocessing and training the model."
   ],
   "metadata": {
    "collapsed": false,
    "pycharm": {
     "name": "#%% md\n"
    }
   }
  },
  {
   "cell_type": "code",
   "execution_count": 23,
   "outputs": [],
   "source": [
    "df_for_merge_reply = df_reply[['reply', 'character']]\n",
    "df_for_merge_monologue = df_monologue[['quote', 'character']]\n",
    "# to make the merge possible we have to rename the column names of the ro merge monologue dataframe\n",
    "df_for_merge_reply.columns = ['quote','character']\n",
    "df_merged = pd.concat([df_for_merge_reply, df_for_merge_monologue], ignore_index = True)"
   ],
   "metadata": {
    "collapsed": false,
    "pycharm": {
     "name": "#%%\n"
    }
   }
  },
  {
   "cell_type": "code",
   "execution_count": 24,
   "outputs": [
    {
     "data": {
      "text/plain": "(27899, 2)"
     },
     "execution_count": 24,
     "metadata": {},
     "output_type": "execute_result"
    }
   ],
   "source": [
    "df_merged.shape"
   ],
   "metadata": {
    "collapsed": false,
    "pycharm": {
     "name": "#%%\n"
    }
   }
  },
  {
   "cell_type": "code",
   "execution_count": 25,
   "outputs": [
    {
     "data": {
      "text/plain": "                                               quote character\n0  So you’ve come to the master for guidance? Is ...   Michael\n1    All right. Well, let me show you how it’s done.   Michael\n2  If you think she’s cute now, you should have s...   Michael\n3                                      Any messages?   Michael\n4  Oh! Pam, this is from Corporate. How many time...   Michael",
      "text/html": "<div>\n<style scoped>\n    .dataframe tbody tr th:only-of-type {\n        vertical-align: middle;\n    }\n\n    .dataframe tbody tr th {\n        vertical-align: top;\n    }\n\n    .dataframe thead th {\n        text-align: right;\n    }\n</style>\n<table border=\"1\" class=\"dataframe\">\n  <thead>\n    <tr style=\"text-align: right;\">\n      <th></th>\n      <th>quote</th>\n      <th>character</th>\n    </tr>\n  </thead>\n  <tbody>\n    <tr>\n      <th>0</th>\n      <td>So you’ve come to the master for guidance? Is ...</td>\n      <td>Michael</td>\n    </tr>\n    <tr>\n      <th>1</th>\n      <td>All right. Well, let me show you how it’s done.</td>\n      <td>Michael</td>\n    </tr>\n    <tr>\n      <th>2</th>\n      <td>If you think she’s cute now, you should have s...</td>\n      <td>Michael</td>\n    </tr>\n    <tr>\n      <th>3</th>\n      <td>Any messages?</td>\n      <td>Michael</td>\n    </tr>\n    <tr>\n      <th>4</th>\n      <td>Oh! Pam, this is from Corporate. How many time...</td>\n      <td>Michael</td>\n    </tr>\n  </tbody>\n</table>\n</div>"
     },
     "execution_count": 25,
     "metadata": {},
     "output_type": "execute_result"
    }
   ],
   "source": [
    "df_merged.head()"
   ],
   "metadata": {
    "collapsed": false,
    "pycharm": {
     "name": "#%%\n"
    }
   }
  },
  {
   "cell_type": "code",
   "execution_count": 26,
   "outputs": [
    {
     "data": {
      "text/plain": "<AxesSubplot:>"
     },
     "execution_count": 26,
     "metadata": {},
     "output_type": "execute_result"
    },
    {
     "data": {
      "text/plain": "<Figure size 432x288 with 1 Axes>",
      "image/png": "[encoded data removed]"
     },
     "metadata": {
      "needs_background": "light"
     },
     "output_type": "display_data"
    }
   ],
   "source": [
    "char_count = df_merged['character'].value_counts()\n",
    "char_count.plot(kind=\"barh\")"
   ],
   "metadata": {
    "collapsed": false,
    "pycharm": {
     "name": "#%%\n"
    }
   }
  },
  {
   "cell_type": "code",
   "execution_count": 27,
   "outputs": [
    {
     "data": {
      "text/plain": "<AxesSubplot:ylabel='character'>"
     },
     "execution_count": 27,
     "metadata": {},
     "output_type": "execute_result"
    },
    {
     "data": {
      "text/plain": "<Figure size 432x288 with 1 Axes>",
      "image/png": "[encoded data removed]"
     },
     "metadata": {},
     "output_type": "display_data"
    }
   ],
   "source": [
    "char_count.plot(kind=\"pie\")"
   ],
   "metadata": {
    "collapsed": false,
    "pycharm": {
     "name": "#%%\n"
    }
   }
  },
  {
   "cell_type": "code",
   "execution_count": 30,
   "outputs": [
    {
     "data": {
      "text/plain": "<AxesSubplot:>"
     },
     "execution_count": 30,
     "metadata": {},
     "output_type": "execute_result"
    },
    {
     "data": {
      "text/plain": "<Figure size 432x288 with 1 Axes>",
      "image/png": "[encoded data removed]"
     },
     "metadata": {
      "needs_background": "light"
     },
     "output_type": "display_data"
    }
   ],
   "source": [
    "df_merged['character'].value_counts(normalize=True).plot(kind=\"barh\")"
   ],
   "metadata": {
    "collapsed": false,
    "pycharm": {
     "name": "#%%\n"
    }
   }
  },
  {
   "cell_type": "code",
   "execution_count": 31,
   "outputs": [
    {
     "data": {
      "text/plain": "Michael    10602\nDwight      6582\nJim         5984\nPam         4731\nName: character, dtype: int64"
     },
     "execution_count": 31,
     "metadata": {},
     "output_type": "execute_result"
    }
   ],
   "source": [
    "char_count"
   ],
   "metadata": {
    "collapsed": false,
    "pycharm": {
     "name": "#%%\n"
    }
   }
  },
  {
   "cell_type": "markdown",
   "source": [
    "### Conclusion\n",
    "\n",
    "In both Sets there is an imbalance between the more and less prominent speaking characters in the show, making Michael the one with the most quotes and therefore the best represented.\n",
    "\n",
    "- Michael has a total of 10602 quotes in the entire dataset\n",
    "- Dwight has a total of 6582 quotes\n",
    "- Jim has a total of 5984 quotes\n",
    "- Pam has a total of 4731 quotes"
   ],
   "metadata": {
    "collapsed": false,
    "pycharm": {
     "name": "#%% md\n"
    }
   }
  },
  {
   "cell_type": "markdown",
   "source": [
    "## Preprocessing\n",
    "\n",
    "Before we can work with the quotes and use it for training we need to preprocess each of them.\n",
    "\n",
    "Typical preprocessing steps are:\n",
    "1. Tokenization\n",
    "2. Lower casing\n",
    "3. Stop Word Removal\n",
    "4. Stemming\n",
    "5. Lemmatization\n",
    "\n",
    "And these are also the steps we will go through with our dataset. To make it easier we will be using the merged dataframe.\n",
    "\n",
    "Why do we need preprocessing?\n",
    "- We want to change the raw data into a clean data set. It reduces noisy data and other inconcistencies which would be really inconvenient to have in a dataset when training a model."
   ],
   "metadata": {
    "collapsed": false,
    "pycharm": {
     "name": "#%% md\n"
    }
   }
  }
 ],
 "metadata": {
  "kernelspec": {
   "display_name": "Python 3",
   "language": "python",
   "name": "python3"
  },
  "language_info": {
   "codemirror_mode": {
    "name": "ipython",
    "version": 2
   },
   "file_extension": ".py",
   "mimetype": "text/x-python",
   "name": "python",
   "nbconvert_exporter": "python",
   "pygments_lexer": "ipython2",
   "version": "2.7.6"
  }
 },
 "nbformat": 4,
 "nbformat_minor": 0
}