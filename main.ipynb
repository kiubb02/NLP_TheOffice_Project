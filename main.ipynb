{
 "cells": [
  {
   "cell_type": "markdown",
   "metadata": {
    "collapsed": true,
    "pycharm": {
     "name": "#%% md\n"
    }
   },
   "source": [
    "# Recognicition of The Office Quotes\n",
    "\n",
    "For the NLP project we decided to get a Dataset consisting of 2 csv files:\n",
    "- parent.csv :\n",
    "\n",
    "    These are all quotes when the character was replying to someone else from the show.\n",
    "\n",
    "- talking_head.csv :\n",
    "\n",
    "    These are all quotes, from when the characters were directly interacting with the camera.\n",
    "\n",
    "All the Quotes are from 4 main characters of the show, meaning they are the ones with the more prominent speaking roles:\n",
    "- Michael\n",
    "- Pam\n",
    "- Jim\n",
    "- Dwight"
   ]
  },
  {
   "cell_type": "markdown",
   "source": [
    "## Description of Dataset\n",
    "\n",
    "Before we start with the Preprocessing steps and working with the Data in an NLP sense. We will take a look into the Data and see what exactly it offers and how balanced it is."
   ],
   "metadata": {
    "collapsed": false,
    "pycharm": {
     "name": "#%% md\n"
    }
   }
  },
  {
   "cell_type": "code",
   "execution_count": null,
   "outputs": [],
   "source": [],
   "metadata": {
    "collapsed": false,
    "pycharm": {
     "name": "#%%\n"
    }
   }
  }
 ],
 "metadata": {
  "kernelspec": {
   "display_name": "Python 3",
   "language": "python",
   "name": "python3"
  },
  "language_info": {
   "codemirror_mode": {
    "name": "ipython",
    "version": 2
   },
   "file_extension": ".py",
   "mimetype": "text/x-python",
   "name": "python",
   "nbconvert_exporter": "python",
   "pygments_lexer": "ipython2",
   "version": "2.7.6"
  }
 },
 "nbformat": 4,
 "nbformat_minor": 0
}