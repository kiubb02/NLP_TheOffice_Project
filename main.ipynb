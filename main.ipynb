{
 "cells": [
  {
   "cell_type": "markdown",
   "metadata": {
    "collapsed": true,
    "pycharm": {
     "name": "#%% md\n"
    }
   },
   "source": [
    "# Recognicition of The Office Quotes\n",
    "\n",
    "For the NLP project we decided to get a Dataset consisting of 2 csv files:\n",
    "- parent.csv :\n",
    "\n",
    "    These are all quotes when the character was replying to someone else from the show.\n",
    "\n",
    "- talking_head.csv :\n",
    "\n",
    "    These are all quotes, from when the characters were directly interacting with the camera.\n",
    "\n",
    "All the Quotes are from 4 main characters of the show, meaning they are the ones with the more prominent speaking roles:\n",
    "- Michael\n",
    "- Pam\n",
    "- Jim\n",
    "- Dwight"
   ]
  },
  {
   "cell_type": "markdown",
   "source": [
    "## Description of Dataset\n",
    "\n",
    "Before we start with the Preprocessing steps and working with the Data in an NLP sense. We will take a look into the Data and see what exactly it offers and how balanced it is.\n",
    "\n",
    "For that we create a DF for each kind of quote:\n",
    "- camera quote\n",
    "- reply\n",
    "\n",
    "and merge them later to have both reply and camera quote in one df for a better comparison of what we are dealing with."
   ],
   "metadata": {
    "collapsed": false,
    "pycharm": {
     "name": "#%% md\n"
    }
   }
  },
  {
   "cell_type": "code",
   "execution_count": 104,
   "outputs": [],
   "source": [
    "## --------------- IMPORTS ------------------- ##\n",
    "import pandas as pd\n",
    "import nltk\n",
    "from nltk.corpus import stopwords\n",
    "from nltk.tokenize import word_tokenize\n",
    "from nltk.stem.porter import PorterStemmer\n",
    "from sklearn.feature_extraction.text import CountVectorizer\n",
    "import re\n",
    "from sklearn.model_selection import train_test_split\n",
    "from sklearn.feature_extraction.text import TfidfVectorizer\n",
    "import gensim\n",
    "import tensorflow as tf"
   ],
   "metadata": {
    "collapsed": false,
    "pycharm": {
     "name": "#%%\n"
    }
   }
  },
  {
   "cell_type": "code",
   "execution_count": 105,
   "outputs": [],
   "source": [
    "df_reply = pd.read_csv('quotes/parent_reply.csv')\n",
    "df_monologue = pd.read_csv('quotes/talking_head.csv')"
   ],
   "metadata": {
    "collapsed": false,
    "pycharm": {
     "name": "#%%\n"
    }
   }
  },
  {
   "cell_type": "markdown",
   "source": [],
   "metadata": {
    "collapsed": false,
    "pycharm": {
     "name": "#%% md\n"
    }
   }
  },
  {
   "cell_type": "code",
   "execution_count": 106,
   "outputs": [
    {
     "data": {
      "text/plain": "(26150, 4)"
     },
     "execution_count": 106,
     "metadata": {},
     "output_type": "execute_result"
    }
   ],
   "source": [
    "df_reply.shape"
   ],
   "metadata": {
    "collapsed": false,
    "pycharm": {
     "name": "#%%\n"
    }
   }
  },
  {
   "cell_type": "markdown",
   "source": [
    "In total here we have 26150 quotes"
   ],
   "metadata": {
    "collapsed": false,
    "pycharm": {
     "name": "#%% md\n"
    }
   }
  },
  {
   "cell_type": "code",
   "execution_count": 107,
   "outputs": [
    {
     "data": {
      "text/plain": "          parent_id\ncount  26150.000000\nmean   13074.500000\nstd     7548.999106\nmin        0.000000\n25%     6537.250000\n50%    13074.500000\n75%    19611.750000\nmax    26149.000000",
      "text/html": "<div>\n<style scoped>\n    .dataframe tbody tr th:only-of-type {\n        vertical-align: middle;\n    }\n\n    .dataframe tbody tr th {\n        vertical-align: top;\n    }\n\n    .dataframe thead th {\n        text-align: right;\n    }\n</style>\n<table border=\"1\" class=\"dataframe\">\n  <thead>\n    <tr style=\"text-align: right;\">\n      <th></th>\n      <th>parent_id</th>\n    </tr>\n  </thead>\n  <tbody>\n    <tr>\n      <th>count</th>\n      <td>26150.000000</td>\n    </tr>\n    <tr>\n      <th>mean</th>\n      <td>13074.500000</td>\n    </tr>\n    <tr>\n      <th>std</th>\n      <td>7548.999106</td>\n    </tr>\n    <tr>\n      <th>min</th>\n      <td>0.000000</td>\n    </tr>\n    <tr>\n      <th>25%</th>\n      <td>6537.250000</td>\n    </tr>\n    <tr>\n      <th>50%</th>\n      <td>13074.500000</td>\n    </tr>\n    <tr>\n      <th>75%</th>\n      <td>19611.750000</td>\n    </tr>\n    <tr>\n      <th>max</th>\n      <td>26149.000000</td>\n    </tr>\n  </tbody>\n</table>\n</div>"
     },
     "execution_count": 107,
     "metadata": {},
     "output_type": "execute_result"
    }
   ],
   "source": [
    "df_reply.describe()"
   ],
   "metadata": {
    "collapsed": false,
    "pycharm": {
     "name": "#%%\n"
    }
   }
  },
  {
   "cell_type": "code",
   "execution_count": 108,
   "outputs": [
    {
     "data": {
      "text/plain": "   parent_id                                      parent  \\\n0          0    Oh, I told you. I couldn’t close it. So…   \n1          1  Actually, you called me in here, but yeah.   \n2          2                         Well. I don’t know.   \n3          3                                       What?   \n4          4                       Uh, yeah. Just a fax.   \n\n                                               reply character  \n0  So you’ve come to the master for guidance? Is ...   Michael  \n1    All right. Well, let me show you how it’s done.   Michael  \n2  If you think she’s cute now, you should have s...   Michael  \n3                                      Any messages?   Michael  \n4  Oh! Pam, this is from Corporate. How many time...   Michael  ",
      "text/html": "<div>\n<style scoped>\n    .dataframe tbody tr th:only-of-type {\n        vertical-align: middle;\n    }\n\n    .dataframe tbody tr th {\n        vertical-align: top;\n    }\n\n    .dataframe thead th {\n        text-align: right;\n    }\n</style>\n<table border=\"1\" class=\"dataframe\">\n  <thead>\n    <tr style=\"text-align: right;\">\n      <th></th>\n      <th>parent_id</th>\n      <th>parent</th>\n      <th>reply</th>\n      <th>character</th>\n    </tr>\n  </thead>\n  <tbody>\n    <tr>\n      <th>0</th>\n      <td>0</td>\n      <td>Oh, I told you. I couldn’t close it. So…</td>\n      <td>So you’ve come to the master for guidance? Is ...</td>\n      <td>Michael</td>\n    </tr>\n    <tr>\n      <th>1</th>\n      <td>1</td>\n      <td>Actually, you called me in here, but yeah.</td>\n      <td>All right. Well, let me show you how it’s done.</td>\n      <td>Michael</td>\n    </tr>\n    <tr>\n      <th>2</th>\n      <td>2</td>\n      <td>Well. I don’t know.</td>\n      <td>If you think she’s cute now, you should have s...</td>\n      <td>Michael</td>\n    </tr>\n    <tr>\n      <th>3</th>\n      <td>3</td>\n      <td>What?</td>\n      <td>Any messages?</td>\n      <td>Michael</td>\n    </tr>\n    <tr>\n      <th>4</th>\n      <td>4</td>\n      <td>Uh, yeah. Just a fax.</td>\n      <td>Oh! Pam, this is from Corporate. How many time...</td>\n      <td>Michael</td>\n    </tr>\n  </tbody>\n</table>\n</div>"
     },
     "execution_count": 108,
     "metadata": {},
     "output_type": "execute_result"
    }
   ],
   "source": [
    "df_reply.head()"
   ],
   "metadata": {
    "collapsed": false,
    "pycharm": {
     "name": "#%%\n"
    }
   }
  },
  {
   "cell_type": "code",
   "execution_count": 109,
   "outputs": [
    {
     "data": {
      "text/plain": "<AxesSubplot:>"
     },
     "execution_count": 109,
     "metadata": {},
     "output_type": "execute_result"
    },
    {
     "data": {
      "text/plain": "<Figure size 432x288 with 1 Axes>",
      "image/png": "[encoded data removed]"
     },
     "metadata": {},
     "output_type": "display_data"
    }
   ],
   "source": [
    "# now lets get the counts of the characters appearances in here\n",
    "char_count = df_reply['character'].value_counts()\n",
    "# next we want t0 visualize that in a barchart to get an overview of representation and balance\n",
    "char_count.plot(kind=\"barh\")"
   ],
   "metadata": {
    "collapsed": false,
    "pycharm": {
     "name": "#%%\n"
    }
   }
  },
  {
   "cell_type": "code",
   "execution_count": 110,
   "outputs": [
    {
     "data": {
      "text/plain": "<AxesSubplot:ylabel='character'>"
     },
     "execution_count": 110,
     "metadata": {},
     "output_type": "execute_result"
    },
    {
     "data": {
      "text/plain": "<Figure size 432x288 with 1 Axes>",
      "image/png": "[encoded data removed]"
     },
     "metadata": {},
     "output_type": "display_data"
    }
   ],
   "source": [
    "char_count.plot(kind=\"pie\")"
   ],
   "metadata": {
    "collapsed": false,
    "pycharm": {
     "name": "#%%\n"
    }
   }
  },
  {
   "cell_type": "code",
   "execution_count": 111,
   "outputs": [
    {
     "data": {
      "text/plain": "Michael    9859\nDwight     6163\nJim        5678\nPam        4450\nName: character, dtype: int64"
     },
     "execution_count": 111,
     "metadata": {},
     "output_type": "execute_result"
    }
   ],
   "source": [
    "char_count"
   ],
   "metadata": {
    "collapsed": false,
    "pycharm": {
     "name": "#%%\n"
    }
   }
  },
  {
   "cell_type": "markdown",
   "source": [
    "Here we can see that here is a clear imbalance when it comes to characters replies.\n",
    "Michael has the most with 9859 quotes saved in this set, nearly as much as the quotes of jim and pam combined. Therefore Jim and Pam have the least representation in this set.\n",
    "\n",
    "The reason behind this though, is that Michael is the main character and his speaking role and time on camera is much higher compared to Jim and Pam."
   ],
   "metadata": {
    "collapsed": false,
    "pycharm": {
     "name": "#%% md\n"
    }
   }
  },
  {
   "cell_type": "markdown",
   "source": [
    "### Monologue Dataset"
   ],
   "metadata": {
    "collapsed": false,
    "pycharm": {
     "name": "#%% md\n"
    }
   }
  },
  {
   "cell_type": "code",
   "execution_count": 112,
   "outputs": [
    {
     "data": {
      "text/plain": "(1749, 3)"
     },
     "execution_count": 112,
     "metadata": {},
     "output_type": "execute_result"
    }
   ],
   "source": [
    "df_monologue.shape"
   ],
   "metadata": {
    "collapsed": false,
    "pycharm": {
     "name": "#%%\n"
    }
   }
  },
  {
   "cell_type": "markdown",
   "source": [
    "Here we can see we have crucially less quotes in this set. In total 1749 datapoints."
   ],
   "metadata": {
    "collapsed": false,
    "pycharm": {
     "name": "#%% md\n"
    }
   }
  },
  {
   "cell_type": "code",
   "execution_count": 113,
   "outputs": [
    {
     "data": {
      "text/plain": "          quote_id\ncount  1749.000000\nmean    874.000000\nstd     505.037127\nmin       0.000000\n25%     437.000000\n50%     874.000000\n75%    1311.000000\nmax    1748.000000",
      "text/html": "<div>\n<style scoped>\n    .dataframe tbody tr th:only-of-type {\n        vertical-align: middle;\n    }\n\n    .dataframe tbody tr th {\n        vertical-align: top;\n    }\n\n    .dataframe thead th {\n        text-align: right;\n    }\n</style>\n<table border=\"1\" class=\"dataframe\">\n  <thead>\n    <tr style=\"text-align: right;\">\n      <th></th>\n      <th>quote_id</th>\n    </tr>\n  </thead>\n  <tbody>\n    <tr>\n      <th>count</th>\n      <td>1749.000000</td>\n    </tr>\n    <tr>\n      <th>mean</th>\n      <td>874.000000</td>\n    </tr>\n    <tr>\n      <th>std</th>\n      <td>505.037127</td>\n    </tr>\n    <tr>\n      <th>min</th>\n      <td>0.000000</td>\n    </tr>\n    <tr>\n      <th>25%</th>\n      <td>437.000000</td>\n    </tr>\n    <tr>\n      <th>50%</th>\n      <td>874.000000</td>\n    </tr>\n    <tr>\n      <th>75%</th>\n      <td>1311.000000</td>\n    </tr>\n    <tr>\n      <th>max</th>\n      <td>1748.000000</td>\n    </tr>\n  </tbody>\n</table>\n</div>"
     },
     "execution_count": 113,
     "metadata": {},
     "output_type": "execute_result"
    }
   ],
   "source": [
    "df_monologue.describe()"
   ],
   "metadata": {
    "collapsed": false,
    "pycharm": {
     "name": "#%%\n"
    }
   }
  },
  {
   "cell_type": "code",
   "execution_count": 114,
   "outputs": [
    {
     "data": {
      "text/plain": "   quote_id                                              quote character\n0         0  Yes, I’d like to speak to your office manager,...   Michael\n1         1  People say I am the best boss. They go, “God w...   Michael\n2         2  Corporate really doesn’t really interfere with...   Michael\n3         3  Am I going to tell them? No, I am not going to...   Michael\n4         4  I think I’m a role model here. I think I garne...   Michael",
      "text/html": "<div>\n<style scoped>\n    .dataframe tbody tr th:only-of-type {\n        vertical-align: middle;\n    }\n\n    .dataframe tbody tr th {\n        vertical-align: top;\n    }\n\n    .dataframe thead th {\n        text-align: right;\n    }\n</style>\n<table border=\"1\" class=\"dataframe\">\n  <thead>\n    <tr style=\"text-align: right;\">\n      <th></th>\n      <th>quote_id</th>\n      <th>quote</th>\n      <th>character</th>\n    </tr>\n  </thead>\n  <tbody>\n    <tr>\n      <th>0</th>\n      <td>0</td>\n      <td>Yes, I’d like to speak to your office manager,...</td>\n      <td>Michael</td>\n    </tr>\n    <tr>\n      <th>1</th>\n      <td>1</td>\n      <td>People say I am the best boss. They go, “God w...</td>\n      <td>Michael</td>\n    </tr>\n    <tr>\n      <th>2</th>\n      <td>2</td>\n      <td>Corporate really doesn’t really interfere with...</td>\n      <td>Michael</td>\n    </tr>\n    <tr>\n      <th>3</th>\n      <td>3</td>\n      <td>Am I going to tell them? No, I am not going to...</td>\n      <td>Michael</td>\n    </tr>\n    <tr>\n      <th>4</th>\n      <td>4</td>\n      <td>I think I’m a role model here. I think I garne...</td>\n      <td>Michael</td>\n    </tr>\n  </tbody>\n</table>\n</div>"
     },
     "execution_count": 114,
     "metadata": {},
     "output_type": "execute_result"
    }
   ],
   "source": [
    "df_monologue.head()"
   ],
   "metadata": {
    "collapsed": false,
    "pycharm": {
     "name": "#%%\n"
    }
   }
  },
  {
   "cell_type": "code",
   "execution_count": 115,
   "outputs": [
    {
     "data": {
      "text/plain": "<AxesSubplot:>"
     },
     "execution_count": 115,
     "metadata": {},
     "output_type": "execute_result"
    },
    {
     "data": {
      "text/plain": "<Figure size 432x288 with 1 Axes>",
      "image/png": "[encoded data removed]"
     },
     "metadata": {},
     "output_type": "display_data"
    }
   ],
   "source": [
    "char_count = df_monologue['character'].value_counts()\n",
    "# next we want t visualize that in a barchart to get an overview of representation and balance\n",
    "char_count.plot(kind=\"barh\")"
   ],
   "metadata": {
    "collapsed": false,
    "pycharm": {
     "name": "#%%\n"
    }
   }
  },
  {
   "cell_type": "code",
   "execution_count": 116,
   "outputs": [
    {
     "data": {
      "text/plain": "<AxesSubplot:ylabel='character'>"
     },
     "execution_count": 116,
     "metadata": {},
     "output_type": "execute_result"
    },
    {
     "data": {
      "text/plain": "<Figure size 432x288 with 1 Axes>",
      "image/png": "[encoded data removed]"
     },
     "metadata": {},
     "output_type": "display_data"
    }
   ],
   "source": [
    "char_count.plot(kind=\"pie\")"
   ],
   "metadata": {
    "collapsed": false,
    "pycharm": {
     "name": "#%%\n"
    }
   }
  },
  {
   "cell_type": "code",
   "execution_count": 117,
   "outputs": [
    {
     "data": {
      "text/plain": "Michael    743\nDwight     419\nJim        306\nPam        281\nName: character, dtype: int64"
     },
     "execution_count": 117,
     "metadata": {},
     "output_type": "execute_result"
    }
   ],
   "source": [
    "char_count"
   ],
   "metadata": {
    "collapsed": false,
    "pycharm": {
     "name": "#%%\n"
    }
   }
  },
  {
   "cell_type": "markdown",
   "source": [
    "Repeatedly we can see that here once again an imbalance is present between michael and the other three characters."
   ],
   "metadata": {
    "collapsed": false,
    "pycharm": {
     "name": "#%% md\n"
    }
   }
  },
  {
   "cell_type": "markdown",
   "source": [
    "### Merged Data\n",
    "\n",
    "Now lets merge the two dataframes and see how well each character is represented. We can then also use this dataset for preprocessing and training the model."
   ],
   "metadata": {
    "collapsed": false,
    "pycharm": {
     "name": "#%% md\n"
    }
   }
  },
  {
   "cell_type": "code",
   "execution_count": 118,
   "outputs": [],
   "source": [
    "df_for_merge_reply = df_reply[['reply', 'character']]\n",
    "df_for_merge_monologue = df_monologue[['quote', 'character']]\n",
    "# to make the merge possible we have to rename the column names of the ro merge monologue dataframe\n",
    "df_for_merge_reply.columns = ['quote','character']\n",
    "df_merged = pd.concat([df_for_merge_reply, df_for_merge_monologue], ignore_index = True)"
   ],
   "metadata": {
    "collapsed": false,
    "pycharm": {
     "name": "#%%\n"
    }
   }
  },
  {
   "cell_type": "code",
   "execution_count": 119,
   "outputs": [
    {
     "data": {
      "text/plain": "(27899, 2)"
     },
     "execution_count": 119,
     "metadata": {},
     "output_type": "execute_result"
    }
   ],
   "source": [
    "df_merged.shape"
   ],
   "metadata": {
    "collapsed": false,
    "pycharm": {
     "name": "#%%\n"
    }
   }
  },
  {
   "cell_type": "code",
   "execution_count": 120,
   "outputs": [
    {
     "data": {
      "text/plain": "                                               quote character\n0  So you’ve come to the master for guidance? Is ...   Michael\n1    All right. Well, let me show you how it’s done.   Michael\n2  If you think she’s cute now, you should have s...   Michael\n3                                      Any messages?   Michael\n4  Oh! Pam, this is from Corporate. How many time...   Michael",
      "text/html": "<div>\n<style scoped>\n    .dataframe tbody tr th:only-of-type {\n        vertical-align: middle;\n    }\n\n    .dataframe tbody tr th {\n        vertical-align: top;\n    }\n\n    .dataframe thead th {\n        text-align: right;\n    }\n</style>\n<table border=\"1\" class=\"dataframe\">\n  <thead>\n    <tr style=\"text-align: right;\">\n      <th></th>\n      <th>quote</th>\n      <th>character</th>\n    </tr>\n  </thead>\n  <tbody>\n    <tr>\n      <th>0</th>\n      <td>So you’ve come to the master for guidance? Is ...</td>\n      <td>Michael</td>\n    </tr>\n    <tr>\n      <th>1</th>\n      <td>All right. Well, let me show you how it’s done.</td>\n      <td>Michael</td>\n    </tr>\n    <tr>\n      <th>2</th>\n      <td>If you think she’s cute now, you should have s...</td>\n      <td>Michael</td>\n    </tr>\n    <tr>\n      <th>3</th>\n      <td>Any messages?</td>\n      <td>Michael</td>\n    </tr>\n    <tr>\n      <th>4</th>\n      <td>Oh! Pam, this is from Corporate. How many time...</td>\n      <td>Michael</td>\n    </tr>\n  </tbody>\n</table>\n</div>"
     },
     "execution_count": 120,
     "metadata": {},
     "output_type": "execute_result"
    }
   ],
   "source": [
    "df_merged.head()"
   ],
   "metadata": {
    "collapsed": false,
    "pycharm": {
     "name": "#%%\n"
    }
   }
  },
  {
   "cell_type": "code",
   "execution_count": 121,
   "outputs": [
    {
     "data": {
      "text/plain": "<AxesSubplot:>"
     },
     "execution_count": 121,
     "metadata": {},
     "output_type": "execute_result"
    },
    {
     "data": {
      "text/plain": "<Figure size 432x288 with 1 Axes>",
      "image/png": "[encoded data removed]"
     },
     "metadata": {},
     "output_type": "display_data"
    }
   ],
   "source": [
    "char_count = df_merged['character'].value_counts()\n",
    "char_count.plot(kind=\"barh\")"
   ],
   "metadata": {
    "collapsed": false,
    "pycharm": {
     "name": "#%%\n"
    }
   }
  },
  {
   "cell_type": "code",
   "execution_count": 122,
   "outputs": [
    {
     "data": {
      "text/plain": "<AxesSubplot:ylabel='character'>"
     },
     "execution_count": 122,
     "metadata": {},
     "output_type": "execute_result"
    },
    {
     "data": {
      "text/plain": "<Figure size 432x288 with 1 Axes>",
      "image/png": "[encoded data removed]"
     },
     "metadata": {},
     "output_type": "display_data"
    }
   ],
   "source": [
    "char_count.plot(kind=\"pie\")"
   ],
   "metadata": {
    "collapsed": false,
    "pycharm": {
     "name": "#%%\n"
    }
   }
  },
  {
   "cell_type": "code",
   "execution_count": 123,
   "outputs": [
    {
     "data": {
      "text/plain": "<AxesSubplot:>"
     },
     "execution_count": 123,
     "metadata": {},
     "output_type": "execute_result"
    },
    {
     "data": {
      "text/plain": "<Figure size 432x288 with 1 Axes>",
      "image/png": "[encoded data removed]"
     },
     "metadata": {},
     "output_type": "display_data"
    }
   ],
   "source": [
    "df_merged['character'].value_counts(normalize=True).plot(kind=\"barh\")"
   ],
   "metadata": {
    "collapsed": false,
    "pycharm": {
     "name": "#%%\n"
    }
   }
  },
  {
   "cell_type": "code",
   "execution_count": 124,
   "outputs": [
    {
     "data": {
      "text/plain": "Michael    10602\nDwight      6582\nJim         5984\nPam         4731\nName: character, dtype: int64"
     },
     "execution_count": 124,
     "metadata": {},
     "output_type": "execute_result"
    }
   ],
   "source": [
    "char_count"
   ],
   "metadata": {
    "collapsed": false,
    "pycharm": {
     "name": "#%%\n"
    }
   }
  },
  {
   "cell_type": "markdown",
   "source": [
    "### Conclusion\n",
    "\n",
    "In both Sets there is an imbalance between the more and less prominent speaking characters in the show, making Michael the one with the most quotes and therefore the best represented.\n",
    "\n",
    "- Michael has a total of 10602 quotes in the entire dataset\n",
    "- Dwight has a total of 6582 quotes\n",
    "- Jim has a total of 5984 quotes\n",
    "- Pam has a total of 4731 quotes"
   ],
   "metadata": {
    "collapsed": false,
    "pycharm": {
     "name": "#%% md\n"
    }
   }
  },
  {
   "cell_type": "markdown",
   "source": [
    "## Preprocessing\n",
    "\n",
    "Before we can work with the quotes and use it for training we need to preprocess each of them.\n",
    "\n",
    "Typical preprocessing steps are:\n",
    "1. Tokenization\n",
    "2. Lower casing\n",
    "3. Stop Word Removal\n",
    "4. Stemming\n",
    "5. Lemmatization\n",
    "\n",
    "And these are also the steps we will go through with our dataset. To make it easier we will be using the merged dataframe.\n",
    "\n",
    "Why do we need preprocessing?\n",
    "- We want to change the raw data into a clean data set. It reduces noisy data and other inconcistencies which would be really inconvenient to have in a dataset when training a model."
   ],
   "metadata": {
    "collapsed": false,
    "pycharm": {
     "name": "#%% md\n"
    }
   }
  },
  {
   "cell_type": "code",
   "execution_count": 125,
   "outputs": [
    {
     "data": {
      "text/plain": "                                               quote character  \\\n0  So you’ve come to the master for guidance? Is ...   Michael   \n1    All right. Well, let me show you how it’s done.   Michael   \n2  If you think she’s cute now, you should have s...   Michael   \n3                                      Any messages?   Michael   \n4  Oh! Pam, this is from Corporate. How many time...   Michael   \n\n                                               lower  \n0  so you’ve come to the master for guidance? is ...  \n1    all right. well, let me show you how it’s done.  \n2  if you think she’s cute now, you should have s...  \n3                                      any messages?  \n4  oh! pam, this is from corporate. how many time...  ",
      "text/html": "<div>\n<style scoped>\n    .dataframe tbody tr th:only-of-type {\n        vertical-align: middle;\n    }\n\n    .dataframe tbody tr th {\n        vertical-align: top;\n    }\n\n    .dataframe thead th {\n        text-align: right;\n    }\n</style>\n<table border=\"1\" class=\"dataframe\">\n  <thead>\n    <tr style=\"text-align: right;\">\n      <th></th>\n      <th>quote</th>\n      <th>character</th>\n      <th>lower</th>\n    </tr>\n  </thead>\n  <tbody>\n    <tr>\n      <th>0</th>\n      <td>So you’ve come to the master for guidance? Is ...</td>\n      <td>Michael</td>\n      <td>so you’ve come to the master for guidance? is ...</td>\n    </tr>\n    <tr>\n      <th>1</th>\n      <td>All right. Well, let me show you how it’s done.</td>\n      <td>Michael</td>\n      <td>all right. well, let me show you how it’s done.</td>\n    </tr>\n    <tr>\n      <th>2</th>\n      <td>If you think she’s cute now, you should have s...</td>\n      <td>Michael</td>\n      <td>if you think she’s cute now, you should have s...</td>\n    </tr>\n    <tr>\n      <th>3</th>\n      <td>Any messages?</td>\n      <td>Michael</td>\n      <td>any messages?</td>\n    </tr>\n    <tr>\n      <th>4</th>\n      <td>Oh! Pam, this is from Corporate. How many time...</td>\n      <td>Michael</td>\n      <td>oh! pam, this is from corporate. how many time...</td>\n    </tr>\n  </tbody>\n</table>\n</div>"
     },
     "execution_count": 125,
     "metadata": {},
     "output_type": "execute_result"
    }
   ],
   "source": [
    "# lower case the column quotes\n",
    "df_merged['lower'] = df_merged['quote'].str.lower()\n",
    "df_merged.head()"
   ],
   "metadata": {
    "collapsed": false,
    "pycharm": {
     "name": "#%%\n"
    }
   }
  },
  {
   "cell_type": "code",
   "execution_count": 126,
   "outputs": [],
   "source": [
    "def tokenize(column):\n",
    "    tokens = word_tokenize(column)\n",
    "    return [w for w in tokens if w.isalpha()]"
   ],
   "metadata": {
    "collapsed": false,
    "pycharm": {
     "name": "#%%\n"
    }
   }
  },
  {
   "cell_type": "code",
   "execution_count": 127,
   "outputs": [
    {
     "data": {
      "text/plain": "                                               quote character  \\\n0  So you’ve come to the master for guidance? Is ...   Michael   \n1    All right. Well, let me show you how it’s done.   Michael   \n2  If you think she’s cute now, you should have s...   Michael   \n3                                      Any messages?   Michael   \n4  Oh! Pam, this is from Corporate. How many time...   Michael   \n\n                                               lower  \\\n0  so you’ve come to the master for guidance? is ...   \n1    all right. well, let me show you how it’s done.   \n2  if you think she’s cute now, you should have s...   \n3                                      any messages?   \n4  oh! pam, this is from corporate. how many time...   \n\n                                           tokenized  \n0  [so, you, ve, come, to, the, master, for, guid...  \n1  [all, right, well, let, me, show, you, how, it...  \n2  [if, you, think, she, s, cute, now, you, shoul...  \n3                                    [any, messages]  \n4  [oh, pam, this, is, from, corporate, how, many...  ",
      "text/html": "<div>\n<style scoped>\n    .dataframe tbody tr th:only-of-type {\n        vertical-align: middle;\n    }\n\n    .dataframe tbody tr th {\n        vertical-align: top;\n    }\n\n    .dataframe thead th {\n        text-align: right;\n    }\n</style>\n<table border=\"1\" class=\"dataframe\">\n  <thead>\n    <tr style=\"text-align: right;\">\n      <th></th>\n      <th>quote</th>\n      <th>character</th>\n      <th>lower</th>\n      <th>tokenized</th>\n    </tr>\n  </thead>\n  <tbody>\n    <tr>\n      <th>0</th>\n      <td>So you’ve come to the master for guidance? Is ...</td>\n      <td>Michael</td>\n      <td>so you’ve come to the master for guidance? is ...</td>\n      <td>[so, you, ve, come, to, the, master, for, guid...</td>\n    </tr>\n    <tr>\n      <th>1</th>\n      <td>All right. Well, let me show you how it’s done.</td>\n      <td>Michael</td>\n      <td>all right. well, let me show you how it’s done.</td>\n      <td>[all, right, well, let, me, show, you, how, it...</td>\n    </tr>\n    <tr>\n      <th>2</th>\n      <td>If you think she’s cute now, you should have s...</td>\n      <td>Michael</td>\n      <td>if you think she’s cute now, you should have s...</td>\n      <td>[if, you, think, she, s, cute, now, you, shoul...</td>\n    </tr>\n    <tr>\n      <th>3</th>\n      <td>Any messages?</td>\n      <td>Michael</td>\n      <td>any messages?</td>\n      <td>[any, messages]</td>\n    </tr>\n    <tr>\n      <th>4</th>\n      <td>Oh! Pam, this is from Corporate. How many time...</td>\n      <td>Michael</td>\n      <td>oh! pam, this is from corporate. how many time...</td>\n      <td>[oh, pam, this, is, from, corporate, how, many...</td>\n    </tr>\n  </tbody>\n</table>\n</div>"
     },
     "execution_count": 127,
     "metadata": {},
     "output_type": "execute_result"
    }
   ],
   "source": [
    "# we will not change the quote column we will be adding a new table to the merged dataframe\n",
    "df_merged['tokenized'] = df_merged.apply(lambda x: tokenize(x['lower']), axis = 1)\n",
    "df_merged.head()"
   ],
   "metadata": {
    "collapsed": false,
    "pycharm": {
     "name": "#%%\n"
    }
   }
  },
  {
   "cell_type": "code",
   "execution_count": 128,
   "outputs": [],
   "source": [
    "df_merged.drop('lower', inplace=True, axis=1)"
   ],
   "metadata": {
    "collapsed": false,
    "pycharm": {
     "name": "#%%\n"
    }
   }
  },
  {
   "cell_type": "code",
   "execution_count": 129,
   "outputs": [
    {
     "name": "stderr",
     "output_type": "stream",
     "text": [
      "[nltk_data] Downloading package stopwords to\n",
      "[nltk_data]     C:\\Users\\angel\\AppData\\Roaming\\nltk_data...\n",
      "[nltk_data]   Package stopwords is already up-to-date!\n"
     ]
    }
   ],
   "source": [
    "# next is the stopword removal\n",
    "nltk.download('stopwords');"
   ],
   "metadata": {
    "collapsed": false,
    "pycharm": {
     "name": "#%%\n"
    }
   }
  },
  {
   "cell_type": "code",
   "execution_count": 130,
   "outputs": [],
   "source": [
    "def remove_stopwords(column):\n",
    "    stopw = set(stopwords.words(\"english\"))\n",
    "    return [word for word in column if not word in stopw]"
   ],
   "metadata": {
    "collapsed": false,
    "pycharm": {
     "name": "#%%\n"
    }
   }
  },
  {
   "cell_type": "code",
   "execution_count": 131,
   "outputs": [
    {
     "data": {
      "text/plain": "                                               quote character  \\\n0  So you’ve come to the master for guidance? Is ...   Michael   \n1    All right. Well, let me show you how it’s done.   Michael   \n2  If you think she’s cute now, you should have s...   Michael   \n3                                      Any messages?   Michael   \n4  Oh! Pam, this is from Corporate. How many time...   Michael   \n\n                                          sw_removed  \n0      [come, master, guidance, saying, grasshopper]  \n1                     [right, well, let, show, done]  \n2            [think, cute, seen, couple, years, ago]  \n3                                         [messages]  \n4  [oh, pam, corporate, many, times, told, specia...  ",
      "text/html": "<div>\n<style scoped>\n    .dataframe tbody tr th:only-of-type {\n        vertical-align: middle;\n    }\n\n    .dataframe tbody tr th {\n        vertical-align: top;\n    }\n\n    .dataframe thead th {\n        text-align: right;\n    }\n</style>\n<table border=\"1\" class=\"dataframe\">\n  <thead>\n    <tr style=\"text-align: right;\">\n      <th></th>\n      <th>quote</th>\n      <th>character</th>\n      <th>sw_removed</th>\n    </tr>\n  </thead>\n  <tbody>\n    <tr>\n      <th>0</th>\n      <td>So you’ve come to the master for guidance? Is ...</td>\n      <td>Michael</td>\n      <td>[come, master, guidance, saying, grasshopper]</td>\n    </tr>\n    <tr>\n      <th>1</th>\n      <td>All right. Well, let me show you how it’s done.</td>\n      <td>Michael</td>\n      <td>[right, well, let, show, done]</td>\n    </tr>\n    <tr>\n      <th>2</th>\n      <td>If you think she’s cute now, you should have s...</td>\n      <td>Michael</td>\n      <td>[think, cute, seen, couple, years, ago]</td>\n    </tr>\n    <tr>\n      <th>3</th>\n      <td>Any messages?</td>\n      <td>Michael</td>\n      <td>[messages]</td>\n    </tr>\n    <tr>\n      <th>4</th>\n      <td>Oh! Pam, this is from Corporate. How many time...</td>\n      <td>Michael</td>\n      <td>[oh, pam, corporate, many, times, told, specia...</td>\n    </tr>\n  </tbody>\n</table>\n</div>"
     },
     "execution_count": 131,
     "metadata": {},
     "output_type": "execute_result"
    }
   ],
   "source": [
    "df_merged['sw_removed'] = df_merged.apply(lambda x: remove_stopwords(x['tokenized']), axis = 1)\n",
    "\n",
    "# drop the tokenized column\n",
    "df_merged.drop('tokenized', inplace=True, axis=1)\n",
    "df_merged.head()"
   ],
   "metadata": {
    "collapsed": false,
    "pycharm": {
     "name": "#%%\n"
    }
   }
  },
  {
   "cell_type": "code",
   "execution_count": 132,
   "outputs": [],
   "source": [
    "def stemming(column):\n",
    "    stemmer = PorterStemmer()\n",
    "    return [stemmer.stem(word) for word in column]"
   ],
   "metadata": {
    "collapsed": false,
    "pycharm": {
     "name": "#%%\n"
    }
   }
  },
  {
   "cell_type": "code",
   "execution_count": 133,
   "outputs": [
    {
     "data": {
      "text/plain": "                                               quote character  \\\n0  So you’ve come to the master for guidance? Is ...   Michael   \n1    All right. Well, let me show you how it’s done.   Michael   \n2  If you think she’s cute now, you should have s...   Michael   \n3                                      Any messages?   Michael   \n4  Oh! Pam, this is from Corporate. How many time...   Michael   \n\n                                             stemmed  \n0            [come, master, guidanc, say, grasshopp]  \n1                     [right, well, let, show, done]  \n2              [think, cute, seen, coupl, year, ago]  \n3                                           [messag]  \n4  [oh, pam, corpor, mani, time, told, special, f...  ",
      "text/html": "<div>\n<style scoped>\n    .dataframe tbody tr th:only-of-type {\n        vertical-align: middle;\n    }\n\n    .dataframe tbody tr th {\n        vertical-align: top;\n    }\n\n    .dataframe thead th {\n        text-align: right;\n    }\n</style>\n<table border=\"1\" class=\"dataframe\">\n  <thead>\n    <tr style=\"text-align: right;\">\n      <th></th>\n      <th>quote</th>\n      <th>character</th>\n      <th>stemmed</th>\n    </tr>\n  </thead>\n  <tbody>\n    <tr>\n      <th>0</th>\n      <td>So you’ve come to the master for guidance? Is ...</td>\n      <td>Michael</td>\n      <td>[come, master, guidanc, say, grasshopp]</td>\n    </tr>\n    <tr>\n      <th>1</th>\n      <td>All right. Well, let me show you how it’s done.</td>\n      <td>Michael</td>\n      <td>[right, well, let, show, done]</td>\n    </tr>\n    <tr>\n      <th>2</th>\n      <td>If you think she’s cute now, you should have s...</td>\n      <td>Michael</td>\n      <td>[think, cute, seen, coupl, year, ago]</td>\n    </tr>\n    <tr>\n      <th>3</th>\n      <td>Any messages?</td>\n      <td>Michael</td>\n      <td>[messag]</td>\n    </tr>\n    <tr>\n      <th>4</th>\n      <td>Oh! Pam, this is from Corporate. How many time...</td>\n      <td>Michael</td>\n      <td>[oh, pam, corpor, mani, time, told, special, f...</td>\n    </tr>\n  </tbody>\n</table>\n</div>"
     },
     "execution_count": 133,
     "metadata": {},
     "output_type": "execute_result"
    }
   ],
   "source": [
    "df_merged[\"stemmed\"] = df_merged.apply(lambda x: stemming(x['sw_removed']), axis=1)\n",
    "# drop the sw_removed column\n",
    "df_merged.drop('sw_removed', inplace=True, axis=1)\n",
    "\n",
    "#copy stemmed words for LDA\n",
    "df_for_lda = df_merged.copy()\n",
    "\n",
    "df_merged.head()"
   ],
   "metadata": {
    "collapsed": false,
    "pycharm": {
     "name": "#%%\n"
    }
   }
  },
  {
   "cell_type": "code",
   "execution_count": 134,
   "outputs": [],
   "source": [
    "def rejoin(column):\n",
    "    return ( \" \".join(column))"
   ],
   "metadata": {
    "collapsed": false,
    "pycharm": {
     "name": "#%%\n"
    }
   }
  },
  {
   "cell_type": "code",
   "execution_count": 135,
   "outputs": [
    {
     "data": {
      "text/plain": "                                               quote character  \\\n0  So you’ve come to the master for guidance? Is ...   Michael   \n1    All right. Well, let me show you how it’s done.   Michael   \n2  If you think she’s cute now, you should have s...   Michael   \n3                                      Any messages?   Michael   \n4  Oh! Pam, this is from Corporate. How many time...   Michael   \n\n                                        preprocessed  \n0                  come master guidanc say grasshopp  \n1                           right well let show done  \n2                     think cute seen coupl year ago  \n3                                             messag  \n4  oh pam corpor mani time told special file cabi...  ",
      "text/html": "<div>\n<style scoped>\n    .dataframe tbody tr th:only-of-type {\n        vertical-align: middle;\n    }\n\n    .dataframe tbody tr th {\n        vertical-align: top;\n    }\n\n    .dataframe thead th {\n        text-align: right;\n    }\n</style>\n<table border=\"1\" class=\"dataframe\">\n  <thead>\n    <tr style=\"text-align: right;\">\n      <th></th>\n      <th>quote</th>\n      <th>character</th>\n      <th>preprocessed</th>\n    </tr>\n  </thead>\n  <tbody>\n    <tr>\n      <th>0</th>\n      <td>So you’ve come to the master for guidance? Is ...</td>\n      <td>Michael</td>\n      <td>come master guidanc say grasshopp</td>\n    </tr>\n    <tr>\n      <th>1</th>\n      <td>All right. Well, let me show you how it’s done.</td>\n      <td>Michael</td>\n      <td>right well let show done</td>\n    </tr>\n    <tr>\n      <th>2</th>\n      <td>If you think she’s cute now, you should have s...</td>\n      <td>Michael</td>\n      <td>think cute seen coupl year ago</td>\n    </tr>\n    <tr>\n      <th>3</th>\n      <td>Any messages?</td>\n      <td>Michael</td>\n      <td>messag</td>\n    </tr>\n    <tr>\n      <th>4</th>\n      <td>Oh! Pam, this is from Corporate. How many time...</td>\n      <td>Michael</td>\n      <td>oh pam corpor mani time told special file cabi...</td>\n    </tr>\n  </tbody>\n</table>\n</div>"
     },
     "execution_count": 135,
     "metadata": {},
     "output_type": "execute_result"
    }
   ],
   "source": [
    "df_merged['preprocessed'] = df_merged.apply(lambda x: rejoin(x['stemmed']), axis=1)\n",
    "\n",
    "df_merged.drop('stemmed', inplace=True, axis=1)\n",
    "df_merged.head()"
   ],
   "metadata": {
    "collapsed": false,
    "pycharm": {
     "name": "#%%\n"
    }
   }
  },
  {
   "cell_type": "markdown",
   "source": [
    "## Vectorization"
   ],
   "metadata": {
    "collapsed": false,
    "pycharm": {
     "name": "#%% md\n"
    }
   }
  },
  {
   "cell_type": "markdown",
   "source": [
    "Since machine learning models need numerical data, vectorization is performed. This process converts text data into well-defined numerical data / vectors. Commonly used methods for this conversion are Bag-of-Words and Word Embedding."
   ],
   "metadata": {
    "collapsed": false,
    "pycharm": {
     "name": "#%% md\n"
    }
   }
  },
  {
   "cell_type": "markdown",
   "source": [
    "### Train-Test-Split"
   ],
   "metadata": {
    "collapsed": false,
    "pycharm": {
     "name": "#%% md\n"
    }
   }
  },
  {
   "cell_type": "code",
   "execution_count": 136,
   "outputs": [
    {
     "name": "stdout",
     "output_type": "stream",
     "text": [
      "(22319,)\n",
      "(5580,)\n"
     ]
    }
   ],
   "source": [
    "# train test split\n",
    "X, y = df_merged['preprocessed'], df_merged['character']\n",
    "X_train, X_test, y_train, y_test = train_test_split(X, y, test_size=0.2, random_state=42, shuffle=True)\n",
    "\n",
    "print(X_train.shape)\n",
    "print(X_test.shape)"
   ],
   "metadata": {
    "collapsed": false,
    "pycharm": {
     "name": "#%%\n"
    }
   }
  },
  {
   "cell_type": "markdown",
   "source": [
    "### Tf-Idf\n",
    "advanced variant of the Bag-of-Words that uses the term frequency–inverse document frequency\n"
   ],
   "metadata": {
    "collapsed": false,
    "pycharm": {
     "name": "#%% md\n"
    }
   }
  },
  {
   "cell_type": "code",
   "execution_count": 137,
   "outputs": [],
   "source": [
    "# Tfidf\n",
    "vectorizer = TfidfVectorizer()\n",
    "X_train_tfidf = vectorizer.fit_transform(X_train)\n",
    "X_test_tfidf = vectorizer.transform(X_test)"
   ],
   "metadata": {
    "collapsed": false,
    "pycharm": {
     "name": "#%%\n"
    }
   }
  },
  {
   "cell_type": "markdown",
   "source": [
    "### CountVectorizer\n",
    "Convert a collection of text documents to a matrix of token counts."
   ],
   "metadata": {
    "collapsed": false,
    "pycharm": {
     "name": "#%% md\n"
    }
   }
  },
  {
   "cell_type": "code",
   "execution_count": 138,
   "outputs": [
    {
     "data": {
      "text/plain": "<22319x8356 sparse matrix of type '<class 'numpy.int64'>'\n\twith 104107 stored elements in Compressed Sparse Row format>"
     },
     "execution_count": 138,
     "metadata": {},
     "output_type": "execute_result"
    }
   ],
   "source": [
    "from sklearn.feature_extraction.text import CountVectorizer\n",
    "\n",
    "count_vectorizer = CountVectorizer()\n",
    "count_vectorizer.fit(X_train)\n",
    "\n",
    "X_train_cv = count_vectorizer.transform(X_train)\n",
    "X_test_cv  = count_vectorizer.transform(X_test)\n",
    "X_train_cv"
   ],
   "metadata": {
    "collapsed": false,
    "pycharm": {
     "name": "#%%\n"
    }
   }
  },
  {
   "cell_type": "markdown",
   "source": [
    "## Clustering\n",
    "tfidf vectors are used to perform clustering with k-Means. The k-Means algorithm groups similar objects into k clusters whereby the k is pre-specified. Each object is assigned to the cluster wit the nearest mean."
   ],
   "metadata": {
    "collapsed": false,
    "pycharm": {
     "name": "#%% md\n"
    }
   }
  },
  {
   "cell_type": "code",
   "execution_count": 139,
   "outputs": [
    {
     "data": {
      "text/plain": "(array([0, 1, 2, 3, 4, 5, 6, 7]),\n array([18094,   847,   990,   345,   351,   758,   471,   463],\n       dtype=int64))"
     },
     "execution_count": 139,
     "metadata": {},
     "output_type": "execute_result"
    }
   ],
   "source": [
    "import numpy as np\n",
    "from sklearn.cluster import KMeans\n",
    "np.random.seed(0)\n",
    "clusters = 8\n",
    "k_means_text = KMeans(n_clusters=clusters)\n",
    "k_means_text.fit(X_train_tfidf)\n",
    "\n",
    "np.unique(k_means_text.labels_, return_counts=True)"
   ],
   "metadata": {
    "collapsed": false,
    "pycharm": {
     "name": "#%%\n"
    }
   }
  },
  {
   "cell_type": "code",
   "execution_count": 140,
   "outputs": [
    {
     "name": "stderr",
     "output_type": "stream",
     "text": [
      "C:\\Users\\angel\\anaconda3\\lib\\site-packages\\sklearn\\utils\\deprecation.py:87: FutureWarning: Function get_feature_names is deprecated; get_feature_names is deprecated in 1.0 and will be removed in 1.2. Please use get_feature_names_out instead.\n",
      "  warnings.warn(msg, category=FutureWarning)\n"
     ]
    },
    {
     "name": "stdout",
     "output_type": "stream",
     "text": [
      "Cluster 0\n",
      "  come\n",
      "  right\n",
      "  michael\n",
      "  ok\n",
      "  well\n",
      "  think\n",
      "  get\n",
      "  like\n",
      "  good\n",
      "  hey\n",
      "Cluster 1\n",
      "  gon\n",
      "  right\n",
      "  get\n",
      "  ahead\n",
      "  come\n",
      "  know\n",
      "  na\n",
      "  okay\n",
      "  let\n",
      "  go\n",
      "Cluster 2\n",
      "  get\n",
      "  think\n",
      "  sure\n",
      "  guess\n",
      "  well\n",
      "  uh\n",
      "  good\n",
      "  right\n",
      "  ye\n",
      "  yeah\n",
      "Cluster 3\n",
      "  great\n",
      "  okay\n",
      "  dwight\n",
      "  well\n",
      "  good\n",
      "  ye\n",
      "  michael\n",
      "  much\n",
      "  oh\n",
      "  thank\n",
      "Cluster 4\n",
      "  wow\n",
      "  nice\n",
      "  yeah\n",
      "  michael\n",
      "  want\n",
      "  think\n",
      "  know\n",
      "  good\n",
      "  oh\n",
      "  realli\n",
      "Cluster 5\n",
      "  right\n",
      "  great\n",
      "  come\n",
      "  wow\n",
      "  good\n",
      "  sorri\n",
      "  man\n",
      "  yeah\n",
      "  god\n",
      "  oh\n",
      "Cluster 6\n",
      "  dwight\n",
      "  want\n",
      "  mayb\n",
      "  need\n",
      "  okay\n",
      "  well\n",
      "  oh\n",
      "  think\n",
      "  yeah\n",
      "  know\n",
      "Cluster 7\n",
      "  great\n",
      "  yeah\n",
      "  got\n",
      "  jim\n",
      "  go\n",
      "  think\n",
      "  good\n",
      "  right\n",
      "  oh\n",
      "  okay\n"
     ]
    }
   ],
   "source": [
    "labels = k_means_text.labels_\n",
    "features = vectorizer.get_feature_names()\n",
    "unique_labels, counts = np.unique(labels, return_counts=True)\n",
    "for cluster in unique_labels:\n",
    "    vec = None\n",
    "    for i, label in enumerate(labels):\n",
    "        if label == cluster:\n",
    "            if vec != None:\n",
    "                 vec += X_train_tfidf[i]\n",
    "            else:\n",
    "                vec = X_train_tfidf[i]\n",
    "    print(\"Cluster %d\" %cluster)\n",
    "    # vector has two axes, thats why the additional [0] is needed and stands for the first one\n",
    "    for f in np.argsort(vec.toarray())[0][-10::]:\n",
    "        print(\"  %s\" % features[f])"
   ],
   "metadata": {
    "collapsed": false,
    "pycharm": {
     "name": "#%%\n"
    }
   }
  },
  {
   "cell_type": "markdown",
   "source": [
    "## Classification Model"
   ],
   "metadata": {
    "collapsed": false,
    "pycharm": {
     "name": "#%% md\n"
    }
   }
  },
  {
   "cell_type": "markdown",
   "source": [
    "### Fitting Model using Linear Regression"
   ],
   "metadata": {
    "collapsed": false,
    "pycharm": {
     "name": "#%% md\n"
    }
   }
  },
  {
   "cell_type": "code",
   "execution_count": 141,
   "outputs": [
    {
     "name": "stderr",
     "output_type": "stream",
     "text": [
      "C:\\Users\\angel\\anaconda3\\lib\\site-packages\\sklearn\\linear_model\\_logistic.py:814: ConvergenceWarning: lbfgs failed to converge (status=1):\n",
      "STOP: TOTAL NO. of ITERATIONS REACHED LIMIT.\n",
      "\n",
      "Increase the number of iterations (max_iter) or scale the data as shown in:\n",
      "    https://scikit-learn.org/stable/modules/preprocessing.html\n",
      "Please also refer to the documentation for alternative solver options:\n",
      "    https://scikit-learn.org/stable/modules/linear_model.html#logistic-regression\n",
      "  n_iter_i = _check_optimize_result(\n"
     ]
    },
    {
     "name": "stdout",
     "output_type": "stream",
     "text": [
      "              precision    recall  f1-score   support\n",
      "\n",
      "      Dwight       0.46      0.31      0.37      1338\n",
      "         Jim       0.35      0.23      0.28      1206\n",
      "     Michael       0.45      0.73      0.55      2093\n",
      "         Pam       0.35      0.17      0.22       943\n",
      "\n",
      "    accuracy                           0.43      5580\n",
      "   macro avg       0.40      0.36      0.36      5580\n",
      "weighted avg       0.41      0.43      0.40      5580\n",
      "\n",
      "confusion matrix:\n",
      "[[ 420  150  682   86]\n",
      " [ 122  280  710   94]\n",
      " [ 250  210 1525  108]\n",
      " [ 115  169  503  156]]\n"
     ]
    },
    {
     "data": {
      "text/plain": "<Figure size 432x288 with 2 Axes>",
      "image/png": "[encoded data removed]"
     },
     "metadata": {},
     "output_type": "display_data"
    },
    {
     "name": "stdout",
     "output_type": "stream",
     "text": [
      "0.4267025089605735\n"
     ]
    }
   ],
   "source": [
    "from matplotlib import pyplot as plt\n",
    "from sklearn.metrics import classification_report, confusion_matrix, roc_curve, auc\n",
    "from sklearn.linear_model import LogisticRegression\n",
    "import seaborn as sns\n",
    "\n",
    "# using CountVectorizer vectors\n",
    "model_lr_cv=LogisticRegression()\n",
    "model_lr_cv.fit(X_train_cv, y_train)\n",
    "score_cv = model_lr_cv.score(X_test_cv, y_test)\n",
    "\n",
    "# predict y for test dataset\n",
    "y_pred = model_lr_cv.predict(X_test_cv)\n",
    "y_prob = model_lr_cv.predict_proba(X_test_cv)[:,1]\n",
    "print(classification_report(y_test,y_pred))\n",
    "\n",
    "cf_cv = confusion_matrix(y_test, y_pred)\n",
    "print(\"confusion matrix:\")\n",
    "print(cf_cv)\n",
    "\n",
    "sns.heatmap(cf_cv, annot=True, xticklabels=['Michael', 'Dwight', 'Jim', 'Pam'], yticklabels=['Michael', 'Dwight', 'Jim', 'Pam'])\n",
    "plt.show()\n",
    "\n",
    "print(score_cv)"
   ],
   "metadata": {
    "collapsed": false,
    "pycharm": {
     "name": "#%%\n"
    }
   }
  },
  {
   "cell_type": "code",
   "execution_count": 142,
   "outputs": [
    {
     "name": "stdout",
     "output_type": "stream",
     "text": [
      "              precision    recall  f1-score   support\n",
      "\n",
      "      Dwight       0.45      0.33      0.38      1338\n",
      "         Jim       0.34      0.26      0.29      1206\n",
      "     Michael       0.44      0.68      0.54      2093\n",
      "         Pam       0.34      0.17      0.23       943\n",
      "\n",
      "    accuracy                           0.42      5580\n",
      "   macro avg       0.39      0.36      0.36      5580\n",
      "weighted avg       0.41      0.42      0.40      5580\n",
      "\n",
      "confusion matrix:\n",
      "[[ 440  160  643   95]\n",
      " [ 130  310  658  108]\n",
      " [ 292  258 1423  120]\n",
      " [ 111  191  476  165]]\n"
     ]
    },
    {
     "data": {
      "text/plain": "<Figure size 432x288 with 2 Axes>",
      "image/png": "[encoded data removed]"
     },
     "metadata": {},
     "output_type": "display_data"
    },
    {
     "name": "stdout",
     "output_type": "stream",
     "text": [
      "0.4189964157706093\n"
     ]
    }
   ],
   "source": [
    "from matplotlib import pyplot as plt\n",
    "from sklearn.metrics import classification_report, confusion_matrix, roc_curve, auc\n",
    "from sklearn.linear_model import LogisticRegression\n",
    "import seaborn as sns\n",
    "\n",
    "# using Tf-Idf vectors\n",
    "model_lr_tfidf=LogisticRegression(solver = 'liblinear', C=10, penalty = 'l2')\n",
    "model_lr_tfidf.fit(X_train_tfidf, y_train)\n",
    "score_tfidf = model_lr_tfidf.score(X_test_tfidf, y_test)\n",
    "\n",
    "# predict y for test dataset\n",
    "y_pred = model_lr_tfidf.predict(X_test_tfidf)\n",
    "y_prob = model_lr_tfidf.predict_proba(X_test_tfidf)[:,1]\n",
    "print(classification_report(y_test,y_pred))\n",
    "\n",
    "cf = confusion_matrix(y_test, y_pred)\n",
    "print(\"confusion matrix:\")\n",
    "print(cf)\n",
    "\n",
    "sns.heatmap(cf, annot=True, xticklabels=['Michael', 'Dwight', 'Jim', 'Pam'], yticklabels=['Michael', 'Dwight', 'Jim', 'Pam'])\n",
    "plt.show()\n",
    "print(score_tfidf)"
   ],
   "metadata": {
    "collapsed": false,
    "pycharm": {
     "name": "#%%\n"
    }
   }
  },
  {
   "cell_type": "markdown",
   "source": [
    "### Fitting Model using Naive Bayes"
   ],
   "metadata": {
    "collapsed": false,
    "pycharm": {
     "name": "#%% md\n"
    }
   }
  },
  {
   "cell_type": "code",
   "execution_count": 143,
   "outputs": [
    {
     "name": "stdout",
     "output_type": "stream",
     "text": [
      "              precision    recall  f1-score   support\n",
      "\n",
      "      Dwight       0.56      0.17      0.26      1338\n",
      "         Jim       0.42      0.07      0.11      1206\n",
      "     Michael       0.40      0.94      0.56      2093\n",
      "         Pam       0.47      0.02      0.04       943\n",
      "\n",
      "    accuracy                           0.41      5580\n",
      "   macro avg       0.46      0.30      0.24      5580\n",
      "weighted avg       0.45      0.41      0.30      5580\n",
      "\n",
      "confusion matrix:\n",
      "[[ 229   29 1069   11]\n",
      " [  50   79 1070    7]\n",
      " [  88   36 1964    5]\n",
      " [  42   42  839   20]]\n"
     ]
    },
    {
     "data": {
      "text/plain": "<Figure size 432x288 with 2 Axes>",
      "image/png": "[encoded data removed]"
     },
     "metadata": {},
     "output_type": "display_data"
    },
    {
     "name": "stdout",
     "output_type": "stream",
     "text": [
      "0.4189964157706093\n"
     ]
    }
   ],
   "source": [
    "from sklearn.naive_bayes import MultinomialNB\n",
    "\n",
    "# Naive Bayes using Tf-Idf vector\n",
    "naive_bayes_classifier = MultinomialNB()\n",
    "naive_bayes_classifier.fit(X_train_tfidf, y_train)\n",
    "score_nb = model_lr_tfidf.score(X_test_tfidf, y_test)\n",
    "\n",
    "y_pred_nb = naive_bayes_classifier.predict(X_test_tfidf)\n",
    "\n",
    "print(classification_report(y_test,y_pred_nb))\n",
    "\n",
    "cf = confusion_matrix(y_test, y_pred_nb)\n",
    "print(\"confusion matrix:\")\n",
    "print(cf)\n",
    "\n",
    "sns.heatmap(cf, annot=True, xticklabels=['Michael', 'Dwight', 'Jim', 'Pam'], yticklabels=['Michael', 'Dwight', 'Jim', 'Pam'])\n",
    "\n",
    "plt.show()\n",
    "print(score_nb)"
   ],
   "metadata": {
    "collapsed": false,
    "pycharm": {
     "name": "#%%\n"
    }
   }
  },
  {
   "cell_type": "markdown",
   "source": [
    "### LSTM\n",
    "LSTM is effective in memorizing important information. It can use a multiple word string to find out the class to which it belongs. The first hyperparameter of LSTM() is units and defines the number of neurons that work as the memory unit of the model.\n",
    "\n",
    "Before we can use the quotes in our sequential model, some changes of the data's shape must be done.\n"
   ],
   "metadata": {
    "collapsed": false,
    "pycharm": {
     "name": "#%% md\n"
    }
   }
  },
  {
   "cell_type": "code",
   "execution_count": 144,
   "outputs": [
    {
     "name": "stdout",
     "output_type": "stream",
     "text": [
      "8356\n",
      "(5580, 8356)\n"
     ]
    }
   ],
   "source": [
    "print(X_train_cv.shape[1])\n",
    "print(X_test_cv.shape)"
   ],
   "metadata": {
    "collapsed": false,
    "pycharm": {
     "name": "#%%\n"
    }
   }
  },
  {
   "cell_type": "code",
   "execution_count": 145,
   "outputs": [
    {
     "data": {
      "text/plain": "                                               quote  character  \\\n0  So you’ve come to the master for guidance? Is ...          0   \n1    All right. Well, let me show you how it’s done.          0   \n2  If you think she’s cute now, you should have s...          0   \n3                                      Any messages?          0   \n4  Oh! Pam, this is from Corporate. How many time...          0   \n\n                                        preprocessed  \n0                  come master guidanc say grasshopp  \n1                           right well let show done  \n2                     think cute seen coupl year ago  \n3                                             messag  \n4  oh pam corpor mani time told special file cabi...  ",
      "text/html": "<div>\n<style scoped>\n    .dataframe tbody tr th:only-of-type {\n        vertical-align: middle;\n    }\n\n    .dataframe tbody tr th {\n        vertical-align: top;\n    }\n\n    .dataframe thead th {\n        text-align: right;\n    }\n</style>\n<table border=\"1\" class=\"dataframe\">\n  <thead>\n    <tr style=\"text-align: right;\">\n      <th></th>\n      <th>quote</th>\n      <th>character</th>\n      <th>preprocessed</th>\n    </tr>\n  </thead>\n  <tbody>\n    <tr>\n      <th>0</th>\n      <td>So you’ve come to the master for guidance? Is ...</td>\n      <td>0</td>\n      <td>come master guidanc say grasshopp</td>\n    </tr>\n    <tr>\n      <th>1</th>\n      <td>All right. Well, let me show you how it’s done.</td>\n      <td>0</td>\n      <td>right well let show done</td>\n    </tr>\n    <tr>\n      <th>2</th>\n      <td>If you think she’s cute now, you should have s...</td>\n      <td>0</td>\n      <td>think cute seen coupl year ago</td>\n    </tr>\n    <tr>\n      <th>3</th>\n      <td>Any messages?</td>\n      <td>0</td>\n      <td>messag</td>\n    </tr>\n    <tr>\n      <th>4</th>\n      <td>Oh! Pam, this is from Corporate. How many time...</td>\n      <td>0</td>\n      <td>oh pam corpor mani time told special file cabi...</td>\n    </tr>\n  </tbody>\n</table>\n</div>"
     },
     "execution_count": 145,
     "metadata": {},
     "output_type": "execute_result"
    }
   ],
   "source": [
    "# turn class names into numerical data ad save the new representation in a df\n",
    "character_to_int = {\n",
    "    \"Michael\": 0,\n",
    "    \"Dwight\": 1,\n",
    "    \"Jim\": 2,\n",
    "    \"Pam\": 3\n",
    "}\n",
    "int_to_character = [\"Michael\", \"Dwight\", \"Jim\", \"Pam\"]\n",
    "df_for_lstm = df_merged.copy()\n",
    "df_for_lstm['character'] = df_for_lstm['character'].replace(character_to_int).astype('int8')\n",
    "\n",
    "df_for_lstm.head()"
   ],
   "metadata": {
    "collapsed": false,
    "pycharm": {
     "name": "#%%\n"
    }
   }
  },
  {
   "cell_type": "markdown",
   "source": [
    "The df with numerical class values is used at converting the text into sequences, which will be filled up with zeros so the sequences have equal length. Then, another train test split is performed for the usage with the keras model."
   ],
   "metadata": {
    "collapsed": false,
    "pycharm": {
     "name": "#%% md\n"
    }
   }
  },
  {
   "cell_type": "code",
   "execution_count": 146,
   "outputs": [
    {
     "name": "stdout",
     "output_type": "stream",
     "text": [
      "(22319, 86)\n",
      "(5580, 86)\n"
     ]
    }
   ],
   "source": [
    "from keras.utils import pad_sequences\n",
    "\n",
    "# train test split\n",
    "X, y = df_for_lstm['preprocessed'], df_for_lstm['character']\n",
    "\n",
    "#preprocessed quotes to sequence\n",
    "max_length = max([len(d.split()) for d in X])\n",
    "tokenizer = tf.keras.preprocessing.text.Tokenizer()\n",
    "X = tokenizer.texts_to_sequences(X)\n",
    "\n",
    "#pad sequence with zeros\n",
    "X = pad_sequences(X, maxlen=max_length)\n",
    "\n",
    "X_train_lstm, X_test_lstm, y_train_lstm, y_test_lstm = train_test_split(X, y, test_size=0.2, random_state=42, shuffle=True)\n",
    "\n",
    "print(X_train_lstm.shape)\n",
    "print(X_test_lstm.shape)\n"
   ],
   "metadata": {
    "collapsed": false,
    "pycharm": {
     "name": "#%%\n"
    }
   }
  },
  {
   "cell_type": "code",
   "execution_count": 147,
   "outputs": [
    {
     "name": "stdout",
     "output_type": "stream",
     "text": [
      "86\n"
     ]
    }
   ],
   "source": [
    "print(X_train_lstm.shape[1])"
   ],
   "metadata": {
    "collapsed": false,
    "pycharm": {
     "name": "#%%\n"
    }
   }
  },
  {
   "cell_type": "markdown",
   "source": [
    "#### Embedding Layer\n",
    "The Embedding Layer of Keras takes the previously calculated integers of teh sequences and maps them to a dense vector of the embedding.The following parameters are defined:\n",
    "\n",
    " - input_dim: the size of the vocabulary\n",
    " - output_dim: the size of the dense vector\n",
    " - input_length: the length of the sequence, in our case the max_length used while pad_sequences"
   ],
   "metadata": {
    "collapsed": false,
    "pycharm": {
     "name": "#%% md\n"
    }
   }
  },
  {
   "cell_type": "markdown",
   "source": [
    "### Dense Layer\n",
    "The neuron of a dense layer in a model receives output from every neuron of its preceding layer, where neurons of the dense layer perform matrix-vector multiplication. The keras dense layer can take a set of hyperparameters of which we used the following:\n",
    " - Units: defines the size of the output from the dense layer = dimensionality of the output vector\n",
    " - Activation: activation function used for the transformation of the input values of neurons -> introduces non-linearity into neral network (necessary for learning th relationship between input and output values)\n",
    "The last Dense layer of the model must have the number of classes as unit parameter."
   ],
   "metadata": {
    "collapsed": false,
    "pycharm": {
     "name": "#%% md\n"
    }
   }
  },
  {
   "cell_type": "markdown",
   "source": [
    "#### Balancing\n",
    "To encounter the imbalance of the dataset, class_weights are used while fitting the model. Some of the sequential models are fitted without using the class_weights and in some cases the class_weight hyperparameter is set."
   ],
   "metadata": {
    "collapsed": false,
    "pycharm": {
     "name": "#%% md\n"
    }
   },
   "outputs": [
    {
     "ename": "SyntaxError",
     "evalue": "invalid syntax (4080016880.py, line 2)",
     "output_type": "error",
     "traceback": [
      "\u001B[1;36m  Input \u001B[1;32mIn [91]\u001B[1;36m\u001B[0m\n\u001B[1;33m    To encounter the imbalance of the dataset, class_weights are used while fitting the model.\u001B[0m\n\u001B[1;37m       ^\u001B[0m\n\u001B[1;31mSyntaxError\u001B[0m\u001B[1;31m:\u001B[0m invalid syntax\n"
     ]
    }
   ],
   "execution_count": 91
  },
  {
   "cell_type": "code",
   "execution_count": 148,
   "outputs": [
    {
     "data": {
      "text/plain": "{0: 0.655746856269832,\n 1: 1.0640255530129672,\n 2: 1.1678003348681456,\n 3: 1.473006863780359}"
     },
     "execution_count": 148,
     "metadata": {},
     "output_type": "execute_result"
    }
   ],
   "source": [
    "from sklearn.utils import compute_class_weight\n",
    "class_weights = compute_class_weight(\n",
    "                                        class_weight = \"balanced\",\n",
    "                                        classes = np.unique(y_train_lstm),\n",
    "                                        y = y_train_lstm\n",
    "                                    )\n",
    "class_weights = dict(zip(np.unique(y_train_lstm), class_weights))\n",
    "class_weights"
   ],
   "metadata": {
    "collapsed": false,
    "pycharm": {
     "name": "#%%\n"
    }
   }
  },
  {
   "cell_type": "markdown",
   "source": [
    "#### Sequential Model with Embedding Layer and LSTM"
   ],
   "metadata": {
    "collapsed": false,
    "pycharm": {
     "name": "#%% md\n"
    }
   }
  },
  {
   "cell_type": "code",
   "execution_count": 149,
   "outputs": [],
   "source": [
    "from keras.layers import Embedding, LSTM, Dropout, Dense, Flatten\n",
    "from keras import Sequential, layers"
   ],
   "metadata": {
    "collapsed": false,
    "pycharm": {
     "name": "#%%\n"
    }
   }
  },
  {
   "cell_type": "code",
   "execution_count": 156,
   "outputs": [],
   "source": [
    "embedding_dim = 64\n",
    "input_dim = X_train_lstm.shape[1]  # Number of features\n",
    "num_classes = 4\n",
    "\n",
    "model_seq = Sequential()\n",
    "model_seq.add(Embedding(input_dim=input_dim, output_dim=embedding_dim, input_length=max_length))\n",
    "\n",
    "model_seq.add(LSTM(64, activation='relu', return_sequences=True))\n",
    "model_seq.add(Dropout(0.2))\n",
    "model_seq.add(LSTM(64,activation='relu'))\n",
    "model_seq.add(Dropout(0.2))\n",
    "\n",
    "model_seq.add(Dense(64,activation='relu'))\n",
    "model_seq.add(Dropout(0.2))\n",
    "model_seq.add(Dense(64,activation='relu'))\n",
    "model_seq.add(Dropout(0.2))\n",
    "model_seq.add(Dense(32,activation='relu'))\n",
    "model_seq.add(Dropout(0.2))\n",
    "model_seq.add(Dense(num_classes,activation='softmax'))"
   ],
   "metadata": {
    "collapsed": false,
    "pycharm": {
     "name": "#%%\n"
    }
   }
  },
  {
   "cell_type": "code",
   "execution_count": 157,
   "outputs": [],
   "source": [
    "model_seq.compile(optimizer='adam',\n",
    "              loss='sparse_categorical_crossentropy',\n",
    "              metrics=['accuracy'])"
   ],
   "metadata": {
    "collapsed": false,
    "pycharm": {
     "name": "#%%\n"
    }
   }
  },
  {
   "cell_type": "code",
   "execution_count": 159,
   "outputs": [
    {
     "name": "stdout",
     "output_type": "stream",
     "text": [
      "Epoch 1/10\n",
      "349/349 [==============================] - 30s 85ms/step - loss: 1.3448 - accuracy: 0.3815 - val_loss: 1.3421 - val_accuracy: 0.3751\n",
      "Epoch 2/10\n",
      "349/349 [==============================] - 32s 92ms/step - loss: 1.3412 - accuracy: 0.3812 - val_loss: 1.3423 - val_accuracy: 0.3751\n",
      "Epoch 3/10\n",
      "349/349 [==============================] - 34s 98ms/step - loss: 1.3405 - accuracy: 0.3812 - val_loss: 1.3423 - val_accuracy: 0.3751\n",
      "Epoch 4/10\n",
      "349/349 [==============================] - 37s 105ms/step - loss: 1.3404 - accuracy: 0.3812 - val_loss: 1.3424 - val_accuracy: 0.3751\n",
      "Epoch 5/10\n",
      "349/349 [==============================] - 40s 115ms/step - loss: 1.3403 - accuracy: 0.3812 - val_loss: 1.3420 - val_accuracy: 0.3751\n",
      "Epoch 6/10\n",
      "349/349 [==============================] - 38s 109ms/step - loss: 1.3396 - accuracy: 0.3812 - val_loss: 1.3419 - val_accuracy: 0.3751\n",
      "Epoch 7/10\n",
      "349/349 [==============================] - 34s 97ms/step - loss: 1.3398 - accuracy: 0.3812 - val_loss: 1.3421 - val_accuracy: 0.3751\n",
      "Epoch 8/10\n",
      "349/349 [==============================] - 35s 101ms/step - loss: 1.3397 - accuracy: 0.3812 - val_loss: 1.3420 - val_accuracy: 0.3751\n",
      "Epoch 9/10\n",
      "349/349 [==============================] - 35s 102ms/step - loss: 1.3396 - accuracy: 0.3812 - val_loss: 1.3420 - val_accuracy: 0.3751\n",
      "Epoch 10/10\n",
      "349/349 [==============================] - 35s 101ms/step - loss: 1.3394 - accuracy: 0.3812 - val_loss: 1.3419 - val_accuracy: 0.3751\n",
      "Training Accuracy: 0.3812\n"
     ]
    }
   ],
   "source": [
    "#old model with embedding_dim=output_dim=64, 10 epochs, two LSTM layers and multiple Dense layers combined with Dropout against overfitting\n",
    "history = model_seq.fit(X_train_lstm, y_train_lstm,\n",
    "                    epochs=10,\n",
    "                    verbose=\"auto\",\n",
    "                    validation_data=(X_test_lstm, y_test_lstm),\n",
    "                    batch_size=64)\n",
    "loss1, accuracy1 = model_seq.evaluate(X_train_lstm, y_train_lstm, verbose=False)\n",
    "print(\"Training Accuracy: {:.4f}\".format(accuracy1))"
   ],
   "metadata": {
    "collapsed": false,
    "pycharm": {
     "name": "#%%\n"
    }
   }
  },
  {
   "cell_type": "code",
   "execution_count": 160,
   "outputs": [],
   "source": [
    "def plot_history(h):\n",
    "    acc = h.history['accuracy']\n",
    "    val_acc = h.history['val_accuracy']\n",
    "    loss = h.history['loss']\n",
    "    val_loss = h.history['val_loss']\n",
    "    x = range(1, len(acc) + 1)\n",
    "\n",
    "    plt.figure(figsize=(12, 5))\n",
    "    plt.subplot(1, 2, 1)\n",
    "    plt.plot(x, acc, 'b', label='Training Accuracy')\n",
    "    plt.plot(x, val_acc, 'r', label='Validation Accuracy')\n",
    "    plt.title('Accuracy')\n",
    "    plt.legend()\n",
    "    plt.subplot(1, 2, 2)\n",
    "    plt.plot(x, loss, 'b', label='Training Loss')\n",
    "    plt.plot(x, val_loss, 'r', label='Validation Loss')\n",
    "    plt.title('Loss')\n",
    "    plt.legend()"
   ],
   "metadata": {
    "collapsed": false,
    "pycharm": {
     "name": "#%%\n"
    }
   }
  },
  {
   "cell_type": "code",
   "execution_count": 161,
   "outputs": [
    {
     "data": {
      "text/plain": "<Figure size 864x360 with 2 Axes>",
      "image/png": "[encoded data removed]"
     },
     "metadata": {},
     "output_type": "display_data"
    }
   ],
   "source": [
    "# plot accuracy and loss of model \"model_seq\"\n",
    "plot_history(history)"
   ],
   "metadata": {
    "collapsed": false,
    "pycharm": {
     "name": "#%%\n"
    }
   }
  },
  {
   "cell_type": "markdown",
   "source": [
    "Trying out more Dense layers and changing activation function of last Dense layer to sigmoid."
   ],
   "metadata": {
    "collapsed": false,
    "pycharm": {
     "name": "#%% md\n"
    }
   }
  },
  {
   "cell_type": "code",
   "execution_count": 163,
   "outputs": [],
   "source": [
    "embedding_dim = 128\n",
    "input_dim = X_train_lstm.shape[1]  # Number of features\n",
    "num_classes = 4\n",
    "\n",
    "model_seq2 = Sequential()\n",
    "model_seq2.add(Embedding(input_dim=input_dim, output_dim=embedding_dim, input_length=max_length))\n",
    "\n",
    "model_seq2.add(LSTM(128, activation='relu', return_sequences=True))\n",
    "model_seq2.add(Dropout(0.2))\n",
    "model_seq2.add(LSTM(128,activation='relu'))\n",
    "model_seq2.add(Dropout(0.2))\n",
    "\n",
    "model_seq2.add(Dense(128,activation='relu'))\n",
    "model_seq2.add(Dropout(0.2))\n",
    "model_seq2.add(Dense(128,activation='relu'))\n",
    "model_seq2.add(Dropout(0.2))\n",
    "model_seq2.add(Dense(64,activation='relu'))\n",
    "model_seq2.add(Dropout(0.2))\n",
    "model_seq2.add(Dense(32,activation='relu'))\n",
    "model_seq2.add(Dropout(0.2))\n",
    "model_seq2.add(Dense(32,activation='relu'))\n",
    "model_seq2.add(Dropout(0.2))\n",
    "\n",
    "model_seq2.add(Dense(num_classes,activation='sigmoid'))"
   ],
   "metadata": {
    "collapsed": false,
    "pycharm": {
     "name": "#%%\n"
    }
   }
  },
  {
   "cell_type": "code",
   "execution_count": 164,
   "outputs": [],
   "source": [
    "model_seq2.compile(optimizer='adam',\n",
    "              loss='sparse_categorical_crossentropy',\n",
    "              metrics=['accuracy'])"
   ],
   "metadata": {
    "collapsed": false,
    "pycharm": {
     "name": "#%%\n"
    }
   }
  },
  {
   "cell_type": "code",
   "execution_count": 165,
   "outputs": [
    {
     "name": "stdout",
     "output_type": "stream",
     "text": [
      "Epoch 1/10\n",
      "349/349 [==============================] - 111s 312ms/step - loss: 1.3453 - accuracy: 0.3810 - val_loss: 1.3426 - val_accuracy: 0.3751\n",
      "Epoch 2/10\n",
      "349/349 [==============================] - 108s 309ms/step - loss: 1.3414 - accuracy: 0.3812 - val_loss: 1.3420 - val_accuracy: 0.3751\n",
      "Epoch 3/10\n",
      "349/349 [==============================] - 103s 296ms/step - loss: 1.3405 - accuracy: 0.3812 - val_loss: 1.3418 - val_accuracy: 0.3751\n",
      "Epoch 4/10\n",
      "349/349 [==============================] - 91s 260ms/step - loss: 1.3396 - accuracy: 0.3812 - val_loss: 1.3421 - val_accuracy: 0.3751\n",
      "Epoch 5/10\n",
      "349/349 [==============================] - 76s 219ms/step - loss: 1.3396 - accuracy: 0.3812 - val_loss: 1.3420 - val_accuracy: 0.3751\n",
      "Epoch 6/10\n",
      "349/349 [==============================] - 76s 219ms/step - loss: 1.3400 - accuracy: 0.3812 - val_loss: 1.3418 - val_accuracy: 0.3751\n",
      "Epoch 7/10\n",
      "349/349 [==============================] - 78s 223ms/step - loss: 1.3393 - accuracy: 0.3812 - val_loss: 1.3419 - val_accuracy: 0.3751\n",
      "Epoch 8/10\n",
      "349/349 [==============================] - 111s 319ms/step - loss: 1.3398 - accuracy: 0.3812 - val_loss: 1.3419 - val_accuracy: 0.3751\n",
      "Epoch 9/10\n",
      "349/349 [==============================] - 99s 282ms/step - loss: 1.3399 - accuracy: 0.3812 - val_loss: 1.3418 - val_accuracy: 0.3751\n",
      "Epoch 10/10\n",
      "349/349 [==============================] - 126s 361ms/step - loss: 1.3395 - accuracy: 0.3812 - val_loss: 1.3418 - val_accuracy: 0.3751\n",
      "Training Accuracy: 0.3812\n",
      "Training Loss: 1.3390\n"
     ]
    }
   ],
   "source": [
    "history2 = model_seq2.fit(X_train_lstm, y_train_lstm,\n",
    "                    epochs=10,\n",
    "                    verbose=\"auto\",\n",
    "                    validation_data=(X_test_lstm, y_test_lstm),\n",
    "                    batch_size=64)\n",
    "loss2, accuracy2 = model_seq2.evaluate(X_train_lstm, y_train_lstm, verbose=False)\n",
    "print(\"Training Accuracy: {:.4f}\".format(accuracy2))\n",
    "print(\"Training Loss: {:.4f}\".format(loss2))"
   ],
   "metadata": {
    "collapsed": false,
    "pycharm": {
     "name": "#%%\n"
    }
   }
  },
  {
   "cell_type": "code",
   "execution_count": 166,
   "outputs": [
    {
     "data": {
      "text/plain": "<Figure size 864x360 with 2 Axes>",
      "image/png": "[encoded data removed]"
     },
     "metadata": {},
     "output_type": "display_data"
    }
   ],
   "source": [
    "# plot accuracy and loss of model \"model_seq2\"\n",
    "plot_history(history2)"
   ],
   "metadata": {
    "collapsed": false,
    "pycharm": {
     "name": "#%%\n"
    }
   }
  },
  {
   "cell_type": "markdown",
   "source": [
    "#### fit model with balancing by class weights"
   ],
   "metadata": {
    "collapsed": false,
    "pycharm": {
     "name": "#%% md\n"
    }
   }
  },
  {
   "cell_type": "code",
   "execution_count": 167,
   "outputs": [
    {
     "name": "stdout",
     "output_type": "stream",
     "text": [
      "Epoch 1/10\n",
      "349/349 [==============================] - 139s 394ms/step - loss: 1.3927 - accuracy: 0.3812 - val_loss: 1.3772 - val_accuracy: 0.3751\n",
      "Epoch 2/10\n",
      "349/349 [==============================] - 146s 419ms/step - loss: 1.3865 - accuracy: 0.3812 - val_loss: 1.3840 - val_accuracy: 0.3751\n",
      "Epoch 3/10\n",
      "349/349 [==============================] - 125s 357ms/step - loss: 1.3864 - accuracy: 0.3069 - val_loss: 1.3855 - val_accuracy: 0.3751\n",
      "Epoch 4/10\n",
      "349/349 [==============================] - 118s 338ms/step - loss: 1.3864 - accuracy: 0.2381 - val_loss: 1.3865 - val_accuracy: 0.2161\n",
      "Epoch 5/10\n",
      "349/349 [==============================] - 133s 381ms/step - loss: 1.3864 - accuracy: 0.2263 - val_loss: 1.3855 - val_accuracy: 0.3751\n",
      "Epoch 6/10\n",
      "349/349 [==============================] - 140s 402ms/step - loss: 1.3864 - accuracy: 0.2992 - val_loss: 1.3861 - val_accuracy: 0.3751\n",
      "Epoch 7/10\n",
      "349/349 [==============================] - 157s 450ms/step - loss: 1.3864 - accuracy: 0.2213 - val_loss: 1.3860 - val_accuracy: 0.2398\n",
      "Epoch 8/10\n",
      "349/349 [==============================] - 150s 431ms/step - loss: 1.3864 - accuracy: 0.2404 - val_loss: 1.3865 - val_accuracy: 0.1690\n",
      "Epoch 9/10\n",
      "349/349 [==============================] - 131s 377ms/step - loss: 1.3864 - accuracy: 0.2214 - val_loss: 1.3865 - val_accuracy: 0.1690\n",
      "Epoch 10/10\n",
      "349/349 [==============================] - 148s 425ms/step - loss: 1.3864 - accuracy: 0.2120 - val_loss: 1.3857 - val_accuracy: 0.3751\n",
      "Training Accuracy: 0.3812\n",
      "Training Loss: 1.3857\n"
     ]
    }
   ],
   "source": [
    "# fit with class weights\n",
    "history2_balanced = model_seq2.fit(X_train_lstm, y_train_lstm,\n",
    "                    epochs=10,\n",
    "                    verbose=\"auto\",\n",
    "                    validation_data=(X_test_lstm, y_test_lstm),\n",
    "                    batch_size=64,\n",
    "                    class_weight=class_weights)\n",
    "loss2_bal, accuracy2_bal = model_seq2.evaluate(X_train_lstm, y_train_lstm, verbose=False)\n",
    "print(\"Training Accuracy: {:.4f}\".format(accuracy2_bal))\n",
    "print(\"Training Loss: {:.4f}\".format(loss2_bal))"
   ],
   "metadata": {
    "collapsed": false,
    "pycharm": {
     "name": "#%%\n"
    }
   }
  },
  {
   "cell_type": "code",
   "execution_count": 168,
   "outputs": [
    {
     "data": {
      "text/plain": "<Figure size 864x360 with 2 Axes>",
      "image/png": "[encoded data removed]"
     },
     "metadata": {},
     "output_type": "display_data"
    }
   ],
   "source": [
    "# plot accuracy and loss of model \"model_seq2\" with class weights for balancing\n",
    "plot_history(history2_balanced)"
   ],
   "metadata": {
    "collapsed": false,
    "pycharm": {
     "name": "#%%\n"
    }
   }
  },
  {
   "cell_type": "markdown",
   "source": [
    "#### Basic LSTM with only one Dense layer (balanced)\n",
    "The accuracy of the model does not change when tuning the hyperparameters, so a simple model and few little number of epochs are sufficient."
   ],
   "metadata": {
    "collapsed": false,
    "pycharm": {
     "name": "#%% md\n"
    }
   }
  },
  {
   "cell_type": "code",
   "execution_count": 169,
   "outputs": [],
   "source": [
    "embedding_dim = 32\n",
    "input_dim = X_train_lstm.shape[1]  # Number of features\n",
    "num_classes = 4\n",
    "\n",
    "model_seq3 = Sequential()\n",
    "model_seq3.add(Embedding(input_dim=input_dim, output_dim=embedding_dim, input_length=max_length))\n",
    "\n",
    "# LSTM layer has 100 neurons which will work as the memory unit of the model\n",
    "model_seq3.add(LSTM(100))\n",
    "model_seq3.add(Dense(num_classes,activation='sigmoid'))"
   ],
   "metadata": {
    "collapsed": false,
    "pycharm": {
     "name": "#%%\n"
    }
   }
  },
  {
   "cell_type": "code",
   "execution_count": 170,
   "outputs": [],
   "source": [
    "model_seq3.compile(optimizer='adam',\n",
    "              loss='sparse_categorical_crossentropy',\n",
    "              metrics=['accuracy'])"
   ],
   "metadata": {
    "collapsed": false,
    "pycharm": {
     "name": "#%%\n"
    }
   }
  },
  {
   "cell_type": "code",
   "execution_count": 171,
   "outputs": [
    {
     "name": "stdout",
     "output_type": "stream",
     "text": [
      "Epoch 1/10\n",
      "698/698 [==============================] - 71s 100ms/step - loss: 1.3869 - accuracy: 0.2496 - val_loss: 1.3890 - val_accuracy: 0.2161\n",
      "Epoch 2/10\n",
      "698/698 [==============================] - 73s 105ms/step - loss: 1.3866 - accuracy: 0.2238 - val_loss: 1.3863 - val_accuracy: 0.2161\n",
      "Epoch 3/10\n",
      "698/698 [==============================] - 75s 107ms/step - loss: 1.3866 - accuracy: 0.2066 - val_loss: 1.3857 - val_accuracy: 0.2161\n",
      "Epoch 4/10\n",
      "698/698 [==============================] - 74s 106ms/step - loss: 1.3865 - accuracy: 0.2665 - val_loss: 1.3879 - val_accuracy: 0.1690\n",
      "Epoch 5/10\n",
      "698/698 [==============================] - 74s 106ms/step - loss: 1.3865 - accuracy: 0.2359 - val_loss: 1.3873 - val_accuracy: 0.2161\n",
      "Epoch 6/10\n",
      "698/698 [==============================] - 73s 104ms/step - loss: 1.3865 - accuracy: 0.2329 - val_loss: 1.3871 - val_accuracy: 0.1690\n",
      "Epoch 7/10\n",
      "698/698 [==============================] - 64s 91ms/step - loss: 1.3865 - accuracy: 0.2045 - val_loss: 1.3858 - val_accuracy: 0.2398\n",
      "Epoch 8/10\n",
      "698/698 [==============================] - 58s 83ms/step - loss: 1.3864 - accuracy: 0.2882 - val_loss: 1.3884 - val_accuracy: 0.1690\n",
      "Epoch 9/10\n",
      "698/698 [==============================] - 67s 96ms/step - loss: 1.3864 - accuracy: 0.2134 - val_loss: 1.3873 - val_accuracy: 0.2398\n",
      "Epoch 10/10\n",
      "698/698 [==============================] - 74s 106ms/step - loss: 1.3865 - accuracy: 0.2462 - val_loss: 1.3838 - val_accuracy: 0.3751\n",
      "Training Accuracy: 0.3812\n",
      "Training Loss: 1.3837\n"
     ]
    }
   ],
   "source": [
    "history3 = model_seq3.fit(X_train_lstm, y_train_lstm,\n",
    "                    epochs=10,\n",
    "                    verbose=\"auto\",\n",
    "                    validation_data=(X_test_lstm, y_test_lstm),\n",
    "                    batch_size=32,\n",
    "                    class_weight=class_weights)\n",
    "loss3, accuracy3 = model_seq3.evaluate(X_train_lstm, y_train_lstm, verbose=False)\n",
    "print(\"Training Accuracy: {:.4f}\".format(accuracy3))\n",
    "print(\"Training Loss: {:.4f}\".format(loss3))"
   ],
   "metadata": {
    "collapsed": false,
    "pycharm": {
     "name": "#%%\n"
    }
   }
  },
  {
   "cell_type": "code",
   "execution_count": 172,
   "outputs": [
    {
     "data": {
      "text/plain": "<Figure size 864x360 with 2 Axes>",
      "image/png": "[encoded data removed]"
     },
     "metadata": {},
     "output_type": "display_data"
    }
   ],
   "source": [
    "plot_history(history3)"
   ],
   "metadata": {
    "collapsed": false,
    "pycharm": {
     "name": "#%%\n"
    }
   }
  },
  {
   "cell_type": "markdown",
   "source": [
    "### Evaluate the Model"
   ],
   "metadata": {
    "collapsed": false,
    "pycharm": {
     "name": "#%% md\n"
    }
   }
  },
  {
   "cell_type": "code",
   "execution_count": 173,
   "outputs": [
    {
     "name": "stdout",
     "output_type": "stream",
     "text": [
      "175/175 [==============================] - 4s 19ms/step\n"
     ]
    }
   ],
   "source": [
    "y_pred_lstm = model_seq3.predict(X_test_lstm, verbose=1)\n",
    "y_pred_lstm = y_pred_lstm.argmax(axis=1)"
   ],
   "metadata": {
    "collapsed": false,
    "pycharm": {
     "name": "#%%\n"
    }
   }
  },
  {
   "cell_type": "code",
   "execution_count": 174,
   "outputs": [
    {
     "name": "stdout",
     "output_type": "stream",
     "text": [
      "confusion matrix:\n",
      "[[2093    0    0    0]\n",
      " [1338    0    0    0]\n",
      " [1206    0    0    0]\n",
      " [ 943    0    0    0]]\n"
     ]
    },
    {
     "data": {
      "text/plain": "<Figure size 432x288 with 2 Axes>",
      "image/png": "[encoded data removed]"
     },
     "metadata": {},
     "output_type": "display_data"
    },
    {
     "name": "stdout",
     "output_type": "stream",
     "text": [
      "0.3812446892261505\n"
     ]
    }
   ],
   "source": [
    "cf_lstm = confusion_matrix(y_test_lstm, y_pred_lstm)\n",
    "print(\"confusion matrix:\")\n",
    "print(cf_lstm)\n",
    "\n",
    "sns.heatmap(cf_lstm, annot=True, xticklabels=['Michael', 'Dwight', 'Jim', 'Pam'], yticklabels=['Michael', 'Dwight', 'Jim', 'Pam'])\n",
    "\n",
    "plt.show()\n",
    "print(accuracy3)"
   ],
   "metadata": {
    "collapsed": false,
    "pycharm": {
     "name": "#%%\n"
    }
   }
  },
  {
   "cell_type": "markdown",
   "source": [
    "### Comparing the models\n",
    "When the model fit is performed without class weights, the accuracy of the sequential models is equal or at least very similar. This results from the imbalance of the dataset. The other Classifiers (Linear Regression, Naive Bayes) provide a slightly better accuracy than the keras model."
   ],
   "metadata": {
    "collapsed": false,
    "pycharm": {
     "name": "#%% md\n"
    }
   }
  },
  {
   "cell_type": "code",
   "execution_count": 181,
   "outputs": [
    {
     "data": {
      "text/plain": "                    model class_weights(balanced)  accuracy      loss\n0             model_lr_cv                      no  0.426703         -\n1          model_lr_tfidf                      no  0.418996         -\n2  naive_bayes_classifier                      no  0.418996         -\n3               model_seq                      no  0.381245  1.338954\n4              model_seq2                      no  0.381245  1.339008\n5              model_seq2                     yes  0.381245  1.385696\n6              model_seq3                     yes  0.381245  1.383732",
      "text/html": "<div>\n<style scoped>\n    .dataframe tbody tr th:only-of-type {\n        vertical-align: middle;\n    }\n\n    .dataframe tbody tr th {\n        vertical-align: top;\n    }\n\n    .dataframe thead th {\n        text-align: right;\n    }\n</style>\n<table border=\"1\" class=\"dataframe\">\n  <thead>\n    <tr style=\"text-align: right;\">\n      <th></th>\n      <th>model</th>\n      <th>class_weights(balanced)</th>\n      <th>accuracy</th>\n      <th>loss</th>\n    </tr>\n  </thead>\n  <tbody>\n    <tr>\n      <th>0</th>\n      <td>model_lr_cv</td>\n      <td>no</td>\n      <td>0.426703</td>\n      <td>-</td>\n    </tr>\n    <tr>\n      <th>1</th>\n      <td>model_lr_tfidf</td>\n      <td>no</td>\n      <td>0.418996</td>\n      <td>-</td>\n    </tr>\n    <tr>\n      <th>2</th>\n      <td>naive_bayes_classifier</td>\n      <td>no</td>\n      <td>0.418996</td>\n      <td>-</td>\n    </tr>\n    <tr>\n      <th>3</th>\n      <td>model_seq</td>\n      <td>no</td>\n      <td>0.381245</td>\n      <td>1.338954</td>\n    </tr>\n    <tr>\n      <th>4</th>\n      <td>model_seq2</td>\n      <td>no</td>\n      <td>0.381245</td>\n      <td>1.339008</td>\n    </tr>\n    <tr>\n      <th>5</th>\n      <td>model_seq2</td>\n      <td>yes</td>\n      <td>0.381245</td>\n      <td>1.385696</td>\n    </tr>\n    <tr>\n      <th>6</th>\n      <td>model_seq3</td>\n      <td>yes</td>\n      <td>0.381245</td>\n      <td>1.383732</td>\n    </tr>\n  </tbody>\n</table>\n</div>"
     },
     "execution_count": 181,
     "metadata": {},
     "output_type": "execute_result"
    }
   ],
   "source": [
    "df_compare = pd.DataFrame(columns=['model','class_weights(balanced)', 'accuracy', 'loss'])\n",
    "\n",
    "df_compare['model'] = [\"model_lr_cv\", \"model_lr_tfidf\", \"naive_bayes_classifier\", \"model_seq\", \"model_seq2\",\"model_seq2\" , \"model_seq3\"]\n",
    "df_compare['class_weights(balanced)'] = [\"no\", \"no\", \"no\", \"no\", \"no\",\"yes\" , \"yes\"]\n",
    "df_compare['accuracy'] = [score_cv, score_tfidf, score_nb, accuracy1, accuracy2, accuracy2_bal, accuracy3]\n",
    "df_compare['loss'] = [\"-\", \"-\", \"-\", loss1, loss2, loss2_bal, loss3]\n",
    "df_compare"
   ],
   "metadata": {
    "collapsed": false,
    "pycharm": {
     "name": "#%%\n"
    }
   }
  },
  {
   "cell_type": "markdown",
   "source": [
    "## LDA"
   ],
   "metadata": {
    "collapsed": false,
    "pycharm": {
     "name": "#%% md\n"
    }
   }
  },
  {
   "cell_type": "markdown",
   "source": [
    "Extract the main topics of the data or rather of each character's quotes by using LDA(Latent Dirichlet Allocation).\n",
    "LDA classifies the text of the dataset to a particular topic. Each document is modeled as a multinomial distribution of topics and each topic is modeled as a multinomial distribution of words.\n",
    "\n",
    "We start by building a dictionary out of the preprocessed quotes in the dataframe \"df_for_lda\" that we saved after tokenization and lemmatization."
   ],
   "metadata": {
    "collapsed": false,
    "pycharm": {
     "name": "#%% md\n"
    }
   }
  },
  {
   "cell_type": "code",
   "execution_count": 55,
   "outputs": [
    {
     "data": {
      "text/plain": "                                               quote character  \\\n0  So you’ve come to the master for guidance? Is ...   Michael   \n1    All right. Well, let me show you how it’s done.   Michael   \n2  If you think she’s cute now, you should have s...   Michael   \n3                                      Any messages?   Michael   \n4  Oh! Pam, this is from Corporate. How many time...   Michael   \n\n                                             stemmed  \n0            [come, master, guidanc, say, grasshopp]  \n1                     [right, well, let, show, done]  \n2              [think, cute, seen, coupl, year, ago]  \n3                                           [messag]  \n4  [oh, pam, corpor, mani, time, told, special, f...  ",
      "text/html": "<div>\n<style scoped>\n    .dataframe tbody tr th:only-of-type {\n        vertical-align: middle;\n    }\n\n    .dataframe tbody tr th {\n        vertical-align: top;\n    }\n\n    .dataframe thead th {\n        text-align: right;\n    }\n</style>\n<table border=\"1\" class=\"dataframe\">\n  <thead>\n    <tr style=\"text-align: right;\">\n      <th></th>\n      <th>quote</th>\n      <th>character</th>\n      <th>stemmed</th>\n    </tr>\n  </thead>\n  <tbody>\n    <tr>\n      <th>0</th>\n      <td>So you’ve come to the master for guidance? Is ...</td>\n      <td>Michael</td>\n      <td>[come, master, guidanc, say, grasshopp]</td>\n    </tr>\n    <tr>\n      <th>1</th>\n      <td>All right. Well, let me show you how it’s done.</td>\n      <td>Michael</td>\n      <td>[right, well, let, show, done]</td>\n    </tr>\n    <tr>\n      <th>2</th>\n      <td>If you think she’s cute now, you should have s...</td>\n      <td>Michael</td>\n      <td>[think, cute, seen, coupl, year, ago]</td>\n    </tr>\n    <tr>\n      <th>3</th>\n      <td>Any messages?</td>\n      <td>Michael</td>\n      <td>[messag]</td>\n    </tr>\n    <tr>\n      <th>4</th>\n      <td>Oh! Pam, this is from Corporate. How many time...</td>\n      <td>Michael</td>\n      <td>[oh, pam, corpor, mani, time, told, special, f...</td>\n    </tr>\n  </tbody>\n</table>\n</div>"
     },
     "execution_count": 55,
     "metadata": {},
     "output_type": "execute_result"
    }
   ],
   "source": [
    "df_for_lda.head()"
   ],
   "metadata": {
    "collapsed": false,
    "pycharm": {
     "name": "#%%\n"
    }
   }
  },
  {
   "cell_type": "code",
   "execution_count": 56,
   "outputs": [],
   "source": [
    "dictionary = gensim.corpora.Dictionary(df_for_lda['stemmed'])"
   ],
   "metadata": {
    "collapsed": false,
    "pycharm": {
     "name": "#%%\n"
    }
   }
  },
  {
   "cell_type": "markdown",
   "source": [
    "We use the created dictionary for each document to convert it into a bag of words. The dictionary reports how many words and how many times those words appear in the document."
   ],
   "metadata": {
    "collapsed": false,
    "pycharm": {
     "name": "#%% md\n"
    }
   }
  },
  {
   "cell_type": "code",
   "execution_count": 57,
   "outputs": [],
   "source": [
    "bow_corpus = [dictionary.doc2bow(doc) for doc in df_for_lda['stemmed']]"
   ],
   "metadata": {
    "collapsed": false,
    "pycharm": {
     "name": "#%%\n"
    }
   }
  },
  {
   "cell_type": "code",
   "execution_count": 58,
   "outputs": [],
   "source": [
    "lda_model =  gensim.models.LdaMulticore(bow_corpus,\n",
    "                                   num_topics = 8,\n",
    "                                   id2word = dictionary,\n",
    "                                   passes = 10,\n",
    "                                   workers = 2)"
   ],
   "metadata": {
    "collapsed": false,
    "pycharm": {
     "name": "#%%\n"
    }
   }
  },
  {
   "cell_type": "code",
   "execution_count": 310,
   "outputs": [
    {
     "name": "stderr",
     "output_type": "stream",
     "text": [
      "C:\\Users\\angel\\anaconda3\\lib\\site-packages\\pyLDAvis\\_prepare.py:246: FutureWarning: In a future version of pandas all arguments of DataFrame.drop except for the argument 'labels' will be keyword-only.\n",
      "  default_term_info = default_term_info.sort_values(\n"
     ]
    },
    {
     "data": {
      "text/plain": "PreparedData(topic_coordinates=              x         y  topics  cluster       Freq\ntopic                                                \n1     -0.119096  0.040191       1        1  16.581110\n5     -0.107185  0.046632       2        1  15.103053\n3     -0.089848  0.007229       3        1  13.379880\n2     -0.104778  0.077395       4        1  12.998412\n7     -0.098028  0.003304       5        1  12.202583\n0      0.043337 -0.267107       6        1  10.372391\n6      0.211103 -0.112669       7        1  10.074913\n4      0.264495  0.205025       8        1   9.287659, topic_info=        Term         Freq        Total Category  logprob  loglift\n21        oh  1672.000000  1672.000000  Default  30.0000  30.0000\n54      yeah  1164.000000  1164.000000  Default  29.0000  29.0000\n436     okay  1116.000000  1116.000000  Default  28.0000  28.0000\n59      good  1024.000000  1024.000000  Default  27.0000  27.0000\n7      right  1138.000000  1138.000000  Default  26.0000  26.0000\n..       ...          ...          ...      ...      ...      ...\n251  michael    92.072694   954.419529   Topic8  -4.9493   0.0380\n51     great    73.451318   548.256466   Topic8  -5.1752   0.3664\n115      man    61.651908   375.687309   Topic8  -5.3504   0.5692\n128     take    63.167210   513.082255   Topic8  -5.3261   0.2818\n623     name    53.891879   190.623622   Topic8  -5.4849   1.1132\n\n[569 rows x 6 columns], token_table=      Topic      Freq       Term\nterm                            \n1128      1  0.129544        abl\n1128      2  0.018506        abl\n1128      4  0.832783        abl\n1191      4  0.846680        act\n1191      6  0.148169        act\n...     ...       ...        ...\n1322      7  0.995432        yep\n2327      3  0.992325  yesterday\n2193      6  0.996209       york\n1040      3  0.992518        yup\n3710      3  0.955142       zero\n\n[1209 rows x 3 columns], R=30, lambda_step=0.01, plot_opts={'xlab': 'PC1', 'ylab': 'PC2'}, topic_order=[2, 6, 4, 3, 8, 1, 7, 5])",
      "text/html": "\n<link rel=\"stylesheet\" type=\"text/css\" href=\"https://cdn.jsdelivr.net/gh/bmabey/pyLDAvis@3.3.1/pyLDAvis/js/ldavis.v1.0.0.css\">\n\n\n<div id=\"ldavis_el13902416173610572648866617784\"></div>\n<script type=\"text/javascript\">\n\nvar ldavis_el13902416173610572648866617784_data = {\"mdsDat\": {\"x\": [-0.11909644031698607, -0.1071854222746581, -0.08984781894775395, -0.10477774241708389, -0.09802803293446948, 0.043337405917416916, 0.21110264620891742, 0.2644954047646176], \"y\": [0.04019146219940506, 0.046632090696638255, 0.007228632413913808, 0.07739500816934843, 0.0033043668462042542, -0.2671071839924955, -0.11266895802843585, 0.20502458169542168], \"topics\": [1, 2, 3, 4, 5, 6, 7, 8], \"cluster\": [1, 1, 1, 1, 1, 1, 1, 1], \"Freq\": [16.581110209182306, 15.103052801256592, 13.379880337159152, 12.998411616984079, 12.202582505198425, 10.372390529626154, 10.074912524578222, 9.28765947601507]}, \"tinfo\": {\"Term\": [\"oh\", \"yeah\", \"okay\", \"good\", \"right\", \"na\", \"realli\", \"ye\", \"gon\", \"hey\", \"thank\", \"like\", \"know\", \"go\", \"god\", \"would\", \"think\", \"got\", \"ok\", \"jim\", \"sorri\", \"wow\", \"talk\", \"let\", \"want\", \"come\", \"dwight\", \"pam\", \"uh\", \"stop\", \"cool\", \"whoa\", \"mose\", \"dad\", \"truth\", \"hors\", \"quick\", \"wrote\", \"vacat\", \"race\", \"rabi\", \"air\", \"sexual\", \"loser\", \"hug\", \"awkward\", \"loud\", \"egg\", \"film\", \"roof\", \"daughter\", \"histori\", \"hide\", \"resum\", \"devic\", \"exampl\", \"passion\", \"prefer\", \"diseas\", \"crack\", \"rememb\", \"roy\", \"mom\", \"wed\", \"trust\", \"certain\", \"dead\", \"pam\", \"birthday\", \"know\", \"mifflin\", \"say\", \"moment\", \"dunder\", \"tell\", \"exactli\", \"happi\", \"run\", \"game\", \"caus\", \"love\", \"everyon\", \"kind\", \"friend\", \"els\", \"get\", \"think\", \"guess\", \"peopl\", \"someth\", \"want\", \"even\", \"better\", \"thing\", \"ryan\", \"like\", \"could\", \"well\", \"help\", \"would\", \"go\", \"one\", \"look\", \"guy\", \"need\", \"mean\", \"crazi\", \"saw\", \"ta\", \"bye\", \"ago\", \"along\", \"pain\", \"anim\", \"cri\", \"charact\", \"situat\", \"goodby\", \"glass\", \"recent\", \"thousand\", \"allow\", \"crap\", \"boob\", \"mess\", \"plastic\", \"wheel\", \"candi\", \"internet\", \"hunt\", \"goal\", \"imposs\", \"wire\", \"confus\", \"kept\", \"instead\", \"talk\", \"got\", \"shut\", \"prison\", \"open\", \"laugh\", \"card\", \"year\", \"call\", \"pull\", \"went\", \"listen\", \"week\", \"day\", \"made\", \"fun\", \"whole\", \"late\", \"us\", \"last\", \"true\", \"see\", \"girl\", \"night\", \"guy\", \"big\", \"today\", \"know\", \"like\", \"peopl\", \"end\", \"time\", \"get\", \"go\", \"work\", \"thought\", \"thing\", \"dwight\", \"one\", \"realli\", \"mean\", \"right\", \"make\", \"offic\", \"think\", \"alright\", \"nope\", \"boom\", \"coffe\", \"yup\", \"okay\", \"temp\", \"cake\", \"improv\", \"yesterday\", \"ahh\", \"agre\", \"pressur\", \"excel\", \"lice\", \"lesson\", \"trick\", \"fool\", \"search\", \"corner\", \"zero\", \"lock\", \"murder\", \"bob\", \"speed\", \"shark\", \"peni\", \"hole\", \"grief\", \"florida\", \"understand\", \"fine\", \"relax\", \"great\", \"sit\", \"said\", \"tri\", \"think\", \"let\", \"michael\", \"jump\", \"wrong\", \"keep\", \"dinner\", \"work\", \"next\", \"hand\", \"go\", \"make\", \"need\", \"question\", \"car\", \"lot\", \"everybodi\", \"time\", \"well\", \"meet\", \"someth\", \"get\", \"first\", \"good\", \"see\", \"one\", \"know\", \"like\", \"stop\", \"christma\", \"stay\", \"ha\", \"blood\", \"key\", \"taken\", \"smell\", \"stuck\", \"printer\", \"monkey\", \"promot\", \"opportun\", \"trap\", \"costum\", \"shop\", \"third\", \"fanci\", \"tabl\", \"local\", \"kati\", \"male\", \"urin\", \"jesu\", \"compar\", \"nake\", \"polic\", \"golden\", \"beg\", \"deliv\", \"fight\", \"idea\", \"second\", \"sure\", \"shoe\", \"eight\", \"would\", \"like\", \"seem\", \"hous\", \"abl\", \"lost\", \"respect\", \"woman\", \"present\", \"act\", \"bad\", \"want\", \"hear\", \"definit\", \"mayb\", \"pleas\", \"thing\", \"bit\", \"littl\", \"find\", \"one\", \"jim\", \"room\", \"see\", \"need\", \"make\", \"get\", \"think\", \"well\", \"feel\", \"dwight\", \"look\", \"two\", \"someth\", \"call\", \"hey\", \"pick\", \"darryl\", \"brain\", \"parent\", \"soon\", \"copi\", \"cloth\", \"food\", \"cell\", \"robert\", \"jo\", \"truck\", \"nelli\", \"road\", \"nut\", \"refer\", \"jerk\", \"choos\", \"weak\", \"battl\", \"american\", \"especi\", \"pete\", \"counti\", \"suspect\", \"field\", \"ga\", \"italian\", \"regret\", \"none\", \"clean\", \"phone\", \"wait\", \"congratul\", \"stress\", \"chair\", \"babi\", \"happen\", \"way\", \"hello\", \"number\", \"best\", \"oscar\", \"hair\", \"one\", \"easi\", \"job\", \"back\", \"welcom\", \"ever\", \"may\", \"done\", \"well\", \"mean\", \"give\", \"could\", \"get\", \"work\", \"never\", \"want\", \"offic\", \"take\", \"know\", \"come\", \"peopl\", \"go\", \"guy\", \"michael\", \"look\", \"na\", \"ye\", \"gon\", \"wan\", \"york\", \"hmm\", \"region\", \"assist\", \"blah\", \"wake\", \"somewher\", \"prank\", \"shot\", \"sensei\", \"carrot\", \"buck\", \"shirt\", \"threw\", \"visit\", \"la\", \"spirit\", \"exercis\", \"mon\", \"gentlemen\", \"hm\", \"grave\", \"describ\", \"committe\", \"agent\", \"condo\", \"kelli\", \"ok\", \"door\", \"part\", \"move\", \"nice\", \"new\", \"hi\", \"citi\", \"manag\", \"leav\", \"go\", \"scott\", \"noth\", \"close\", \"parti\", \"forgot\", \"angela\", \"paper\", \"michael\", \"back\", \"compani\", \"three\", \"busi\", \"let\", \"get\", \"look\", \"day\", \"yeah\", \"god\", \"huh\", \"yep\", \"hay\", \"volunt\", \"shh\", \"basketbal\", \"cat\", \"fax\", \"destroy\", \"paint\", \"wood\", \"hypothet\", \"sheriff\", \"contract\", \"cancel\", \"other\", \"grade\", \"hawk\", \"tire\", \"cost\", \"isabel\", \"deer\", \"mommi\", \"birth\", \"introduc\", \"pack\", \"event\", \"fianc\", \"oh\", \"unfortun\", \"five\", \"miss\", \"ah\", \"schrute\", \"stanley\", \"uh\", \"minut\", \"jim\", \"dwight\", \"check\", \"halpert\", \"hot\", \"funni\", \"pound\", \"ten\", \"bag\", \"man\", \"let\", \"hurt\", \"go\", \"walk\", \"michael\", \"year\", \"one\", \"come\", \"well\", \"pleas\", \"turn\", \"give\", \"take\", \"thank\", \"wow\", \"list\", \"luck\", \"record\", \"enemi\", \"common\", \"neck\", \"red\", \"bernard\", \"cousin\", \"finger\", \"punch\", \"appreci\", \"capabl\", \"file\", \"intern\", \"breakfast\", \"teeth\", \"initi\", \"fantast\", \"proud\", \"whoo\", \"letter\", \"nose\", \"bride\", \"obviou\", \"salad\", \"approv\", \"soup\", \"andi\", \"good\", \"right\", \"sorri\", \"monster\", \"realli\", \"creed\", \"phylli\", \"seriou\", \"meredith\", \"come\", \"pretti\", \"distract\", \"much\", \"sound\", \"help\", \"kid\", \"oh\", \"morn\", \"time\", \"though\", \"um\", \"look\", \"actual\", \"angela\", \"pay\", \"back\", \"michael\", \"great\", \"man\", \"take\", \"name\"], \"Freq\": [1672.0, 1164.0, 1116.0, 1024.0, 1138.0, 767.0, 998.0, 674.0, 617.0, 638.0, 555.0, 1550.0, 1803.0, 1881.0, 385.0, 827.0, 1098.0, 642.0, 429.0, 696.0, 338.0, 272.0, 390.0, 664.0, 908.0, 817.0, 704.0, 515.0, 486.0, 241.0, 133.58274526406714, 72.90596595221845, 53.944053308113084, 51.949666051532766, 40.53165336549266, 35.1435024120397, 30.62454469735426, 30.37314399557876, 29.829349532554996, 27.05485774024705, 24.744506725562577, 31.4543457251355, 22.31758397576955, 22.172152424902453, 20.148516613639377, 19.532548989930433, 18.99889953299812, 18.84229308784801, 18.747153285512216, 18.663886217819904, 18.558617606847836, 29.58887941344695, 18.07896641610611, 18.0471303179591, 18.00068411524399, 17.81056243576036, 17.503819079014733, 17.14914340304166, 16.5961514850542, 16.955620257971223, 88.27510486644012, 62.842330476417885, 89.60710799193087, 86.61364550268421, 41.9427918578181, 29.641140502569986, 60.514626588088966, 382.09693094768886, 77.02901736878215, 1131.8571757465552, 107.7731262810886, 450.0603730328125, 48.21139058180954, 110.0446249999593, 306.6492711276692, 73.45921702948871, 108.48721808824936, 69.4818077307094, 83.24619997089553, 103.50564755587865, 244.69175903511123, 127.01859697464411, 137.35926832461092, 162.71600646088868, 87.76839447704016, 440.8072204199208, 356.98290627806097, 101.73378633764804, 244.10193410405518, 173.00065621255592, 290.36441448426484, 142.22071852940175, 114.07929230278322, 202.841551831075, 111.09240598033772, 256.4630760125862, 143.73688672023542, 168.45237840442735, 101.99745931129468, 159.40613208394467, 185.9980773535857, 134.29247455663403, 115.88624800722694, 114.9418499840806, 114.24220630693617, 110.59345957111843, 98.62160061118202, 97.76980659608762, 90.40715178988114, 64.95282959640453, 84.69935880025663, 43.695418930811655, 41.80192259777254, 37.04862587211789, 36.339329475348514, 31.81495694027628, 33.468985178617814, 29.19675899608312, 28.440214204357396, 28.180120580807678, 27.875097335991118, 27.11554526937434, 24.027740327067026, 22.038827563224576, 23.35597708151356, 19.267265976386216, 19.174196597000304, 19.021549733284576, 18.920857662024364, 18.540252968341253, 19.027372486303396, 17.315781859113013, 16.72700267980919, 16.563289388744984, 16.405901702470015, 37.792435850547804, 366.0077895447871, 526.2569950064434, 43.67302297029838, 31.631586939907827, 65.2204696849098, 54.7423715310195, 53.50439719197586, 270.3345084503442, 274.7386539220287, 40.889830631019564, 96.27072309422199, 104.49060123928366, 88.41930128503536, 277.8271326119403, 114.98729384348154, 108.95079070877429, 73.88883259479523, 44.23744641959739, 153.12251968868375, 110.66584720183462, 51.9684542864987, 204.90893425749272, 79.42861653764443, 83.99752034685976, 185.27773884063163, 109.79254244205752, 131.59823120377305, 343.00937080870125, 285.87431498419045, 179.6746963909572, 77.95569116357196, 165.89587921604604, 222.47002294738573, 241.90338246184723, 136.00167833852453, 100.12566099316172, 135.35621829780314, 135.25861833461772, 140.659251266768, 131.44725272600465, 110.8934165204097, 124.54028735790956, 113.50619989443925, 107.48078162907696, 102.13292723189119, 226.5102793518138, 90.54622427281234, 43.7149673423596, 41.38029885893411, 38.66737166372767, 1097.6398006800853, 36.21409024762188, 33.24736405221863, 31.820667221143495, 36.5103677085582, 29.441049991107807, 28.25426714952418, 27.654220769883178, 31.996630432587327, 25.57584989149903, 25.53223213665867, 30.356702620512905, 22.574217293280913, 22.477643057385304, 21.70551752247988, 21.359496694826305, 21.363128058623882, 22.657459827652122, 20.46676282877712, 20.152010504993022, 19.520800183847438, 20.514665462195666, 19.031868743970566, 18.890620237672614, 18.525915422441464, 103.04061651970409, 170.96054708475148, 24.398342603034827, 334.06128061666425, 84.40145134254851, 187.31669758674082, 197.887133605993, 501.8410057071202, 335.4831545086585, 418.9920615044442, 36.00916979624932, 85.68269756728638, 103.38063590328908, 39.12901886151417, 224.54126545843397, 77.63209255263186, 73.77110108821019, 443.0262438878984, 203.8947642811637, 172.77548833345526, 73.72631354191255, 71.6557913760435, 111.67275384026499, 90.3524092159449, 157.37224951689606, 183.40719789853722, 85.0066495970433, 112.93150172948914, 191.76887594876104, 86.89919354756164, 147.95060534664816, 112.65668569394799, 91.23287660956207, 95.15697146119922, 90.58926911302837, 240.7056559608987, 99.3977552231141, 94.2686566657234, 75.67367980546908, 38.26993146303502, 37.33641691929521, 33.721147407656524, 32.046007373806184, 31.511759958130607, 31.01892593884063, 27.71040422044143, 25.962242098477997, 25.8084523537112, 23.79214753722902, 23.641208415638236, 23.483531072672225, 24.003825883596907, 19.424918761932314, 19.36258809793594, 19.355811783600682, 19.320429772554085, 18.523379025591453, 18.030923819626278, 17.516407499111473, 17.219699317116984, 16.907206893876545, 16.537591960786852, 16.456021177559055, 15.90851635365324, 15.891242254414779, 81.70905220762289, 181.105630781527, 143.66724324076705, 186.51290106330367, 32.83690822399859, 30.392969721878842, 537.3045873460044, 889.8505983450922, 74.89454333110106, 62.32906409205281, 44.99905285336101, 41.346835286763145, 63.94067141739009, 90.85430000669136, 55.929743084614636, 39.78187913981639, 109.66045577228199, 368.11282609425535, 68.6755459313702, 59.640695763036604, 140.48956237498862, 115.63966222113855, 209.5087575964952, 71.3632412847591, 153.5949289040733, 93.92586235091225, 205.97317220842476, 150.03779136572481, 72.19949180387414, 122.22392031699945, 116.91924707425258, 116.16191670322951, 141.3990360283947, 130.34504311805628, 112.00752387703066, 87.02059064827844, 101.02453624419898, 96.19799737071938, 84.2857362103652, 84.34969005771421, 84.23125481241176, 638.2329481548123, 75.23331184506127, 70.76300001264194, 55.555462109015416, 47.16223564893214, 44.5173135981106, 39.7266612579819, 37.742088615592856, 78.65095538973385, 31.616808660273975, 31.410689861608986, 30.536864880841815, 29.546275206883024, 29.280642632347345, 27.3061922588881, 26.45222242153299, 25.37104887086088, 24.628499486575468, 24.198631856962262, 23.359278218334637, 21.833036747650514, 21.775865298584186, 21.386478797864733, 20.767701220120383, 20.447561369753878, 20.36818649035203, 19.772498413982003, 19.45137514396481, 19.434424565258414, 19.422067251667958, 27.529021244789313, 28.594621004265992, 101.36251369199846, 227.61909388379803, 27.27258314731097, 21.702013462877108, 45.69698407694792, 135.0497187229242, 168.12605922755748, 268.0518583977989, 92.58140665462041, 92.02512092558793, 144.53164835080304, 83.85185067400204, 35.17417130347968, 350.80234263763475, 47.2505050127302, 138.61140642588657, 207.47638664563814, 50.588978308756545, 112.61168220617078, 63.21553431921349, 76.4817422311921, 215.36952335293003, 134.61296119563707, 113.84887578110104, 128.20600005176584, 207.93730252232396, 140.6906774138709, 102.47499773498336, 152.36801293700796, 106.39476144635239, 117.67253058535562, 180.58976491727333, 131.61676164559, 115.34094788901311, 135.9631109476572, 92.78270769035021, 94.87086322919893, 84.546164814451, 766.9126379602657, 674.0286909896555, 616.890855015098, 102.84171864442739, 94.7357701972629, 78.31481500860073, 52.1179814939082, 50.606826218690315, 36.791088363524956, 35.410826722946034, 30.569859646725885, 29.00804915973364, 42.82531700629344, 26.206712598199662, 25.80395840656994, 25.099995180638267, 24.587419355053687, 23.88035223929533, 23.80636043692523, 22.386540244012192, 21.910717986538593, 21.6668059478458, 21.528931094195126, 20.775798740845726, 20.223228670013377, 19.472921565673797, 19.144466525678837, 18.797192253785845, 18.606804582915032, 18.25784326753082, 83.31693442343946, 353.92339158056683, 42.764526023713984, 119.4317902328739, 108.1989852007848, 199.1567169128351, 238.69057322692063, 101.1897399890967, 42.94411594074811, 131.6603866176954, 98.98734270778633, 623.6012013781659, 86.9783355514434, 95.95831100310126, 67.98122611084986, 80.73649754658945, 36.183468999672854, 68.75111913151692, 87.94002126819117, 158.3341957939701, 92.23402824202525, 63.99697315636835, 67.01338665387986, 64.01367134059375, 81.61290228605341, 81.46557728688036, 71.46315553307531, 68.88012476353008, 1163.5138891840063, 384.75437452637215, 97.20523172324424, 71.71034820875515, 36.26898892131783, 31.20544597327788, 30.784882963231187, 28.4378010377818, 28.182137360012753, 26.526650090588685, 25.485135213168828, 22.489518140016216, 21.454375827063668, 21.183860875501306, 20.84390711529168, 20.43015955064053, 19.784101255535926, 19.46014205803434, 19.198824267081555, 18.445946372687338, 18.31427623242482, 18.14971972279162, 17.700230026932573, 17.39506046288608, 16.42366019760397, 16.23216176483678, 16.222989208723217, 15.9315751982476, 15.908940702215578, 15.483140215117633, 1410.664385087838, 21.72794993763029, 148.7725220438333, 89.6493484664944, 101.21418988558234, 115.49433099504905, 132.32503977318976, 280.4959261193197, 100.5563837637815, 351.814715097928, 332.3537791348223, 81.10404297128295, 53.63189950941388, 58.99545327883631, 66.27834473142516, 34.89335482984284, 50.34507346325242, 35.2548736106578, 137.41855099737327, 189.91333896085897, 39.759454898878914, 228.8440422608392, 45.804517121261156, 109.91201701127727, 71.10197415974372, 93.6342860795251, 84.06338645611379, 69.2102755270983, 50.72212916314958, 45.19510312221825, 47.61265232424824, 48.282160344352754, 554.6424053146269, 272.26465059375647, 55.49178785289602, 48.78367878687687, 40.94760174875658, 33.23169947699369, 31.4381900578095, 29.5270462453142, 28.636355164243298, 27.454703666017636, 26.137626090395994, 25.917030982369692, 25.704229375938958, 49.51740203197002, 25.109913638141112, 23.704337328646343, 19.795964324176587, 19.70096798138686, 19.207251016221885, 18.646342696109496, 18.383786069015102, 17.592533959311297, 17.48608779229153, 16.597040393066646, 16.185592199304146, 15.233960895531865, 15.153105962699792, 15.139601158130525, 14.927425572200482, 14.899588829695093, 194.8711453954482, 870.6123596175341, 875.3666798706704, 274.20307619821665, 25.995477097188235, 733.6558163342962, 42.62436892944949, 132.72424549708433, 40.843948479960915, 76.89386220816209, 348.1886104698616, 105.53555215580259, 32.75334118387104, 146.2222757382275, 80.13866860316692, 91.4057492835702, 110.58762832399232, 260.6287984746414, 58.32188439660214, 146.76982290581788, 51.83486036769679, 91.09473504061792, 114.02056748859628, 76.12845385782379, 56.72174575429823, 44.85928026244014, 79.17082881208326, 92.07269398433596, 73.45131801404027, 61.65190821029531, 63.16721048986782, 53.891879053867726], \"Total\": [1672.0, 1164.0, 1116.0, 1024.0, 1138.0, 767.0, 998.0, 674.0, 617.0, 638.0, 555.0, 1550.0, 1803.0, 1881.0, 385.0, 827.0, 1098.0, 642.0, 429.0, 696.0, 338.0, 272.0, 390.0, 664.0, 908.0, 817.0, 704.0, 515.0, 486.0, 241.0, 134.21945822314368, 73.54383310647964, 54.58027405800756, 52.58610608410415, 41.16770547641085, 35.78147351969368, 31.26036218785333, 31.01464367278078, 30.46549963283119, 27.69095770865235, 25.38005477622499, 32.30691273908819, 22.953780075496123, 22.807712962641325, 20.784322864461608, 20.168431671174226, 19.63831207888064, 19.47846061550113, 19.38306824436831, 19.29986594760841, 19.194457130456357, 30.616292387347613, 18.715295537986922, 18.683204502765857, 18.63887231380824, 18.44824429745135, 18.13988149803323, 17.785568109205514, 17.2315229443621, 17.618438260676882, 95.55278780018887, 67.59681683461936, 97.78504032630364, 94.5372877187279, 45.10006095578375, 31.44018801617837, 69.28759918896576, 515.1930807922458, 90.5886736882725, 1803.6222159116012, 138.3260016796269, 706.443120843522, 56.05870260609915, 143.56171073780894, 474.81630902802544, 92.11189253982334, 150.0719112265144, 90.80563028333759, 114.93421126897172, 154.77727292113502, 475.68463218450415, 207.01304712492643, 234.93291502747726, 295.4799920365867, 128.98211135883687, 1287.3049456772915, 1098.4125419844509, 172.57178795560537, 657.2954025896638, 389.6743694132581, 908.7569460834943, 312.6872363037804, 222.47333818437215, 685.2805870486351, 213.2187307970024, 1550.778494576464, 461.79315076020885, 914.7708787852147, 204.12560223477516, 827.4146412058458, 1881.6498900941276, 1024.1638109377295, 582.5073088986363, 549.480550828313, 570.158005367075, 425.9825823108653, 99.2654013824738, 98.41019080083306, 91.04709139130972, 65.59343466825415, 85.63330951740731, 44.3358176390228, 42.44215696223704, 37.695474363019954, 37.04498908540408, 32.45496326305202, 34.16964764556031, 29.836582780639855, 29.0808025633876, 28.820605607067197, 28.520913524771114, 27.759178813320602, 24.66833988543728, 22.69734374620988, 24.065444288531765, 19.90755162002963, 19.815221165326353, 19.66162546016858, 19.561687303028034, 19.180576681802847, 19.704911577354768, 17.96363795668332, 17.366896503288228, 17.20363354741608, 17.048206980991697, 39.27741939677901, 390.0917604063344, 642.1437967168748, 47.43620565034223, 34.858722923288944, 79.08559894170796, 65.59419622533564, 64.5666277430141, 419.05464244274924, 464.5620615027104, 48.6236470739954, 135.52566671600317, 156.01682818488177, 126.65795533069048, 534.62468976763, 189.73591306253738, 179.11311759050912, 106.68584615132121, 54.01559013448407, 313.4749528815587, 202.32007538062913, 68.08794816610012, 578.83226892579, 133.95453742412062, 147.26195953364945, 549.480550828313, 235.22964232392277, 328.0591231963628, 1803.6222159116012, 1550.778494576464, 657.2954025896638, 135.5236877506927, 672.2504634030304, 1287.3049456772915, 1881.6498900941276, 614.897008660651, 266.1118451836692, 685.2805870486351, 704.2331728962444, 1024.1638109377295, 998.2779630677718, 425.9825823108653, 1138.4829629025649, 653.3082414704179, 385.1671033672777, 1098.4125419844509, 227.14443117731798, 91.17300711036917, 44.341909727598356, 42.007219252172696, 39.2939925998364, 1116.1981878391257, 36.84096593190452, 33.874589194726354, 32.44827768614298, 37.2861670586666, 30.068132036018955, 28.881112962521048, 28.28722192578558, 32.757158807447034, 26.20337606329063, 26.177582959111373, 31.132486632822392, 23.201052405519498, 23.105012471137844, 22.33263285652371, 21.986255046099092, 21.99014497366631, 23.324987933354823, 21.094384613365886, 20.779504234018685, 20.14748892521995, 21.184498673128335, 19.65916275467485, 19.519493202929826, 19.153175426521017, 110.44987396584288, 188.0010287390569, 25.931063206702586, 548.2564663967705, 111.86969105149171, 291.6131533052458, 328.76526776429864, 1098.4125419844509, 664.9947308239321, 954.4195286994277, 42.455521770917564, 143.6228220681725, 187.26432390545867, 49.74811819229565, 614.897008660651, 133.2870795827291, 126.9722259094581, 1881.6498900941276, 653.3082414704179, 570.158005367075, 141.859898839791, 140.07035001737614, 309.0665696522511, 216.94695798193084, 672.2504634030304, 914.7708787852147, 209.0033786245227, 389.6743694132581, 1287.3049456772915, 251.61822260394715, 1024.1435590143635, 578.83226892579, 1024.1638109377295, 1803.6222159116012, 1550.778494576464, 241.56679997567852, 100.0415350995068, 94.90441942356046, 76.30611941923308, 38.90267177836812, 37.97224416349811, 34.361920814230466, 32.6788233894188, 32.1449192322605, 31.65230280540316, 28.342877466615356, 26.59518385127287, 26.441586318866303, 24.425587750029415, 24.273963505079887, 24.12075177933372, 24.679903394324086, 20.058305641260596, 19.995633190600604, 19.989846768510148, 19.954986623952802, 19.156213907584984, 18.663383113840773, 18.14939495535001, 17.852857548645762, 17.54025123245083, 17.17076109960904, 17.088407264552824, 16.541351207638428, 16.52725449378094, 87.47448824789868, 221.5772157632714, 173.28704413115963, 237.05395100436803, 36.10001450739464, 33.514333676800014, 827.4146412058458, 1550.778494576464, 93.98460633346104, 76.83031737464854, 54.035694874175405, 48.96040654334966, 82.41051980844051, 127.41683248463045, 70.72939165397018, 47.24334073136341, 177.33742040162866, 908.7569460834943, 101.37596215737949, 84.65142901190254, 297.23908094550177, 237.43398959478458, 685.2805870486351, 122.7640971935743, 433.3975914997877, 202.34654745844816, 1024.1638109377295, 696.623587948002, 157.5586475566457, 578.83226892579, 570.158005367075, 653.3082414704179, 1287.3049456772915, 1098.4125419844509, 914.7708787852147, 330.61450327887394, 704.2331728962444, 582.5073088986363, 302.27703676811586, 389.6743694132581, 464.5620615027104, 638.8703264931238, 75.89882790513872, 71.39511775639562, 56.215149342719386, 47.79455037016221, 45.14911172143502, 40.35812746937332, 38.37471735140663, 80.06573716287824, 32.24818846039176, 32.042309400782635, 31.17946001211563, 30.178464656283754, 29.91224824311452, 27.93856370686089, 27.084184371403847, 26.002756189631334, 25.259809675163073, 24.830100383459236, 23.990959161239697, 22.46433600439981, 22.407350526132713, 22.018208952575208, 21.39981748013208, 21.079401038930303, 20.999821726634075, 20.404450587645666, 20.08278811990823, 20.06589589117034, 20.053969695094942, 28.59120815714851, 29.84338993524766, 111.36210621261668, 259.54704258232005, 28.536628413336352, 22.504054851700268, 51.21790940962383, 176.49356592809286, 227.92653746506724, 434.3987883416279, 130.4592929796775, 131.30533421316264, 240.0915866386375, 126.60288428449135, 40.58343061457637, 1024.1638109377295, 61.33751567371024, 279.4730102644463, 511.70270411988747, 69.72509614428503, 254.6336588022303, 102.91449529575031, 146.69043966312546, 914.7708787852147, 425.9825823108653, 337.1939275707438, 461.79315076020885, 1287.3049456772915, 614.897008660651, 319.4734649618037, 908.7569460834943, 385.1671033672777, 513.0822552365843, 1803.6222159116012, 817.4998530747332, 657.2954025896638, 1881.6498900941276, 549.480550828313, 954.4195286994277, 582.5073088986363, 767.5428349635921, 674.6791951091986, 617.5235660819283, 103.46706219195674, 95.36148347188936, 79.19146139805389, 52.74323021274321, 51.232168736227734, 37.41635515469825, 36.03754972488594, 31.207751368139643, 29.63475722936036, 43.78097379730752, 26.831877769373385, 26.42965290059003, 25.726188887334924, 25.213139877072255, 24.50691765469629, 24.4321537955913, 23.012348441635396, 22.5370201557629, 22.292962304168565, 22.154391244704325, 21.401118772765987, 20.84860420735301, 20.09966518195751, 19.77059165998996, 19.42295183020228, 19.23223921537527, 18.883160916362204, 91.56289491120124, 429.79807611752614, 47.898056059152424, 150.00244726537255, 135.5013434870033, 276.54945018350253, 357.7313198311763, 138.50728914180004, 50.755505111844826, 219.89833162830212, 159.7354391238996, 1881.6498900941276, 145.7232116028981, 167.45200451103153, 107.3491447950515, 186.20362222993487, 47.82191434002611, 157.91313540029284, 255.75262645200837, 954.4195286994277, 511.70270411988747, 186.7165406247591, 222.83490750241413, 206.4408598561806, 664.9947308239321, 1287.3049456772915, 582.5073088986363, 534.62468976763, 1164.165977798223, 385.51667553945504, 97.82653586758879, 72.33041686577826, 36.88985032891198, 31.826378659036642, 31.404911208726208, 29.0599871684703, 28.802524504118853, 27.147391834248648, 26.10534727773774, 23.110199937065637, 22.075831063812487, 21.804388662783463, 21.464415829060435, 21.050494045882825, 20.404617559103155, 20.083334742594946, 19.820566357007312, 19.067046399732902, 18.93550853753955, 18.77012218210875, 18.32054652129901, 18.0154064354062, 17.043905139151498, 16.85280802879172, 16.84366421476873, 16.552361445593966, 16.530743134312544, 16.105225526228626, 1672.3875501818343, 22.846635063633283, 172.54736060211218, 105.65781084694267, 128.15433537966518, 152.8716980920035, 188.27734060378648, 486.0793068693763, 144.0620494156353, 696.623587948002, 704.2331728962444, 128.58971437827628, 77.06702838866804, 90.59654112382505, 108.75709975505703, 44.41177852313673, 76.09789282390167, 46.87792175866305, 375.6873094261815, 664.9947308239321, 56.60760508097399, 1881.6498900941276, 90.39228986136015, 954.4195286994277, 419.05464244274924, 1024.1638109377295, 817.4998530747332, 914.7708787852147, 237.43398959478458, 164.89709773038797, 337.1939275707438, 513.0822552365843, 555.2618320489316, 272.885867975653, 56.111269284535425, 49.42812991331583, 41.56685728759296, 33.8507445034237, 32.05799291443479, 30.147091688306112, 29.255859758379454, 28.074140593601644, 26.757562191285327, 26.536462981572225, 26.323446461838618, 50.73150187518672, 25.729206765442804, 24.324566230456277, 20.41575380332671, 20.32028300952251, 19.826480794644315, 19.266226385417102, 19.00277310712841, 18.214034467248492, 18.134652920232725, 17.216274182091254, 16.804674192793772, 15.854118346591791, 15.772780164115577, 15.758740415068699, 15.547084889789096, 15.522421157682725, 211.413143469231, 1024.1435590143635, 1138.4829629025649, 338.6306086695645, 27.859508151059458, 998.2779630677718, 48.776184246292836, 190.41084519920466, 51.75092670026093, 115.60157288405422, 817.4998530747332, 184.93600042497872, 39.68141264320828, 335.1883279027189, 162.6768361156157, 204.12560223477516, 288.302258420476, 1672.3875501818343, 114.0896230836106, 672.2504634030304, 99.06253668322643, 348.15238694462914, 582.5073088986363, 312.99136126854455, 157.91313540029284, 85.94695451991747, 511.70270411988747, 954.4195286994277, 548.2564663967705, 375.6873094261815, 513.0822552365843, 190.62362154035014], \"Category\": [\"Default\", \"Default\", \"Default\", \"Default\", \"Default\", \"Default\", \"Default\", \"Default\", \"Default\", \"Default\", \"Default\", \"Default\", \"Default\", \"Default\", \"Default\", \"Default\", \"Default\", \"Default\", \"Default\", \"Default\", \"Default\", \"Default\", \"Default\", \"Default\", \"Default\", \"Default\", \"Default\", \"Default\", \"Default\", \"Default\", \"Topic1\", \"Topic1\", \"Topic1\", \"Topic1\", \"Topic1\", \"Topic1\", \"Topic1\", \"Topic1\", \"Topic1\", \"Topic1\", \"Topic1\", \"Topic1\", \"Topic1\", \"Topic1\", \"Topic1\", \"Topic1\", \"Topic1\", \"Topic1\", \"Topic1\", \"Topic1\", \"Topic1\", \"Topic1\", \"Topic1\", \"Topic1\", \"Topic1\", \"Topic1\", \"Topic1\", \"Topic1\", \"Topic1\", \"Topic1\", \"Topic1\", \"Topic1\", \"Topic1\", \"Topic1\", \"Topic1\", \"Topic1\", \"Topic1\", \"Topic1\", \"Topic1\", \"Topic1\", \"Topic1\", \"Topic1\", \"Topic1\", \"Topic1\", \"Topic1\", \"Topic1\", \"Topic1\", \"Topic1\", \"Topic1\", \"Topic1\", \"Topic1\", \"Topic1\", \"Topic1\", \"Topic1\", \"Topic1\", \"Topic1\", \"Topic1\", \"Topic1\", \"Topic1\", \"Topic1\", \"Topic1\", \"Topic1\", \"Topic1\", \"Topic1\", \"Topic1\", \"Topic1\", \"Topic1\", \"Topic1\", \"Topic1\", \"Topic1\", \"Topic1\", \"Topic1\", \"Topic1\", \"Topic1\", \"Topic1\", \"Topic1\", \"Topic2\", \"Topic2\", \"Topic2\", \"Topic2\", \"Topic2\", \"Topic2\", \"Topic2\", \"Topic2\", \"Topic2\", \"Topic2\", \"Topic2\", \"Topic2\", \"Topic2\", \"Topic2\", \"Topic2\", \"Topic2\", \"Topic2\", \"Topic2\", \"Topic2\", \"Topic2\", \"Topic2\", \"Topic2\", \"Topic2\", \"Topic2\", \"Topic2\", \"Topic2\", \"Topic2\", \"Topic2\", \"Topic2\", \"Topic2\", \"Topic2\", \"Topic2\", \"Topic2\", \"Topic2\", \"Topic2\", \"Topic2\", \"Topic2\", \"Topic2\", \"Topic2\", \"Topic2\", \"Topic2\", \"Topic2\", \"Topic2\", \"Topic2\", \"Topic2\", \"Topic2\", \"Topic2\", \"Topic2\", \"Topic2\", \"Topic2\", \"Topic2\", \"Topic2\", \"Topic2\", \"Topic2\", \"Topic2\", \"Topic2\", \"Topic2\", \"Topic2\", \"Topic2\", \"Topic2\", \"Topic2\", \"Topic2\", \"Topic2\", \"Topic2\", \"Topic2\", \"Topic2\", \"Topic2\", \"Topic2\", \"Topic2\", \"Topic2\", \"Topic2\", \"Topic2\", \"Topic2\", \"Topic2\", \"Topic2\", \"Topic3\", \"Topic3\", \"Topic3\", \"Topic3\", \"Topic3\", \"Topic3\", \"Topic3\", \"Topic3\", \"Topic3\", \"Topic3\", \"Topic3\", \"Topic3\", \"Topic3\", \"Topic3\", \"Topic3\", \"Topic3\", \"Topic3\", \"Topic3\", \"Topic3\", \"Topic3\", \"Topic3\", \"Topic3\", \"Topic3\", \"Topic3\", \"Topic3\", \"Topic3\", \"Topic3\", \"Topic3\", \"Topic3\", \"Topic3\", \"Topic3\", \"Topic3\", \"Topic3\", \"Topic3\", \"Topic3\", \"Topic3\", \"Topic3\", \"Topic3\", \"Topic3\", \"Topic3\", \"Topic3\", \"Topic3\", \"Topic3\", \"Topic3\", \"Topic3\", \"Topic3\", \"Topic3\", \"Topic3\", \"Topic3\", \"Topic3\", \"Topic3\", \"Topic3\", \"Topic3\", \"Topic3\", \"Topic3\", \"Topic3\", \"Topic3\", \"Topic3\", \"Topic3\", \"Topic3\", \"Topic3\", \"Topic3\", \"Topic3\", \"Topic3\", \"Topic3\", \"Topic4\", \"Topic4\", \"Topic4\", \"Topic4\", \"Topic4\", \"Topic4\", \"Topic4\", \"Topic4\", \"Topic4\", \"Topic4\", \"Topic4\", \"Topic4\", \"Topic4\", \"Topic4\", \"Topic4\", \"Topic4\", \"Topic4\", \"Topic4\", \"Topic4\", \"Topic4\", \"Topic4\", \"Topic4\", \"Topic4\", \"Topic4\", \"Topic4\", \"Topic4\", \"Topic4\", \"Topic4\", \"Topic4\", \"Topic4\", \"Topic4\", \"Topic4\", \"Topic4\", \"Topic4\", \"Topic4\", \"Topic4\", \"Topic4\", \"Topic4\", \"Topic4\", \"Topic4\", \"Topic4\", \"Topic4\", \"Topic4\", \"Topic4\", \"Topic4\", \"Topic4\", \"Topic4\", \"Topic4\", \"Topic4\", \"Topic4\", \"Topic4\", \"Topic4\", \"Topic4\", \"Topic4\", \"Topic4\", \"Topic4\", \"Topic4\", \"Topic4\", \"Topic4\", \"Topic4\", \"Topic4\", \"Topic4\", \"Topic4\", \"Topic4\", \"Topic4\", \"Topic4\", \"Topic4\", \"Topic4\", \"Topic4\", \"Topic4\", \"Topic4\", \"Topic5\", \"Topic5\", \"Topic5\", \"Topic5\", \"Topic5\", \"Topic5\", \"Topic5\", \"Topic5\", \"Topic5\", \"Topic5\", \"Topic5\", \"Topic5\", \"Topic5\", \"Topic5\", \"Topic5\", \"Topic5\", \"Topic5\", \"Topic5\", \"Topic5\", \"Topic5\", \"Topic5\", \"Topic5\", \"Topic5\", \"Topic5\", \"Topic5\", \"Topic5\", \"Topic5\", \"Topic5\", \"Topic5\", \"Topic5\", \"Topic5\", \"Topic5\", \"Topic5\", \"Topic5\", \"Topic5\", \"Topic5\", \"Topic5\", \"Topic5\", \"Topic5\", \"Topic5\", \"Topic5\", \"Topic5\", \"Topic5\", \"Topic5\", \"Topic5\", \"Topic5\", \"Topic5\", \"Topic5\", \"Topic5\", \"Topic5\", \"Topic5\", \"Topic5\", \"Topic5\", \"Topic5\", \"Topic5\", \"Topic5\", \"Topic5\", \"Topic5\", \"Topic5\", \"Topic5\", \"Topic5\", \"Topic5\", \"Topic5\", \"Topic5\", \"Topic5\", \"Topic5\", \"Topic5\", \"Topic5\", \"Topic5\", \"Topic5\", \"Topic6\", \"Topic6\", \"Topic6\", \"Topic6\", \"Topic6\", \"Topic6\", \"Topic6\", \"Topic6\", \"Topic6\", \"Topic6\", \"Topic6\", \"Topic6\", \"Topic6\", \"Topic6\", \"Topic6\", \"Topic6\", \"Topic6\", \"Topic6\", \"Topic6\", \"Topic6\", \"Topic6\", \"Topic6\", \"Topic6\", \"Topic6\", \"Topic6\", \"Topic6\", \"Topic6\", \"Topic6\", \"Topic6\", \"Topic6\", \"Topic6\", \"Topic6\", \"Topic6\", \"Topic6\", \"Topic6\", \"Topic6\", \"Topic6\", \"Topic6\", \"Topic6\", \"Topic6\", \"Topic6\", \"Topic6\", \"Topic6\", \"Topic6\", \"Topic6\", \"Topic6\", \"Topic6\", \"Topic6\", \"Topic6\", \"Topic6\", \"Topic6\", \"Topic6\", \"Topic6\", \"Topic6\", \"Topic6\", \"Topic6\", \"Topic6\", \"Topic6\", \"Topic7\", \"Topic7\", \"Topic7\", \"Topic7\", \"Topic7\", \"Topic7\", \"Topic7\", \"Topic7\", \"Topic7\", \"Topic7\", \"Topic7\", \"Topic7\", \"Topic7\", \"Topic7\", \"Topic7\", \"Topic7\", \"Topic7\", \"Topic7\", \"Topic7\", \"Topic7\", \"Topic7\", \"Topic7\", \"Topic7\", \"Topic7\", \"Topic7\", \"Topic7\", \"Topic7\", \"Topic7\", \"Topic7\", \"Topic7\", \"Topic7\", \"Topic7\", \"Topic7\", \"Topic7\", \"Topic7\", \"Topic7\", \"Topic7\", \"Topic7\", \"Topic7\", \"Topic7\", \"Topic7\", \"Topic7\", \"Topic7\", \"Topic7\", \"Topic7\", \"Topic7\", \"Topic7\", \"Topic7\", \"Topic7\", \"Topic7\", \"Topic7\", \"Topic7\", \"Topic7\", \"Topic7\", \"Topic7\", \"Topic7\", \"Topic7\", \"Topic7\", \"Topic7\", \"Topic7\", \"Topic7\", \"Topic7\", \"Topic8\", \"Topic8\", \"Topic8\", \"Topic8\", \"Topic8\", \"Topic8\", \"Topic8\", \"Topic8\", \"Topic8\", \"Topic8\", \"Topic8\", \"Topic8\", \"Topic8\", \"Topic8\", \"Topic8\", \"Topic8\", \"Topic8\", \"Topic8\", \"Topic8\", \"Topic8\", \"Topic8\", \"Topic8\", \"Topic8\", \"Topic8\", \"Topic8\", \"Topic8\", \"Topic8\", \"Topic8\", \"Topic8\", \"Topic8\", \"Topic8\", \"Topic8\", \"Topic8\", \"Topic8\", \"Topic8\", \"Topic8\", \"Topic8\", \"Topic8\", \"Topic8\", \"Topic8\", \"Topic8\", \"Topic8\", \"Topic8\", \"Topic8\", \"Topic8\", \"Topic8\", \"Topic8\", \"Topic8\", \"Topic8\", \"Topic8\", \"Topic8\", \"Topic8\", \"Topic8\", \"Topic8\", \"Topic8\", \"Topic8\", \"Topic8\", \"Topic8\", \"Topic8\", \"Topic8\", \"Topic8\", \"Topic8\"], \"logprob\": [30.0, 29.0, 28.0, 27.0, 26.0, 25.0, 24.0, 23.0, 22.0, 21.0, 20.0, 19.0, 18.0, 17.0, 16.0, 15.0, 14.0, 13.0, 12.0, 11.0, 10.0, 9.0, 8.0, 7.0, 6.0, 5.0, 4.0, 3.0, 2.0, 1.0, -5.1567, -5.7623, -6.0635, -6.1012, -6.3494, -6.492, -6.6296, -6.6379, -6.6559, -6.7536, -6.8428, -6.6029, -6.9461, -6.9526, -7.0483, -7.0794, -7.1071, -7.1153, -7.1204, -7.1249, -7.1305, -6.664, -7.1567, -7.1585, -7.161, -7.1716, -7.189, -7.2095, -7.2423, -7.2208, -5.571, -5.9108, -5.556, -5.59, -6.3151, -6.6623, -5.9486, -4.1058, -5.7073, -3.0198, -5.3714, -3.9421, -6.1758, -5.3506, -4.3257, -5.7547, -5.3648, -5.8104, -5.6296, -5.4118, -4.5514, -5.2071, -5.1288, -4.9594, -5.5767, -3.9628, -4.1738, -5.4291, -4.5539, -4.8981, -4.3803, -5.0941, -5.3145, -4.739, -5.3411, -4.5045, -5.0835, -4.9248, -5.4265, -4.98, -4.8257, -5.1514, -5.2988, -5.307, -5.3131, -5.3456, -5.3668, -5.3755, -5.4538, -5.7844, -5.519, -6.1808, -6.2251, -6.3458, -6.3652, -6.4981, -6.4475, -6.584, -6.6103, -6.6195, -6.6303, -6.658, -6.7789, -6.8653, -6.8072, -6.9997, -7.0045, -7.0125, -7.0178, -7.0381, -7.0122, -7.1065, -7.141, -7.1509, -7.1604, -6.326, -4.0554, -3.6923, -6.1813, -6.5039, -5.7803, -5.9554, -5.9783, -4.3584, -4.3423, -6.2472, -5.3909, -5.309, -5.476, -4.3311, -5.2133, -5.2672, -5.6555, -6.1685, -4.9268, -5.2516, -6.0074, -4.6355, -5.5832, -5.5273, -4.7362, -5.2595, -5.0783, -4.1203, -4.3025, -4.7669, -5.6019, -4.8467, -4.5533, -4.4695, -5.0454, -5.3516, -5.0502, -5.0509, -5.0117, -5.0795, -5.2495, -5.1334, -5.2262, -5.2808, -5.3318, -4.4141, -5.3311, -6.0592, -6.1141, -6.1819, -2.836, -6.2475, -6.333, -6.3768, -6.2393, -6.4545, -6.4957, -6.5172, -6.3713, -6.5953, -6.597, -6.4239, -6.7201, -6.7244, -6.7594, -6.7754, -6.7753, -6.7164, -6.8181, -6.8336, -6.8654, -6.8158, -6.8908, -6.8983, -6.9178, -5.2018, -4.6955, -6.6424, -4.0256, -5.4013, -4.6041, -4.5492, -3.6186, -4.0214, -3.7991, -6.2532, -5.3863, -5.1985, -6.1701, -4.4229, -5.4849, -5.536, -3.7433, -4.5193, -4.6849, -5.5366, -5.5651, -5.1214, -5.3332, -4.7783, -4.6252, -5.3942, -5.1101, -4.5806, -5.3722, -4.8401, -5.1126, -5.3235, -5.2814, -5.3306, -4.3244, -5.2089, -5.2619, -5.4816, -6.1633, -6.188, -6.2899, -6.3408, -6.3576, -6.3734, -6.4862, -6.5514, -6.5573, -6.6386, -6.645, -6.6517, -6.6298, -6.8414, -6.8447, -6.845, -6.8468, -6.889, -6.9159, -6.9449, -6.962, -6.9803, -7.0024, -7.0073, -7.0411, -7.0422, -5.4048, -4.6089, -4.8405, -4.5795, -6.3165, -6.3938, -3.5214, -3.017, -5.4919, -5.6756, -6.0014, -6.086, -5.65, -5.2987, -5.7839, -6.1246, -5.1106, -3.8996, -5.5786, -5.7197, -4.8629, -5.0575, -4.4632, -5.5402, -4.7737, -5.2655, -4.4803, -4.7971, -5.5286, -5.0021, -5.0465, -5.053, -4.8564, -4.9378, -5.0894, -5.3419, -5.1926, -5.2416, -5.3738, -5.373, -5.3744, -3.2861, -5.4242, -5.4855, -5.7274, -5.8912, -5.9489, -6.0628, -6.114, -5.3798, -6.2911, -6.2977, -6.3259, -6.3589, -6.3679, -6.4377, -6.4695, -6.5112, -6.5409, -6.5585, -6.5938, -6.6614, -6.664, -6.6821, -6.7114, -6.727, -6.7309, -6.7605, -6.7769, -6.7778, -6.7784, -6.4296, -6.3916, -5.1261, -4.3172, -6.4389, -6.6674, -5.9228, -4.8392, -4.6201, -4.1536, -5.2167, -5.2228, -4.7713, -5.3158, -6.1845, -3.8846, -5.8894, -4.8132, -4.4098, -5.8211, -5.0209, -5.5983, -5.4078, -4.3725, -4.8424, -5.01, -4.8912, -4.4076, -4.7983, -5.1152, -4.7185, -5.0777, -4.9769, -4.5486, -4.8649, -4.9969, -4.8324, -5.2146, -5.1923, -5.3075, -2.94, -3.0691, -3.1576, -4.9491, -5.0312, -5.2216, -5.6288, -5.6582, -5.9771, -6.0153, -6.1623, -6.2148, -5.8252, -6.3163, -6.3318, -6.3595, -6.3801, -6.4093, -6.4124, -6.4739, -6.4953, -6.5065, -6.5129, -6.5485, -6.5755, -6.6133, -6.6303, -6.6486, -6.6588, -6.6777, -5.1597, -3.7132, -5.8266, -4.7996, -4.8984, -4.2882, -4.1072, -4.9653, -5.8224, -4.7021, -4.9873, -3.1468, -5.1167, -5.0184, -5.3631, -5.1911, -5.9937, -5.3518, -5.1057, -4.5176, -5.058, -5.4235, -5.3774, -5.4232, -5.1803, -5.1821, -5.3131, -5.35, -2.494, -3.6006, -4.9764, -5.2806, -5.9623, -6.1126, -6.1262, -6.2055, -6.2145, -6.2751, -6.3151, -6.4402, -6.4873, -6.5, -6.5162, -6.5362, -6.5683, -6.5849, -6.5984, -6.6384, -6.6455, -6.6546, -6.6796, -6.697, -6.7545, -6.7662, -6.7668, -6.7849, -6.7863, -6.8135, -2.3014, -6.4746, -4.5508, -5.0573, -4.936, -4.804, -4.668, -3.9167, -4.9425, -3.6901, -3.747, -5.1575, -5.5711, -5.4758, -5.3594, -6.0009, -5.6343, -5.9906, -4.6302, -4.3067, -5.8704, -4.1202, -5.7288, -4.8535, -5.2891, -5.0138, -5.1217, -5.3161, -5.6269, -5.7422, -5.6901, -5.6762, -3.1535, -3.8651, -5.4556, -5.5845, -5.7596, -5.9684, -6.0238, -6.0866, -6.1172, -6.1593, -6.2085, -6.217, -6.2252, -5.5695, -6.2486, -6.3062, -6.4864, -6.4912, -6.5166, -6.5462, -6.5604, -6.6044, -6.6105, -6.6626, -6.6877, -6.7483, -6.7537, -6.7545, -6.7687, -6.7705, -4.1995, -2.7027, -2.6972, -3.858, -6.2139, -2.8738, -5.7194, -4.5836, -5.7621, -5.1294, -3.6191, -4.8128, -5.9829, -4.4867, -5.0881, -4.9566, -4.7661, -3.9088, -5.4059, -4.483, -5.5238, -4.96, -4.7355, -5.1394, -5.4337, -5.6683, -5.1003, -4.9493, -5.1752, -5.3504, -5.3261, -5.4849], \"loglift\": [30.0, 29.0, 28.0, 27.0, 26.0, 25.0, 24.0, 23.0, 22.0, 21.0, 20.0, 19.0, 18.0, 17.0, 16.0, 15.0, 14.0, 13.0, 12.0, 11.0, 10.0, 9.0, 8.0, 7.0, 6.0, 5.0, 4.0, 3.0, 2.0, 1.0, 1.7922, 1.7882, 1.7852, 1.7847, 1.7813, 1.7789, 1.7764, 1.776, 1.7758, 1.7737, 1.7715, 1.7702, 1.7688, 1.7686, 1.7658, 1.7649, 1.7638, 1.7637, 1.7635, 1.7634, 1.7632, 1.7628, 1.7623, 1.7623, 1.7621, 1.7617, 1.7612, 1.7605, 1.7593, 1.7586, 1.7177, 1.724, 1.7096, 1.7094, 1.7243, 1.738, 1.6615, 1.498, 1.6348, 1.331, 1.5473, 1.346, 1.6461, 1.531, 1.3597, 1.5706, 1.4724, 1.5292, 1.4743, 1.3945, 1.1322, 1.3085, 1.2602, 1.2003, 1.4119, 0.7252, 0.673, 1.2685, 0.8064, 0.9849, 0.656, 1.0091, 1.129, 0.5795, 1.1449, -0.0026, 0.6298, 0.1049, 1.1031, 0.1501, -0.5173, -0.2347, 0.1822, 0.2324, 0.1893, 0.4484, 1.8838, 1.8837, 1.8832, 1.8805, 1.8793, 1.8757, 1.8751, 1.873, 1.871, 1.8704, 1.8696, 1.8686, 1.868, 1.8678, 1.8674, 1.8668, 1.864, 1.8608, 1.8603, 1.8576, 1.8574, 1.8572, 1.857, 1.8563, 1.8553, 1.8535, 1.8527, 1.8523, 1.8519, 1.8517, 1.8265, 1.6913, 1.8076, 1.7931, 1.6975, 1.7094, 1.7023, 1.4519, 1.365, 1.717, 1.5483, 1.4894, 1.5309, 1.2357, 1.3895, 1.3932, 1.5229, 1.6906, 1.1738, 1.2869, 1.6201, 0.8518, 1.3676, 1.3288, 0.8032, 1.1283, 0.9768, 0.2305, 0.1993, 0.5933, 1.3373, 0.491, 0.1348, -0.1611, 0.3815, 0.9128, 0.2684, 0.2404, -0.095, -0.1372, 0.5444, -0.3225, 0.1401, 0.6139, -0.4851, 2.0086, 2.0045, 1.9972, 1.9964, 1.9953, 1.9947, 1.9943, 1.9927, 1.9919, 1.9904, 1.9903, 1.9895, 1.9888, 1.9879, 1.9872, 1.9865, 1.9862, 1.984, 1.9839, 1.9829, 1.9825, 1.9825, 1.9824, 1.9812, 1.9808, 1.9798, 1.9793, 1.979, 1.9787, 1.9781, 1.942, 1.9164, 1.9505, 1.516, 1.7297, 1.5688, 1.5038, 1.2281, 1.3272, 1.1882, 1.8467, 1.4949, 1.4173, 1.7713, 1.004, 1.4709, 1.4684, 0.5651, 0.847, 0.8175, 1.3569, 1.3411, 0.9934, 1.1355, 0.5594, 0.4045, 1.1118, 0.7729, 0.1074, 0.9483, 0.0767, 0.3748, -0.4068, -0.9306, -0.8288, 2.0368, 2.0339, 2.0336, 2.032, 2.0239, 2.0235, 2.0215, 2.0208, 2.0204, 2.0201, 2.0178, 2.0163, 2.0161, 2.0141, 2.0139, 2.0136, 2.0126, 2.0083, 2.0082, 2.0081, 2.008, 2.0067, 2.0059, 2.0048, 2.0042, 2.0036, 2.0028, 2.0026, 2.0013, 2.0011, 1.9722, 1.8387, 1.8529, 1.8006, 1.9456, 1.9426, 1.6086, 1.4849, 1.8133, 1.8312, 1.8573, 1.8713, 1.7866, 1.7021, 1.8056, 1.8684, 1.5597, 1.1367, 1.6509, 1.6901, 1.2909, 1.3209, 0.8553, 1.4979, 1.003, 1.2729, 0.4365, 0.505, 1.26, 0.4852, 0.4559, 0.3133, -0.1684, -0.0911, -0.0598, 0.7055, 0.0986, 0.2394, 0.7632, 0.51, 0.3328, 2.1025, 2.0947, 2.0946, 2.0917, 2.0902, 2.0894, 2.0878, 2.0869, 2.0857, 2.0837, 2.0836, 2.0827, 2.0824, 2.0822, 2.0806, 2.0799, 2.0789, 2.0782, 2.0778, 2.0768, 2.075, 2.0749, 2.0744, 2.0735, 2.0731, 2.073, 2.0721, 2.0716, 2.0715, 2.0715, 2.0657, 2.0608, 2.0094, 1.9723, 2.0582, 2.0672, 1.9895, 1.8359, 1.7992, 1.6207, 1.7605, 1.7481, 1.596, 1.6915, 1.9605, 1.0321, 1.8426, 1.4023, 1.2008, 1.7827, 1.2876, 1.6162, 1.4523, 0.6572, 0.9515, 1.0177, 0.822, 0.2805, 0.6286, 0.9665, 0.3177, 0.817, 0.631, -0.1978, 0.2772, 0.3633, -0.524, 0.3248, -0.2051, 0.1735, 2.2652, 2.2651, 2.265, 2.26, 2.2594, 2.2549, 2.2541, 2.2537, 2.2492, 2.2485, 2.2454, 2.2446, 2.244, 2.2424, 2.2421, 2.2414, 2.2409, 2.2401, 2.2401, 2.2385, 2.2378, 2.2375, 2.2374, 2.2364, 2.2356, 2.2343, 2.2338, 2.2333, 2.233, 2.2323, 2.1716, 2.0718, 2.1527, 2.0381, 2.041, 1.9377, 1.8614, 1.9521, 2.0989, 1.7531, 1.7875, 1.1616, 1.75, 1.7092, 1.8092, 1.4304, 1.9871, 1.4345, 1.1985, 0.4696, 0.5526, 1.1953, 1.0645, 1.0951, 0.1682, -0.4941, 0.1679, 0.2168, 2.2946, 2.2931, 2.2888, 2.2865, 2.2781, 2.2754, 2.2752, 2.2735, 2.2733, 2.272, 2.2711, 2.2679, 2.2666, 2.2663, 2.2658, 2.2652, 2.2642, 2.2636, 2.2633, 2.262, 2.2618, 2.2615, 2.2607, 2.2601, 2.2581, 2.2576, 2.2576, 2.2569, 2.2568, 2.2557, 2.1249, 2.2449, 2.1469, 2.1308, 2.0591, 2.0147, 1.9425, 1.7453, 1.9356, 1.612, 1.5442, 1.8342, 1.9326, 1.8662, 1.7999, 2.0539, 1.882, 2.0102, 1.2894, 1.0419, 1.9418, 0.1883, 1.6153, 0.1337, 0.5212, -0.0971, 0.0204, -0.2864, 0.7516, 1.0008, 0.3376, -0.0683, 2.3754, 2.3742, 2.3654, 2.3634, 2.3615, 2.358, 2.357, 2.3557, 2.3551, 2.3542, 2.353, 2.3529, 2.3527, 2.3523, 2.3521, 2.3507, 2.3457, 2.3455, 2.3448, 2.3438, 2.3434, 2.3418, 2.3401, 2.3399, 2.3389, 2.3366, 2.3364, 2.3364, 2.3358, 2.3355, 2.295, 2.2141, 2.1137, 2.1654, 2.3072, 2.0685, 2.2417, 2.0156, 2.1398, 1.9688, 1.523, 1.8155, 2.1846, 1.5469, 1.6685, 1.5731, 1.4183, 0.5176, 1.7055, 0.8547, 1.7288, 1.0357, 0.7455, 0.9627, 1.3526, 1.7263, 0.5103, 0.038, 0.3664, 0.5692, 0.2818, 1.1132]}, \"token.table\": {\"Topic\": [1, 2, 4, 4, 6, 1, 2, 3, 4, 5, 6, 7, 8, 6, 2, 3, 3, 7, 8, 3, 1, 2, 2, 3, 5, 2, 8, 4, 6, 7, 8, 2, 4, 8, 8, 6, 1, 2, 4, 5, 6, 7, 1, 2, 3, 4, 5, 6, 7, 8, 1, 2, 3, 4, 5, 7, 5, 7, 7, 5, 4, 8, 1, 3, 4, 5, 6, 1, 3, 4, 5, 1, 2, 3, 4, 5, 6, 8, 7, 1, 2, 1, 4, 6, 4, 3, 2, 3, 5, 8, 8, 6, 1, 2, 4, 5, 6, 7, 8, 2, 3, 1, 2, 3, 4, 5, 7, 8, 7, 2, 8, 1, 2, 3, 5, 2, 3, 6, 7, 1, 2, 3, 4, 5, 1, 4, 4, 5, 2, 1, 2, 7, 8, 5, 4, 5, 6, 2, 5, 2, 6, 7, 5, 3, 1, 2, 3, 4, 5, 6, 7, 8, 6, 8, 1, 2, 3, 4, 5, 6, 7, 8, 4, 6, 2, 5, 7, 7, 1, 5, 3, 7, 4, 1, 2, 3, 4, 5, 5, 8, 1, 2, 2, 6, 7, 8, 2, 1, 5, 1, 1, 2, 3, 4, 5, 6, 7, 8, 1, 4, 7, 4, 7, 4, 6, 7, 1, 1, 3, 1, 4, 8, 1, 2, 3, 4, 5, 2, 6, 1, 6, 8, 1, 2, 4, 5, 6, 7, 8, 2, 5, 1, 3, 4, 1, 2, 6, 1, 2, 4, 5, 8, 5, 1, 2, 3, 4, 5, 6, 7, 1, 2, 3, 4, 5, 6, 1, 2, 3, 5, 6, 7, 1, 2, 3, 4, 5, 7, 1, 2, 6, 1, 3, 6, 4, 8, 7, 1, 2, 3, 4, 7, 8, 7, 5, 1, 4, 8, 1, 1, 2, 4, 5, 6, 7, 2, 3, 8, 1, 2, 3, 5, 6, 7, 2, 6, 7, 3, 1, 5, 3, 6, 8, 1, 2, 3, 5, 6, 8, 1, 2, 3, 4, 5, 7, 8, 1, 4, 7, 8, 5, 1, 6, 7, 8, 6, 1, 2, 3, 4, 5, 6, 7, 1, 2, 3, 4, 5, 8, 1, 2, 3, 4, 5, 6, 7, 8, 2, 1, 2, 3, 4, 5, 6, 7, 2, 7, 4, 6, 2, 3, 4, 8, 2, 1, 2, 3, 5, 7, 8, 7, 6, 1, 2, 3, 4, 5, 6, 7, 8, 3, 1, 4, 6, 7, 8, 1, 2, 3, 4, 5, 7, 4, 2, 5, 3, 4, 7, 1, 2, 3, 5, 7, 2, 3, 4, 5, 1, 5, 6, 8, 7, 7, 1, 2, 3, 4, 6, 8, 5, 7, 1, 6, 8, 5, 1, 6, 1, 1, 6, 6, 3, 1, 2, 6, 7, 3, 4, 1, 7, 2, 2, 5, 7, 7, 1, 3, 4, 2, 3, 8, 2, 4, 8, 2, 7, 7, 5, 5, 4, 1, 2, 3, 4, 7, 8, 5, 1, 3, 4, 5, 6, 8, 2, 3, 4, 4, 1, 2, 3, 5, 6, 7, 5, 6, 2, 4, 1, 2, 3, 4, 6, 7, 8, 1, 4, 5, 6, 1, 2, 3, 4, 5, 6, 6, 1, 2, 4, 5, 6, 7, 1, 2, 1, 2, 4, 1, 3, 4, 5, 6, 7, 3, 1, 2, 3, 4, 5, 6, 7, 8, 3, 1, 2, 3, 4, 5, 6, 7, 8, 2, 4, 5, 7, 1, 2, 3, 4, 5, 6, 7, 8, 4, 3, 1, 2, 3, 4, 5, 6, 7, 8, 1, 3, 4, 1, 2, 3, 4, 5, 7, 8, 1, 1, 2, 3, 4, 5, 6, 7, 8, 1, 2, 3, 4, 5, 8, 1, 2, 3, 4, 5, 6, 7, 8, 4, 1, 2, 4, 5, 6, 7, 8, 1, 4, 5, 6, 1, 2, 3, 5, 1, 2, 3, 4, 5, 1, 2, 3, 4, 5, 6, 8, 1, 2, 3, 4, 6, 1, 4, 5, 8, 2, 1, 2, 3, 5, 6, 7, 8, 1, 6, 8, 2, 3, 6, 7, 6, 7, 1, 8, 1, 2, 4, 7, 6, 4, 1, 8, 1, 2, 3, 6, 8, 1, 1, 6, 1, 2, 3, 4, 5, 7, 8, 3, 6, 4, 1, 2, 3, 4, 6, 7, 8, 8, 1, 2, 3, 4, 5, 6, 7, 8, 5, 1, 2, 3, 4, 5, 8, 3, 4, 5, 6, 1, 2, 3, 1, 2, 3, 4, 6, 7, 8, 2, 4, 5, 5, 6, 3, 8, 2, 3, 4, 6, 3, 5, 6, 5, 8, 1, 2, 4, 5, 6, 8, 7, 8, 1, 2, 6, 7, 8, 3, 5, 7, 1, 2, 3, 4, 5, 6, 7, 8, 2, 3, 6, 4, 4, 5, 7, 8, 7, 7, 2, 7, 1, 2, 3, 4, 5, 7, 1, 2, 3, 4, 6, 7, 5, 2, 3, 5, 6, 1, 3, 4, 5, 6, 1, 5, 6, 7, 8, 3, 1, 2, 3, 4, 5, 6, 5, 1, 5, 1, 3, 6, 8, 5, 2, 1, 4, 5, 6, 7, 8, 4, 4, 7, 6, 1, 4, 5, 3, 3, 4, 5, 8, 4, 2, 3, 4, 8, 2, 4, 7, 8, 1, 2, 3, 4, 5, 7, 1, 1, 1, 1, 2, 4, 5, 6, 7, 8, 2, 8, 8, 5, 6, 5, 3, 4, 1, 5, 3, 4, 6, 1, 1, 2, 3, 5, 6, 7, 8, 5, 5, 1, 2, 3, 4, 5, 6, 7, 1, 5, 1, 2, 5, 7, 1, 3, 5, 7, 1, 2, 3, 4, 5, 6, 7, 8, 2, 1, 2, 3, 4, 5, 6, 7, 1, 2, 7, 3, 6, 7, 3, 4, 5, 8, 2, 3, 4, 5, 6, 7, 8, 2, 3, 4, 8, 6, 2, 8, 1, 3, 7, 7, 6, 3, 4, 4, 6, 2, 6, 3, 4, 5, 6, 2, 4, 1, 3, 4, 5, 7, 8, 6, 5, 1, 8, 2, 4, 8, 8, 3, 6, 1, 2, 6, 7, 4, 4, 5, 4, 1, 4, 7, 5, 2, 4, 1, 2, 3, 4, 5, 6, 7, 8, 4, 2, 5, 8, 1, 2, 3, 4, 6, 7, 3, 2, 3, 7, 8, 1, 2, 3, 4, 5, 6, 7, 8, 1, 2, 3, 4, 5, 8, 4, 1, 2, 3, 5, 6, 8, 1, 2, 3, 4, 5, 7, 8, 2, 1, 2, 3, 4, 6, 7, 6, 1, 2, 3, 4, 5, 7, 8, 7, 1, 2, 3, 4, 5, 6, 8, 4, 1, 2, 3, 5, 6, 3, 5, 1, 2, 1, 7, 1, 1, 2, 4, 5, 6, 7, 2, 3, 4, 5, 6, 8, 1, 3, 4, 5, 6, 7, 8, 1, 2, 3, 4, 5, 6, 7, 8, 1, 2, 3, 1, 7, 4, 1, 2, 3, 4, 5, 6, 7, 1, 6, 7, 4, 5, 6, 1, 2, 4, 5, 7, 6, 1, 2, 3, 4, 5, 1, 2, 3, 4, 5, 6, 7, 5, 1, 5, 1, 2, 3, 4, 5, 6, 7, 1, 2, 3, 4, 5, 6, 7, 8, 2, 5, 6, 8, 2, 1, 1, 2, 4, 8, 2, 1, 2, 3, 4, 5, 7, 1, 2, 3, 4, 5, 6, 8, 1, 2, 3, 4, 5, 7, 8, 1, 2, 3, 5, 8, 1, 6, 7, 1, 2, 3, 4, 5, 6, 7, 7, 3, 6, 3, 3], \"Freq\": [0.1295439989492098, 0.018506285564172827, 0.8327828503877773, 0.846680175042008, 0.1481690306323514, 0.23323327424799586, 0.19169858157369524, 0.11821412530377873, 0.08945933806772444, 0.00958492907868476, 0.06070455083167015, 0.05750957447210857, 0.2428182033266806, 0.9879244838432747, 0.9926044021774193, 0.9694917241013369, 0.1092432804440375, 0.7881122374891276, 0.1014401889837491, 0.9644762755884061, 0.9595469629164859, 0.9726512510176886, 0.9924255904840419, 0.9993641438772266, 0.9818206741730737, 0.07568119813860408, 0.9223646023142371, 0.1583148858176217, 0.43694908485663597, 0.04432816802893408, 0.3609579396641775, 0.9815501893855398, 0.01971161828522782, 0.9855809142613909, 0.9648110952202746, 0.9954683016168402, 0.9916487472144422, 0.09065486277567043, 0.08498893385219103, 0.7649004046697192, 0.005665928923479402, 0.050993360311314614, 0.11725558516091508, 0.003908519505363836, 0.10943854615018742, 0.003908519505363836, 0.40453176880515707, 0.17979189724673647, 0.025405376784864934, 0.15438652046187154, 0.039472774466588055, 0.07894554893317611, 0.1635300656472934, 0.6202864559035266, 0.03383380668564691, 0.06766761337129382, 0.2346520406051746, 0.7466201291982828, 0.9635241694249482, 0.9793300810534142, 0.967272854506079, 0.9617391460294086, 0.3082157148279319, 0.0041650772274044855, 0.07497139009328073, 0.6039361979736504, 0.008330154454808971, 0.5124209531369726, 0.21126127015296234, 0.16181714309588605, 0.10787809539725737, 0.1742977610939908, 0.4676281395204631, 0.012753494714194449, 0.06376747357097225, 0.06801863847570373, 0.04251164904731483, 0.1742977610939908, 0.949396680521444, 0.8499958865163111, 0.14350579902223434, 0.4154309050111227, 0.5783449854076415, 0.9888723753829889, 0.9767966636453475, 0.9481196236143121, 0.969276416042017, 0.9922892421706964, 0.996172751558344, 0.9842382603936954, 0.9461264052708801, 0.9717723876429893, 0.1307880621055825, 0.029064013801240556, 0.2131361012090974, 0.15985207590682304, 0.31001614721323256, 0.1307880621055825, 0.024220011501033794, 0.9909528343613121, 0.9741815556876919, 0.12269620083831888, 0.5919553549217139, 0.0021525649269880506, 0.18081545386699624, 0.08610259707952202, 0.008610259707952202, 0.010762824634940252, 0.9801702943987479, 0.9663494017059306, 0.9716584047036301, 0.09281050556657645, 0.19276028079212032, 0.5140274154456542, 0.19989955045108773, 0.8363453673766109, 0.15487877173640943, 0.9837435284448841, 0.9721370081985664, 0.6719332757141419, 0.2132095971016027, 0.08399165946426773, 0.03230448440933374, 0.9923038014772027, 0.9541927670586039, 0.03180642556862013, 0.09762210245661651, 0.8981233426008719, 0.9859817045742902, 0.11665007634960634, 0.04666003053984254, 0.6299104122878743, 0.20219346567265098, 0.9665687866484739, 0.9895889732352584, 0.1379160740214249, 0.8471987404173242, 0.03350825768016764, 0.9717394727248615, 0.0652077854310273, 0.6334470584728367, 0.29809273339898196, 0.9902353065437525, 0.9760227106172804, 0.11376148833570278, 0.05749236507288205, 0.0905198939445377, 0.003669725430183961, 0.16146791892809428, 0.04403670516220753, 0.1027523120451509, 0.42568814990133946, 0.9782241219614931, 0.9669975310912741, 0.1392485096017912, 0.12318137387850758, 0.23565132394149277, 0.11246995006298519, 0.026778559538805997, 0.34276556209671677, 0.010711423815522399, 0.0053557119077611995, 0.9522285132045735, 0.9532302393506086, 0.9881633407933952, 0.9461524188814744, 0.03504268218079535, 0.950096465974, 0.998364929898772, 0.9911262615034582, 0.9851055243391716, 0.9589708487437119, 0.9887136888451467, 0.31182792504164614, 0.11910094359229541, 0.14941754741578878, 0.14075566060907638, 0.2771803778147966, 0.9487935621635158, 0.9716879218715949, 0.9648982360679952, 0.972906977585799, 0.99732634554661, 0.1025090436503347, 0.02050180873006694, 0.8815777753928784, 0.971791351240651, 0.9888543547383646, 0.9944657594410897, 0.9898690997544387, 0.061725544352138256, 0.5199909493907404, 0.04489130498337328, 0.05798460227019048, 0.12906250182719817, 0.12906250182719817, 0.02244565249168664, 0.035538949778503845, 0.8803884203526339, 0.11546077643968969, 0.9436367733891037, 0.7087889797059848, 0.28351559188239395, 0.9680978777219567, 0.9610233384391111, 0.9576582044292373, 0.9657236605813891, 0.2010126284846825, 0.7839492510902617, 0.98656398827256, 0.15120429441230934, 0.8316236192677015, 0.14315861380078002, 0.09543907586718667, 0.2181464591249981, 0.013634153695312382, 0.5180978404218706, 0.10438837003792335, 0.8977399823261408, 0.7662210169736435, 0.18807243143898522, 0.04179387365310783, 0.07383917997805144, 0.1916978710968643, 0.14341840726506144, 0.011359873842777144, 0.03691958998902572, 0.47143476447525146, 0.07099921151735715, 0.22824530544200886, 0.7662520968410297, 0.9754364256526326, 0.05967595892811921, 0.8951393839217882, 0.6822651534613052, 0.1473072490427818, 0.16281327525781147, 0.12543932564226662, 0.5755451411821645, 0.04427270316785881, 0.25087865128453324, 0.9748677757046775, 0.9537560500598247, 0.4541279064619217, 0.23985628862425443, 0.04477317387652749, 0.10873485084299533, 0.14711185702287605, 0.006396167696646784, 0.9678935707850368, 0.1531612127927308, 0.11781631753286984, 0.1531612127927308, 0.12174352811729883, 0.44377479604047637, 0.015708842337715977, 0.09679785416373092, 0.23047108134221647, 0.41484794641598965, 0.21203339483483916, 0.027656529761065977, 0.013828264880532988, 0.6134879021579696, 0.053136747431005237, 0.13042656187610377, 0.08695104125073584, 0.08212042784791718, 0.033814293819730605, 0.7925143864397252, 0.17370178332925484, 0.021712722916156856, 0.9757026039863709, 0.9768856996451444, 0.9868585296035878, 0.9472385324968015, 0.9472301699612335, 0.9945706815907559, 0.2873437161946502, 0.15728287623286116, 0.2056776073814338, 0.26314635062036384, 0.006049341393571583, 0.08166610881321637, 0.9313747252760491, 0.980178315220575, 0.05715952273799225, 0.9374161729030729, 0.9866568543347797, 0.9802369656063297, 0.06424621602535398, 0.20756469792806667, 0.46454956202948255, 0.08895629911202858, 0.1630865483720524, 0.014826049852004763, 0.08510591727776023, 0.9095694909060625, 0.979783930437724, 0.007948549907484427, 0.24243077217827502, 0.34576192097557257, 0.15897099814968854, 0.10333114879729755, 0.13909962338097748, 0.06954612321003018, 0.06375061294252767, 0.8635310298578747, 0.9920026093266541, 0.012489737001555281, 0.9866892231228671, 0.9913343411322295, 0.7527929506132008, 0.23002006824292248, 0.5516447962399333, 0.10829836490599919, 0.07107080196956198, 0.11506701271262414, 0.06430215416293703, 0.08799242148612435, 0.03908144804895584, 0.6085539767623123, 0.08932902411189905, 0.09491208811889275, 0.050247576062943215, 0.0614137040769306, 0.050247576062943215, 0.24825965441161504, 0.07355841612196001, 0.60685693300617, 0.06436361410671501, 0.9460837751489868, 0.7221522563526491, 0.13050944391915345, 0.00870062959461023, 0.13050944391915345, 0.981257111975079, 0.34257617162184995, 0.17245331088446866, 0.1491488094135945, 0.10953115691310848, 0.1615778768647274, 0.0629221539713602, 0.0007768167156958049, 0.022395657942526723, 0.5897523258198704, 0.2090261407969161, 0.022395657942526723, 0.12690872834098477, 0.022395657942526723, 0.0949008786443414, 0.035587829491628024, 0.03262217703399235, 0.1126947933901554, 0.3380843801704662, 0.11566044584779107, 0.1423513179665121, 0.12752305567833375, 0.9628345001472443, 0.09884941985179588, 0.12861053550610002, 0.2354316827652988, 0.01169186686419091, 0.0722769951604529, 0.33162386014796036, 0.12170170508635085, 0.9642266054030476, 0.998659784200691, 0.9363072726613585, 0.9991521520623898, 0.0009764256106462269, 0.14451099037564158, 0.0039057024425849076, 0.8504667068728636, 0.9719611730743277, 0.00467185078379371, 0.8191311707584971, 0.01868740313517484, 0.13081182194622387, 0.023359253918968547, 0.003114567189195806, 0.9586002568126812, 0.9452893781064261, 0.06201477243570597, 0.07113459191154509, 0.6092039409860528, 0.0966700864438946, 0.003647927790335645, 0.00729585558067129, 0.016415675056510405, 0.13314936434725105, 0.9733859277221474, 0.5910583717556419, 0.06953627903007552, 0.11009910846428624, 0.1970194572518806, 0.03476813951503776, 0.20928857231915407, 0.3366816163395087, 0.14923185156670118, 0.10009453458742151, 0.16925075848418547, 0.03457811194838198, 0.9959882716935029, 0.12320299009429103, 0.8624209306600372, 0.09083002350495822, 0.20761148229704735, 0.7006887527525348, 0.2126449292875536, 0.007875738121761245, 0.5828046210103321, 0.05513016685232871, 0.1417632861917024, 0.008774757087276538, 0.004387378543638269, 0.24569319844374304, 0.7370795953312291, 0.7196549915126208, 0.07996166572362454, 0.07329819357998915, 0.11994249858543679, 0.9440371425462178, 0.9758781800148814, 0.009864271358998951, 0.019728542717997902, 0.18742115582098007, 0.6806347237709276, 0.009864271358998951, 0.09864271358998951, 0.7128660433142713, 0.28361337207126924, 0.4996923408102657, 0.048989445177477026, 0.44580395111504095, 0.998637710256632, 0.2671339553986967, 0.729203499872118, 0.9617801633677081, 0.9798704435027443, 0.9592968335475562, 0.9849546734329723, 0.966470456402417, 0.9781598284580549, 0.18764513290595533, 0.1434933369280835, 0.6512389906736097, 0.18221973406320374, 0.806973107994188, 0.9622637278310041, 0.9915510054581966, 0.9905854404276506, 0.07066188358045222, 0.22965112163646972, 0.7066188358045222, 0.9631088642188614, 0.0045130994021893465, 0.1760108766853845, 0.8168709917962718, 0.9463561913791074, 0.9861848542323584, 0.9861817057429257, 0.9674770029091125, 0.02545992112918717, 0.9796356378837717, 0.9712863571364272, 0.9499120735244179, 0.9825034410995135, 0.9468802241897722, 0.9897145038500218, 0.9917685985831736, 0.1535980145535738, 0.10335567334446087, 0.018661441020527657, 0.2153243194676268, 0.5052944030173643, 0.004306486389352536, 0.9942442873595022, 0.18964264187747398, 0.15386101133455435, 0.010734489162875884, 0.4973646645465827, 0.10734489162875885, 0.04293795665150354, 0.02355406218761889, 0.8479462387542801, 0.11777031093809445, 0.9521429584519745, 0.1388411815863348, 0.18690159059698913, 0.5500246808997109, 0.010680090891256521, 0.08544072713005217, 0.021360181782513043, 0.0873716368159667, 0.9064807319656545, 0.9385151187945794, 0.9743959256315773, 0.10752603940683629, 0.05549731066159292, 0.16302335006842922, 0.2358635703117699, 0.0034685819163495575, 0.048560146828893806, 0.38501259271480087, 0.583145192677564, 0.14046563035298987, 0.05959147954369267, 0.21282671265604525, 0.6276258908398151, 0.19017286268379557, 0.0526717841252495, 0.01940539415140771, 0.10035360975442273, 0.009979916992152537, 0.9560084689225463, 0.019770652973881676, 0.5486356200252165, 0.04942663243470419, 0.16805055027799423, 0.09391060162593795, 0.11862391784329004, 0.16661856285551, 0.8145796406269378, 0.06098100487821829, 0.8384888170755015, 0.09147150731732744, 0.08138456983184855, 0.12520703051053622, 0.018781054576580435, 0.006260351525526812, 0.6197748010271543, 0.15024843661264348, 0.9932162201762954, 0.07819610831437976, 0.001503771313738072, 0.5037633901022542, 0.004511313941214216, 0.001503771313738072, 0.12330924772652192, 0.28571654961023374, 0.9874378056597038, 0.9922385549556896, 0.1650783789530926, 0.18442350148665815, 0.05868020501848214, 0.573905301829111, 0.001934512253356554, 0.00644837417785518, 0.009672561266782771, 0.9801952566978965, 0.6665947591035422, 0.006409564991380214, 0.08973390987932299, 0.2307443396896877, 0.2376570659831423, 0.1615145108623297, 0.11767485791398308, 0.35533192389712537, 0.002307350155176139, 0.025380851706937525, 0.08767930589669327, 0.011536750775880693, 0.9504825234543846, 0.9549732402923204, 0.1991391322099024, 0.04291791642454793, 0.07381881625022245, 0.16480479907026407, 0.14592091584346298, 0.12188688264571614, 0.05493493302342135, 0.19570569889593858, 0.9645859730011358, 0.1429726690239425, 0.8374113471402347, 0.239430618728068, 0.19736848300556956, 0.36238147699383266, 0.10030201595365011, 0.06471097803461297, 0.03559103791903714, 0.0032355489017306485, 0.9674965915442859, 0.5150471203471035, 0.1892009829846503, 0.10300942406942071, 0.15136078638772024, 0.02943126401983449, 0.008408932577095568, 0.002102233144273892, 0.9913383347889824, 0.08959821957584152, 0.6061056030130455, 0.07378676906245772, 0.1054096700892253, 0.005270483504461266, 0.11595063709814785, 0.16378180039359722, 0.17449649761560826, 0.31225689047003585, 0.17755783967903999, 0.1285763666641324, 0.021429394444022067, 0.01683738134887448, 0.0061226841268634475, 0.9918452618905487, 0.13841297987793075, 0.10647152298302365, 0.07719185416269214, 0.11179509913217482, 0.03460324496948269, 0.36466496621685596, 0.16503086062368666, 0.05457067323404619, 0.10459379036525521, 0.2364729173475335, 0.6002774055745081, 0.21376969237207594, 0.10688484618603797, 0.06801762939111507, 0.6121586645200356, 0.19849341416453087, 0.05046442732996548, 0.21867918509651707, 0.47100132174634446, 0.05719301764062754, 0.2605740342664916, 0.2605740342664916, 0.00469502764444129, 0.11268066346659096, 0.31691436599978706, 0.011737569111103225, 0.03286519351108903, 0.04306150483896539, 0.10047684462425258, 0.4066919901457843, 0.29186131057520986, 0.15789218440953978, 0.24221123728206856, 0.034601605326009796, 0.051902407989014694, 0.6660809025256885, 0.9557272130213904, 0.0492445916986277, 0.034575989916057745, 0.439010296206915, 0.09953694066743897, 0.16554564868900376, 0.11525329972019249, 0.09639366885688827, 0.7807642719995325, 0.18796176918507262, 0.028917195259241944, 0.14577052100246488, 0.13188761424032538, 0.02082436014320927, 0.7010867914880454, 0.14196773413873967, 0.851806404832438, 0.920386182791096, 0.08181210513698631, 0.85624528875161, 0.053515330546975624, 0.07135377406263417, 0.9387519978180618, 0.993031122227688, 0.9879025174130881, 0.03589438817720016, 0.933254092607204, 0.0788853513294925, 0.02629511710983083, 0.24542109302508777, 0.14024062458576445, 0.5083722641233961, 0.9893684290153829, 0.1992600169502358, 0.7970400678009432, 0.0984521155807595, 0.17303705162678942, 0.032817371860253165, 0.17602044906863062, 0.005966794883682395, 0.07756833348787112, 0.4355760265088148, 0.9860669624231578, 0.9992927626461162, 0.9691993446792071, 0.06295127488940246, 0.31475637444701227, 0.05245939574116871, 0.04721345616705184, 0.11016473105645429, 0.13114848935292178, 0.28328073700231104, 0.9951208663898028, 0.19994457488429956, 0.0736637907468472, 0.303424661885823, 0.20520627422336007, 0.10523398678121029, 0.10874178634058397, 0.0017538997796868383, 0.0035077995593736765, 0.969502518309552, 0.2065899276107046, 0.15337737049885644, 0.21285022844739263, 0.09703466296866428, 0.3192753426710889, 0.006260300836688018, 0.039135516584365614, 0.07827103316873123, 0.2152453412140109, 0.6680991759759559, 0.10503643746887283, 0.30760670973027043, 0.5852030087551486, 0.003615989832330011, 0.018079949161650056, 0.0976317254729103, 0.10486370513757032, 0.7195819766336722, 0.054239847484950164, 0.003615989832330011, 0.5704120756372656, 0.23088107823413134, 0.1969279784938179, 0.979322029558912, 0.034975786769961145, 0.9981024305783867, 0.9521160491681038, 0.25081813814437254, 0.01791558129602661, 0.1552683712322306, 0.5732986014728515, 0.22847510483692646, 0.7006569881665745, 0.060926694623180386, 0.9599698349214992, 0.951005456484221, 0.19212440354605514, 0.27780150242470136, 0.129813786179767, 0.27520522670110603, 0.0908696503258369, 0.03115530868314408, 0.8437039607515529, 0.15606430457558845, 0.011633369895850289, 0.12098704691684302, 0.8236425886262005, 0.013960043875020348, 0.027920087750040696, 0.983696275412921, 0.0008958982471884527, 0.015230270202203695, 0.1308384445622121, 0.13767328868113363, 0.08885297354597986, 0.20113969835683354, 0.3427186122487795, 0.005858437816218452, 0.09178219245408908, 0.0009764063027030754, 0.8218942622905328, 0.1517343253459445, 0.012644527112162043, 0.9832995526992558, 0.11058199881560658, 0.6634919928936395, 0.1263794272178361, 0.10268328461449183, 0.9460580249007506, 0.9666294475619369, 0.9895821279151658, 0.9519606087316871, 0.7414695853689918, 0.017469178712882005, 0.09510997299235759, 0.0019410198569868894, 0.13975342970305604, 0.0019410198569868894, 0.007820056543486944, 0.3167122900112212, 0.05865042407615208, 0.18768135704368663, 0.3440824879134255, 0.08602062197835637, 0.9833757120004576, 0.04666590530763908, 0.01999967370327389, 0.13333115802182594, 0.7933203902298643, 0.07518650728884319, 0.08592743690153506, 0.31685742357441055, 0.091297901707881, 0.43500764931402125, 0.9922887314314376, 0.15125608664804244, 0.06981050152986575, 0.25597183894284103, 0.5235787614739931, 0.9912908643260762, 0.3712181753267553, 0.2738494736017047, 0.05629128068479485, 0.1110611754051358, 0.17495938591220023, 0.013692473680085235, 0.9813167808322069, 0.08081743697283225, 0.9069512371395619, 0.1733094560106382, 0.078777025459381, 0.05251801697292067, 0.6984896257398449, 0.9881575522317406, 0.9544116907316461, 0.07159884744813899, 0.4885568414108307, 0.15583278562242014, 0.004211696908714058, 0.21479654234441695, 0.06738715053942493, 0.9900551234381259, 0.202648943574988, 0.7880792250138423, 0.9785806502665904, 0.9558311489190544, 0.7917500587870051, 0.19793751469675128, 0.9898462306924612, 0.05407276018201014, 0.2703638009100507, 0.10814552036402028, 0.5731712579293076, 0.9793916161672822, 0.9179911745596668, 0.08606167261496876, 0.9776206152737543, 0.9882489259788457, 0.8432111218972582, 0.12339674954594024, 0.020566124924323373, 0.98771260965742, 0.02819683386717614, 0.007049208466794035, 0.5216414265427586, 0.2960667556053495, 0.13393496086908668, 0.007049208466794035, 0.9916711717449487, 0.9850254548472838, 0.9750475329917372, 0.08314317561907879, 0.13122597597710026, 0.03806555028343366, 0.010017250074587807, 0.0010017250074587805, 0.0010017250074587805, 0.7352661554747449, 0.9715271213153837, 0.9863627581062724, 0.9912544098689093, 0.961436542252733, 0.9859085192593373, 0.9474433385948152, 0.9255308896781583, 0.038563787069923264, 0.9209569079660704, 0.06279251645223208, 0.14561247796875268, 0.7765998825000142, 0.07280623898437634, 0.9634321562628768, 0.040404645039854525, 0.10979523108656121, 0.04918826352677942, 0.010540342184309876, 0.0008783618486924897, 0.02108068436861975, 0.7685666176059285, 0.966406157570999, 0.9674708402648039, 0.9844627963519317, 0.19040529012674065, 0.19040529012674065, 0.45697269630417753, 0.06981527304647157, 0.05712158703802219, 0.03173421502112344, 0.9319965488039798, 0.05917438405104633, 0.7598647769384095, 0.1982255939839329, 0.022025065998214768, 0.011012532999107384, 0.5205921617912591, 0.22981095430424953, 0.1922907984994741, 0.05628023370716315, 0.18517683234773552, 0.06172561078257851, 0.64126051201901, 0.010287601797096417, 0.0034292005990321393, 0.06515481138161064, 0.030862805391289255, 0.951852724577963, 0.9958318259776243, 0.6369939584982887, 0.06511493797982507, 0.11041228613970337, 0.0990879490997338, 0.02406421620993535, 0.03963517963989352, 0.025479758339931546, 0.01962429957567748, 0.22240872852434476, 0.7522648170676367, 0.14410881951480653, 0.597022252275627, 0.25390601533561147, 0.9521743399827983, 0.8309911495230279, 0.11541543743375386, 0.05193694684518924, 0.3541613192720641, 0.19522062964752804, 0.21076917537166742, 0.07083226385441282, 0.03282470763984985, 0.048373253363989246, 0.08810842577012327, 0.01064004031098413, 0.053200201554920654, 0.7980030233238098, 0.12768048373180957, 0.9689966622342432, 0.193233254699371, 0.7922563442674211, 0.9584477993446354, 0.9926795380919491, 0.9783634535987852, 0.9871067551812183, 0.9915464762377305, 0.08310245967866543, 0.9141270564653197, 0.9535357857173439, 0.9821617993029761, 0.9275615407422992, 0.06324283232333858, 0.7508736210001351, 0.09832868846430341, 0.008938971678573037, 0.13408457517859557, 0.9657693969310719, 0.9792274225626312, 0.44396042844822, 0.28998571337947315, 0.21556460109624553, 0.01796371675802046, 0.00256624525114578, 0.02822869776260358, 0.9933429561877457, 0.9966973498314867, 0.18899650049783645, 0.8091412677563623, 0.2766220506527318, 0.22744479720335725, 0.4917725344937454, 0.9663440933359706, 0.9624868704642848, 0.976171643276204, 0.2018299168563664, 0.09029233122521654, 0.005311313601483326, 0.701093395395799, 0.9904702075092624, 0.9976536511816376, 0.9776015986886832, 0.995491690888585, 0.06327673483798464, 0.7888499609802085, 0.14764571462196419, 0.9523890374094938, 0.9884994525875688, 0.9502074687452947, 0.15007340287863782, 0.1091442930026457, 0.1091442930026457, 0.12278732962797641, 0.229982617398432, 0.06431717266227335, 0.09355225114512489, 0.12278732962797641, 0.9894673869895951, 0.9382407862672119, 0.05896048656870457, 0.9583142967627634, 0.6465658280113535, 0.19586521825751102, 0.11372819124629671, 0.012636465694032968, 0.023166853772393775, 0.006318232847016484, 0.9771730759324028, 0.24967839837520794, 0.09198677834876082, 0.657048416776863, 0.999528453003936, 0.2962290247769603, 0.19699959775807702, 0.07588132654385189, 0.3064438187347865, 0.0612887637469573, 0.013133306517205135, 0.016051819076584053, 0.03648140699223649, 0.3250144971533416, 0.09286128490095474, 0.4570231864733263, 0.11835261801102075, 0.0018208095078618577, 0.004552023769654644, 0.9724511322649484, 0.20189266971785977, 0.11104096834482287, 0.010094633485892988, 0.07066243440125092, 0.07066243440125092, 0.5249209412664354, 0.24425819886047273, 0.3757818444007273, 0.13528146398426183, 0.11273455332021819, 0.09018764265617454, 0.030062547552058182, 0.011273455332021818, 0.9817357349259277, 0.11667830813140587, 0.2064308528478719, 0.08975254471646606, 0.21989373455534184, 0.3006710248001613, 0.06731440853734953, 0.9793153238673754, 0.1145406425013301, 0.24693177474312725, 0.23354390743777698, 0.09669015276086308, 0.04016360191605082, 0.04908884678628433, 0.2186684993207211, 0.9505950138236366, 0.1950867861147462, 0.402366496361664, 0.027434079297386182, 0.051819927561729456, 0.13107393442084508, 0.10363985512345891, 0.08839869995824437, 0.9825761511090393, 0.19770944918244948, 0.006083367667152292, 0.6022533990480768, 0.1125423018423174, 0.07908377967297979, 0.9636236370650704, 0.9940863573307532, 0.22030330482874289, 0.7637181234063087, 0.9312625994270148, 0.06651875710192963, 0.9959262855563581, 0.20618919597718505, 0.15160970292440076, 0.10309459798859252, 0.12128776233952061, 0.15160970292440076, 0.2728974652639214, 0.22826742228828845, 0.2216509752654395, 0.27789077495965553, 0.07939736427418728, 0.18195229312834588, 0.006616447022848941, 0.09257748553384276, 0.010286387281538084, 0.10080659535907323, 0.1460666993978408, 0.06377560114553613, 0.5760376877661327, 0.008229109825230467, 0.23552904726470092, 0.020106138181133004, 0.0517014981800563, 0.12925374545014076, 0.15223218908572134, 0.04308458181671358, 0.10627530181456017, 0.2613797963547291, 0.027161642583021537, 0.036215523444028716, 0.9325497286837394, 0.043770121823838104, 0.9629426801244383, 0.9644553664362809, 0.26158389768059825, 0.488077272501604, 0.009570142598070666, 0.09889147351339689, 0.015950237663451113, 0.057420855588424004, 0.06699099818649466, 0.984720433328146, 0.9823120876199919, 0.9740347883153837, 0.11943884889448428, 0.878453469288465, 0.9712092044879107, 0.29869804207207773, 0.01106289044711399, 0.13275468536536789, 0.04425156178845596, 0.5088929605672435, 0.9954858852463576, 0.31911723068508524, 0.03851414853095856, 0.06822506311198373, 0.4049487616969357, 0.16726144504873433, 0.04834267627718334, 0.11049754577641906, 0.041436579666157144, 0.034530483055130956, 0.6169446305850064, 0.11049754577641906, 0.036832515258806355, 0.9586944750904035, 0.9202718006766472, 0.07404485752570725, 0.00789527982975176, 0.6947846250181549, 0.1579055965950352, 0.1342197571057799, 0.7314439537589678, 0.22947261294398988, 0.0430261149269981, 0.1836525450209985, 0.06886970438287444, 0.20005009368358764, 0.122435030013999, 0.2350315308304445, 0.06340385482867805, 0.07542872384791009, 0.04919264598776746, 0.708352907063501, 0.11805881784391682, 0.014757352230489603, 0.15495219842014082, 0.9588588409624785, 0.992605320072286, 0.09373314606153273, 0.6936252808553421, 0.1968396067292187, 0.9374317818364861, 0.9788738014751939, 0.07848256627479923, 0.03139302650991969, 0.15696513254959846, 0.7141913531006729, 0.015696513254959844, 0.9512665656526051, 0.008131443037738694, 0.2211752506264925, 0.36591493669824127, 0.06017267847926634, 0.22930669366423118, 0.07806185316229147, 0.039030926581145736, 0.19216483741244758, 0.03504893260981748, 0.027797429311234554, 0.649009545223172, 0.07855795240131505, 0.01571159048026301, 0.9967537051946859, 0.1462163164433022, 0.16710436164948825, 0.5987906292439996, 0.02088804520618603, 0.0626641356185581, 0.9672850127350888, 0.9989933065757441, 0.9998574277195964, 0.050112796454388396, 0.6443073829849936, 0.07636235650192517, 0.007158970922055485, 0.03818117825096259, 0.011931618203425807, 0.16942897848864646, 0.995431840709678, 0.9923251146137831, 0.9962093346419478, 0.9925181285895182, 0.9551421993408523], \"Term\": [\"abl\", \"abl\", \"abl\", \"act\", \"act\", \"actual\", \"actual\", \"actual\", \"actual\", \"actual\", \"actual\", \"actual\", \"actual\", \"agent\", \"ago\", \"agre\", \"ah\", \"ah\", \"ah\", \"ahh\", \"air\", \"allow\", \"along\", \"alright\", \"american\", \"andi\", \"andi\", \"angela\", \"angela\", \"angela\", \"angela\", \"anim\", \"appreci\", \"appreci\", \"approv\", \"assist\", \"awkward\", \"babi\", \"babi\", \"babi\", \"babi\", \"babi\", \"back\", \"back\", \"back\", \"back\", \"back\", \"back\", \"back\", \"back\", \"bad\", \"bad\", \"bad\", \"bad\", \"bad\", \"bad\", \"bag\", \"bag\", \"basketbal\", \"battl\", \"beg\", \"bernard\", \"best\", \"best\", \"best\", \"best\", \"best\", \"better\", \"better\", \"better\", \"better\", \"big\", \"big\", \"big\", \"big\", \"big\", \"big\", \"big\", \"birth\", \"birthday\", \"birthday\", \"bit\", \"bit\", \"blah\", \"blood\", \"bob\", \"boob\", \"boom\", \"brain\", \"breakfast\", \"bride\", \"buck\", \"busi\", \"busi\", \"busi\", \"busi\", \"busi\", \"busi\", \"busi\", \"bye\", \"cake\", \"call\", \"call\", \"call\", \"call\", \"call\", \"call\", \"call\", \"cancel\", \"candi\", \"capabl\", \"car\", \"car\", \"car\", \"car\", \"card\", \"card\", \"carrot\", \"cat\", \"caus\", \"caus\", \"caus\", \"caus\", \"cell\", \"certain\", \"certain\", \"chair\", \"chair\", \"charact\", \"check\", \"check\", \"check\", \"check\", \"choos\", \"christma\", \"citi\", \"citi\", \"clean\", \"clean\", \"close\", \"close\", \"close\", \"cloth\", \"coffe\", \"come\", \"come\", \"come\", \"come\", \"come\", \"come\", \"come\", \"come\", \"committe\", \"common\", \"compani\", \"compani\", \"compani\", \"compani\", \"compani\", \"compani\", \"compani\", \"compani\", \"compar\", \"condo\", \"confus\", \"congratul\", \"congratul\", \"contract\", \"cool\", \"copi\", \"corner\", \"cost\", \"costum\", \"could\", \"could\", \"could\", \"could\", \"could\", \"counti\", \"cousin\", \"crack\", \"crap\", \"crazi\", \"creed\", \"creed\", \"creed\", \"cri\", \"dad\", \"darryl\", \"daughter\", \"day\", \"day\", \"day\", \"day\", \"day\", \"day\", \"day\", \"day\", \"dead\", \"dead\", \"deer\", \"definit\", \"definit\", \"deliv\", \"describ\", \"destroy\", \"devic\", \"dinner\", \"dinner\", \"diseas\", \"distract\", \"distract\", \"done\", \"done\", \"done\", \"done\", \"done\", \"door\", \"door\", \"dunder\", \"dunder\", \"dunder\", \"dwight\", \"dwight\", \"dwight\", \"dwight\", \"dwight\", \"dwight\", \"dwight\", \"easi\", \"easi\", \"egg\", \"eight\", \"eight\", \"els\", \"els\", \"els\", \"end\", \"end\", \"end\", \"end\", \"enemi\", \"especi\", \"even\", \"even\", \"even\", \"even\", \"even\", \"even\", \"event\", \"ever\", \"ever\", \"ever\", \"ever\", \"ever\", \"ever\", \"everybodi\", \"everybodi\", \"everybodi\", \"everybodi\", \"everybodi\", \"everybodi\", \"everyon\", \"everyon\", \"everyon\", \"everyon\", \"everyon\", \"everyon\", \"exactli\", \"exactli\", \"exactli\", \"exampl\", \"excel\", \"exercis\", \"fanci\", \"fantast\", \"fax\", \"feel\", \"feel\", \"feel\", \"feel\", \"feel\", \"feel\", \"fianc\", \"field\", \"fight\", \"fight\", \"file\", \"film\", \"find\", \"find\", \"find\", \"find\", \"find\", \"find\", \"fine\", \"fine\", \"finger\", \"first\", \"first\", \"first\", \"first\", \"first\", \"first\", \"five\", \"five\", \"five\", \"florida\", \"food\", \"food\", \"fool\", \"forgot\", \"forgot\", \"friend\", \"friend\", \"friend\", \"friend\", \"friend\", \"friend\", \"fun\", \"fun\", \"fun\", \"fun\", \"fun\", \"fun\", \"fun\", \"funni\", \"funni\", \"funni\", \"funni\", \"ga\", \"game\", \"game\", \"game\", \"game\", \"gentlemen\", \"get\", \"get\", \"get\", \"get\", \"get\", \"get\", \"get\", \"girl\", \"girl\", \"girl\", \"girl\", \"girl\", \"girl\", \"give\", \"give\", \"give\", \"give\", \"give\", \"give\", \"give\", \"give\", \"glass\", \"go\", \"go\", \"go\", \"go\", \"go\", \"go\", \"go\", \"goal\", \"god\", \"golden\", \"gon\", \"good\", \"good\", \"good\", \"good\", \"goodby\", \"got\", \"got\", \"got\", \"got\", \"got\", \"got\", \"grade\", \"grave\", \"great\", \"great\", \"great\", \"great\", \"great\", \"great\", \"great\", \"great\", \"grief\", \"guess\", \"guess\", \"guess\", \"guess\", \"guess\", \"guy\", \"guy\", \"guy\", \"guy\", \"guy\", \"guy\", \"ha\", \"hair\", \"hair\", \"halpert\", \"halpert\", \"halpert\", \"hand\", \"hand\", \"hand\", \"hand\", \"hand\", \"happen\", \"happen\", \"happen\", \"happen\", \"happi\", \"happi\", \"happi\", \"happi\", \"hawk\", \"hay\", \"hear\", \"hear\", \"hear\", \"hear\", \"hear\", \"hear\", \"hello\", \"hello\", \"help\", \"help\", \"help\", \"hey\", \"hi\", \"hi\", \"hide\", \"histori\", \"hm\", \"hmm\", \"hole\", \"hors\", \"hot\", \"hot\", \"hot\", \"hous\", \"hous\", \"hug\", \"huh\", \"hunt\", \"hurt\", \"hurt\", \"hurt\", \"hypothet\", \"idea\", \"idea\", \"idea\", \"imposs\", \"improv\", \"initi\", \"instead\", \"instead\", \"intern\", \"internet\", \"introduc\", \"isabel\", \"italian\", \"jerk\", \"jesu\", \"jim\", \"jim\", \"jim\", \"jim\", \"jim\", \"jim\", \"jo\", \"job\", \"job\", \"job\", \"job\", \"job\", \"job\", \"jump\", \"jump\", \"jump\", \"kati\", \"keep\", \"keep\", \"keep\", \"keep\", \"keep\", \"keep\", \"kelli\", \"kelli\", \"kept\", \"key\", \"kid\", \"kid\", \"kid\", \"kid\", \"kid\", \"kid\", \"kid\", \"kind\", \"kind\", \"kind\", \"kind\", \"know\", \"know\", \"know\", \"know\", \"know\", \"know\", \"la\", \"last\", \"last\", \"last\", \"last\", \"last\", \"last\", \"late\", \"late\", \"laugh\", \"laugh\", \"laugh\", \"leav\", \"leav\", \"leav\", \"leav\", \"leav\", \"leav\", \"lesson\", \"let\", \"let\", \"let\", \"let\", \"let\", \"let\", \"let\", \"letter\", \"lice\", \"like\", \"like\", \"like\", \"like\", \"like\", \"like\", \"like\", \"list\", \"listen\", \"listen\", \"listen\", \"listen\", \"littl\", \"littl\", \"littl\", \"littl\", \"littl\", \"littl\", \"littl\", \"littl\", \"local\", \"lock\", \"look\", \"look\", \"look\", \"look\", \"look\", \"look\", \"look\", \"look\", \"loser\", \"lost\", \"lost\", \"lot\", \"lot\", \"lot\", \"lot\", \"lot\", \"lot\", \"lot\", \"loud\", \"love\", \"love\", \"love\", \"love\", \"love\", \"love\", \"love\", \"luck\", \"made\", \"made\", \"made\", \"made\", \"made\", \"made\", \"make\", \"make\", \"make\", \"make\", \"make\", \"make\", \"make\", \"make\", \"male\", \"man\", \"man\", \"man\", \"man\", \"man\", \"man\", \"man\", \"manag\", \"manag\", \"manag\", \"manag\", \"may\", \"may\", \"may\", \"may\", \"mayb\", \"mayb\", \"mayb\", \"mayb\", \"mayb\", \"mean\", \"mean\", \"mean\", \"mean\", \"mean\", \"mean\", \"mean\", \"meet\", \"meet\", \"meet\", \"meet\", \"meet\", \"meredith\", \"meredith\", \"meredith\", \"meredith\", \"mess\", \"michael\", \"michael\", \"michael\", \"michael\", \"michael\", \"michael\", \"michael\", \"mifflin\", \"mifflin\", \"mifflin\", \"minut\", \"minut\", \"minut\", \"minut\", \"miss\", \"miss\", \"mom\", \"mom\", \"moment\", \"moment\", \"moment\", \"mommi\", \"mon\", \"monkey\", \"monster\", \"monster\", \"morn\", \"morn\", \"morn\", \"morn\", \"morn\", \"mose\", \"move\", \"move\", \"much\", \"much\", \"much\", \"much\", \"much\", \"much\", \"much\", \"murder\", \"na\", \"nake\", \"name\", \"name\", \"name\", \"name\", \"name\", \"name\", \"name\", \"neck\", \"need\", \"need\", \"need\", \"need\", \"need\", \"need\", \"need\", \"need\", \"nelli\", \"never\", \"never\", \"never\", \"never\", \"never\", \"never\", \"new\", \"new\", \"new\", \"new\", \"next\", \"next\", \"next\", \"nice\", \"nice\", \"nice\", \"nice\", \"nice\", \"nice\", \"nice\", \"night\", \"night\", \"night\", \"none\", \"none\", \"nope\", \"nose\", \"noth\", \"noth\", \"noth\", \"noth\", \"number\", \"number\", \"number\", \"nut\", \"obviou\", \"offic\", \"offic\", \"offic\", \"offic\", \"offic\", \"offic\", \"oh\", \"oh\", \"ok\", \"ok\", \"ok\", \"ok\", \"ok\", \"okay\", \"okay\", \"okay\", \"one\", \"one\", \"one\", \"one\", \"one\", \"one\", \"one\", \"one\", \"open\", \"open\", \"open\", \"opportun\", \"oscar\", \"oscar\", \"oscar\", \"oscar\", \"other\", \"pack\", \"pain\", \"paint\", \"pam\", \"pam\", \"pam\", \"pam\", \"pam\", \"pam\", \"paper\", \"paper\", \"paper\", \"paper\", \"paper\", \"paper\", \"parent\", \"part\", \"part\", \"part\", \"part\", \"parti\", \"parti\", \"parti\", \"parti\", \"parti\", \"passion\", \"pay\", \"pay\", \"pay\", \"pay\", \"peni\", \"peopl\", \"peopl\", \"peopl\", \"peopl\", \"peopl\", \"peopl\", \"pete\", \"phone\", \"phone\", \"phylli\", \"phylli\", \"phylli\", \"phylli\", \"pick\", \"plastic\", \"pleas\", \"pleas\", \"pleas\", \"pleas\", \"pleas\", \"pleas\", \"polic\", \"pound\", \"pound\", \"prank\", \"prefer\", \"present\", \"present\", \"pressur\", \"pretti\", \"pretti\", \"pretti\", \"pretti\", \"printer\", \"prison\", \"prison\", \"promot\", \"proud\", \"pull\", \"pull\", \"pull\", \"punch\", \"question\", \"question\", \"question\", \"question\", \"question\", \"question\", \"quick\", \"rabi\", \"race\", \"realli\", \"realli\", \"realli\", \"realli\", \"realli\", \"realli\", \"realli\", \"recent\", \"record\", \"red\", \"refer\", \"region\", \"regret\", \"relax\", \"relax\", \"rememb\", \"rememb\", \"respect\", \"respect\", \"respect\", \"resum\", \"right\", \"right\", \"right\", \"right\", \"right\", \"right\", \"right\", \"road\", \"robert\", \"roof\", \"room\", \"room\", \"room\", \"room\", \"room\", \"room\", \"roy\", \"roy\", \"run\", \"run\", \"run\", \"run\", \"ryan\", \"ryan\", \"ryan\", \"ryan\", \"said\", \"said\", \"said\", \"said\", \"said\", \"said\", \"said\", \"salad\", \"saw\", \"say\", \"say\", \"say\", \"say\", \"say\", \"say\", \"say\", \"schrute\", \"schrute\", \"schrute\", \"scott\", \"scott\", \"scott\", \"search\", \"second\", \"second\", \"second\", \"see\", \"see\", \"see\", \"see\", \"see\", \"see\", \"see\", \"seem\", \"seem\", \"seem\", \"seem\", \"sensei\", \"seriou\", \"seriou\", \"sexual\", \"shark\", \"sheriff\", \"shh\", \"shirt\", \"shoe\", \"shoe\", \"shop\", \"shot\", \"shut\", \"shut\", \"sit\", \"sit\", \"sit\", \"sit\", \"situat\", \"smell\", \"someth\", \"someth\", \"someth\", \"someth\", \"someth\", \"someth\", \"somewher\", \"soon\", \"sorri\", \"sorri\", \"sound\", \"sound\", \"sound\", \"soup\", \"speed\", \"spirit\", \"stanley\", \"stanley\", \"stanley\", \"stanley\", \"stay\", \"stop\", \"stress\", \"stuck\", \"sure\", \"sure\", \"sure\", \"suspect\", \"ta\", \"tabl\", \"take\", \"take\", \"take\", \"take\", \"take\", \"take\", \"take\", \"take\", \"taken\", \"talk\", \"talk\", \"teeth\", \"tell\", \"tell\", \"tell\", \"tell\", \"tell\", \"tell\", \"temp\", \"ten\", \"ten\", \"ten\", \"thank\", \"thing\", \"thing\", \"thing\", \"thing\", \"thing\", \"thing\", \"thing\", \"thing\", \"think\", \"think\", \"think\", \"think\", \"think\", \"think\", \"third\", \"though\", \"though\", \"though\", \"though\", \"though\", \"though\", \"thought\", \"thought\", \"thought\", \"thought\", \"thought\", \"thought\", \"thought\", \"thousand\", \"three\", \"three\", \"three\", \"three\", \"three\", \"three\", \"threw\", \"time\", \"time\", \"time\", \"time\", \"time\", \"time\", \"time\", \"tire\", \"today\", \"today\", \"today\", \"today\", \"today\", \"today\", \"today\", \"trap\", \"tri\", \"tri\", \"tri\", \"tri\", \"tri\", \"trick\", \"truck\", \"true\", \"true\", \"trust\", \"trust\", \"truth\", \"turn\", \"turn\", \"turn\", \"turn\", \"turn\", \"turn\", \"two\", \"two\", \"two\", \"two\", \"two\", \"two\", \"uh\", \"uh\", \"uh\", \"uh\", \"uh\", \"uh\", \"uh\", \"um\", \"um\", \"um\", \"um\", \"um\", \"um\", \"um\", \"um\", \"understand\", \"understand\", \"understand\", \"unfortun\", \"unfortun\", \"urin\", \"us\", \"us\", \"us\", \"us\", \"us\", \"us\", \"us\", \"vacat\", \"visit\", \"volunt\", \"wait\", \"wait\", \"wake\", \"walk\", \"walk\", \"walk\", \"walk\", \"walk\", \"wan\", \"want\", \"want\", \"want\", \"want\", \"want\", \"way\", \"way\", \"way\", \"way\", \"way\", \"way\", \"way\", \"weak\", \"wed\", \"wed\", \"week\", \"week\", \"week\", \"week\", \"welcom\", \"welcom\", \"welcom\", \"well\", \"well\", \"well\", \"well\", \"well\", \"well\", \"well\", \"well\", \"went\", \"went\", \"went\", \"went\", \"wheel\", \"whoa\", \"whole\", \"whole\", \"whole\", \"whoo\", \"wire\", \"woman\", \"woman\", \"woman\", \"woman\", \"woman\", \"wood\", \"work\", \"work\", \"work\", \"work\", \"work\", \"work\", \"work\", \"would\", \"would\", \"would\", \"would\", \"would\", \"would\", \"wow\", \"wrong\", \"wrong\", \"wrong\", \"wrong\", \"wrong\", \"wrote\", \"ye\", \"yeah\", \"year\", \"year\", \"year\", \"year\", \"year\", \"year\", \"year\", \"yep\", \"yesterday\", \"york\", \"yup\", \"zero\"]}, \"R\": 30, \"lambda.step\": 0.01, \"plot.opts\": {\"xlab\": \"PC1\", \"ylab\": \"PC2\"}, \"topic.order\": [2, 6, 4, 3, 8, 1, 7, 5]};\n\nfunction LDAvis_load_lib(url, callback){\n  var s = document.createElement('script');\n  s.src = url;\n  s.async = true;\n  s.onreadystatechange = s.onload = callback;\n  s.onerror = function(){console.warn(\"failed to load library \" + url);};\n  document.getElementsByTagName(\"head\")[0].appendChild(s);\n}\n\nif(typeof(LDAvis) !== \"undefined\"){\n   // already loaded: just create the visualization\n   !function(LDAvis){\n       new LDAvis(\"#\" + \"ldavis_el13902416173610572648866617784\", ldavis_el13902416173610572648866617784_data);\n   }(LDAvis);\n}else if(typeof define === \"function\" && define.amd){\n   // require.js is available: use it to load d3/LDAvis\n   require.config({paths: {d3: \"https://d3js.org/d3.v5\"}});\n   require([\"d3\"], function(d3){\n      window.d3 = d3;\n      LDAvis_load_lib(\"https://cdn.jsdelivr.net/gh/bmabey/pyLDAvis@3.3.1/pyLDAvis/js/ldavis.v3.0.0.js\", function(){\n        new LDAvis(\"#\" + \"ldavis_el13902416173610572648866617784\", ldavis_el13902416173610572648866617784_data);\n      });\n    });\n}else{\n    // require.js not available: dynamically load d3 & LDAvis\n    LDAvis_load_lib(\"https://d3js.org/d3.v5.js\", function(){\n         LDAvis_load_lib(\"https://cdn.jsdelivr.net/gh/bmabey/pyLDAvis@3.3.1/pyLDAvis/js/ldavis.v3.0.0.js\", function(){\n                 new LDAvis(\"#\" + \"ldavis_el13902416173610572648866617784\", ldavis_el13902416173610572648866617784_data);\n            })\n         });\n}\n</script>"
     },
     "execution_count": 310,
     "metadata": {},
     "output_type": "execute_result"
    }
   ],
   "source": [
    "import os\n",
    "import pickle\n",
    "import pyLDAvis\n",
    "import pyLDAvis.gensim_models as gensimvis\n",
    "pyLDAvis.enable_notebook()\n",
    "\n",
    "# Visualize the topics\n",
    "num_topics = 8\n",
    "pyLDAvis.enable_notebook()\n",
    "LDAvis_data_filepath = os.path.join('./results/ldavis_prepared_'+str(num_topics))\n",
    "\n",
    "\n",
    "if 1 == 1:\n",
    "    LDAvis_prepared = gensimvis.prepare(lda_model, bow_corpus, dictionary)\n",
    "    with open(LDAvis_data_filepath, 'wb') as f:\n",
    "        pickle.dump(LDAvis_prepared, f)\n",
    "\n",
    "# load the pre-prepared pyLDAvis data from disk\n",
    "with open(LDAvis_data_filepath, 'rb') as f:\n",
    "    LDAvis_prepared = pickle.load(f)\n",
    "pyLDAvis.save_html(LDAvis_prepared, './results/ldavis_prepared_'+ str(num_topics) +'.html')\n",
    "LDAvis_prepared"
   ],
   "metadata": {
    "collapsed": false,
    "pycharm": {
     "name": "#%%\n"
    }
   }
  }
 ],
 "metadata": {
  "kernelspec": {
   "display_name": "Python 3",
   "language": "python",
   "name": "python3"
  },
  "language_info": {
   "codemirror_mode": {
    "name": "ipython",
    "version": 2
   },
   "file_extension": ".py",
   "mimetype": "text/x-python",
   "name": "python",
   "nbconvert_exporter": "python",
   "pygments_lexer": "ipython2",
   "version": "2.7.6"
  }
 },
 "nbformat": 4,
 "nbformat_minor": 0
}